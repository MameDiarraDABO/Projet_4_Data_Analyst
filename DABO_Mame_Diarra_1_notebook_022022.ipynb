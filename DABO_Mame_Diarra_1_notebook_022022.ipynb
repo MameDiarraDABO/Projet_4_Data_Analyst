{
 "cells": [
  {
   "cell_type": "markdown",
   "id": "db00f1cb-b7d4-4427-ad41-f6f6d77dc201",
   "metadata": {},
   "source": [
    "# 1. Les packages"
   ]
  },
  {
   "cell_type": "code",
   "execution_count": 1,
   "id": "c0958fad-46f6-4e3a-a19f-a28379b65b3c",
   "metadata": {},
   "outputs": [],
   "source": [
    "import pandas as pd\n",
    "import numpy as np\n",
    "import matplotlib_inline \n",
    "import matplotlib.pyplot as plt\n",
    "import seaborn as sns\n",
    "import missingno as msno\n",
    "\n",
    "import warnings\n",
    "warnings.filterwarnings('ignore')"
   ]
  },
  {
   "cell_type": "markdown",
   "id": "06368883-b3c2-497b-9755-58fff9083a23",
   "metadata": {},
   "source": [
    "# 2. Importation des données"
   ]
  },
  {
   "cell_type": "code",
   "execution_count": 2,
   "id": "d5ffe4e4-3f6c-4dda-a995-d4a7973911d3",
   "metadata": {},
   "outputs": [],
   "source": [
    "data_dispo = pd.read_csv(r\"C:\\Users\\diarr\\Downloads\\DAN-P4-FAO\\dispo_alimentaire.csv\")\n",
    "data_sous_nutrition = pd.read_csv(r\"C:\\Users\\diarr\\Downloads\\DAN-P4-FAO\\sous_nutrition.csv\")\n",
    "data_population = pd.read_csv(r\"C:\\Users\\diarr\\Downloads\\DAN-P4-FAO\\population.csv\")\n",
    "data_aide = pd.read_csv(r\"C:\\Users\\diarr\\Downloads\\DAN-P4-FAO\\aide_alimentaire.csv\")"
   ]
  },
  {
   "cell_type": "markdown",
   "id": "b0d7ba0a-fd84-480f-a524-de81de17a36a",
   "metadata": {},
   "source": [
    "## 2.1. Exploration et analyse des données"
   ]
  },
  {
   "cell_type": "markdown",
   "id": "cebd6c23-3a19-4d9e-bf72-8706b5ad3206",
   "metadata": {},
   "source": [
    "* Dans cette étape nous allons explorer une par une toutes les DataFrames pour en extraire des informations , revoir la structure des données ainsi faire une courte analyse par la suite."
   ]
  },
  {
   "cell_type": "markdown",
   "id": "05cc58a4-0347-4e86-9da3-b7301c907698",
   "metadata": {},
   "source": [
    "### 2.1.1 DataFrame \"disponibilité alimentaire\""
   ]
  },
  {
   "cell_type": "code",
   "execution_count": 3,
   "id": "0dd6ffb0-35cf-4474-9a54-275900fc9426",
   "metadata": {},
   "outputs": [
    {
     "data": {
      "text/html": [
       "<div>\n",
       "<style scoped>\n",
       "    .dataframe tbody tr th:only-of-type {\n",
       "        vertical-align: middle;\n",
       "    }\n",
       "\n",
       "    .dataframe tbody tr th {\n",
       "        vertical-align: top;\n",
       "    }\n",
       "\n",
       "    .dataframe thead th {\n",
       "        text-align: right;\n",
       "    }\n",
       "</style>\n",
       "<table border=\"1\" class=\"dataframe\">\n",
       "  <thead>\n",
       "    <tr style=\"text-align: right;\">\n",
       "      <th></th>\n",
       "      <th>Zone</th>\n",
       "      <th>Produit</th>\n",
       "      <th>Origine</th>\n",
       "      <th>Aliments pour animaux</th>\n",
       "      <th>Autres Utilisations</th>\n",
       "      <th>Disponibilité alimentaire (Kcal/personne/jour)</th>\n",
       "      <th>Disponibilité alimentaire en quantité (kg/personne/an)</th>\n",
       "      <th>Disponibilité de matière grasse en quantité (g/personne/jour)</th>\n",
       "      <th>Disponibilité de protéines en quantité (g/personne/jour)</th>\n",
       "      <th>Disponibilité intérieure</th>\n",
       "      <th>Exportations - Quantité</th>\n",
       "      <th>Importations - Quantité</th>\n",
       "      <th>Nourriture</th>\n",
       "      <th>Pertes</th>\n",
       "      <th>Production</th>\n",
       "      <th>Semences</th>\n",
       "      <th>Traitement</th>\n",
       "      <th>Variation de stock</th>\n",
       "    </tr>\n",
       "  </thead>\n",
       "  <tbody>\n",
       "    <tr>\n",
       "      <th>0</th>\n",
       "      <td>Afghanistan</td>\n",
       "      <td>Abats Comestible</td>\n",
       "      <td>animale</td>\n",
       "      <td>NaN</td>\n",
       "      <td>NaN</td>\n",
       "      <td>5.0</td>\n",
       "      <td>1.72</td>\n",
       "      <td>0.20</td>\n",
       "      <td>0.77</td>\n",
       "      <td>53.0</td>\n",
       "      <td>NaN</td>\n",
       "      <td>NaN</td>\n",
       "      <td>53.0</td>\n",
       "      <td>NaN</td>\n",
       "      <td>53.0</td>\n",
       "      <td>NaN</td>\n",
       "      <td>NaN</td>\n",
       "      <td>NaN</td>\n",
       "    </tr>\n",
       "    <tr>\n",
       "      <th>1</th>\n",
       "      <td>Afghanistan</td>\n",
       "      <td>Agrumes, Autres</td>\n",
       "      <td>vegetale</td>\n",
       "      <td>NaN</td>\n",
       "      <td>NaN</td>\n",
       "      <td>1.0</td>\n",
       "      <td>1.29</td>\n",
       "      <td>0.01</td>\n",
       "      <td>0.02</td>\n",
       "      <td>41.0</td>\n",
       "      <td>2.0</td>\n",
       "      <td>40.0</td>\n",
       "      <td>39.0</td>\n",
       "      <td>2.0</td>\n",
       "      <td>3.0</td>\n",
       "      <td>NaN</td>\n",
       "      <td>NaN</td>\n",
       "      <td>NaN</td>\n",
       "    </tr>\n",
       "    <tr>\n",
       "      <th>2</th>\n",
       "      <td>Afghanistan</td>\n",
       "      <td>Aliments pour enfants</td>\n",
       "      <td>vegetale</td>\n",
       "      <td>NaN</td>\n",
       "      <td>NaN</td>\n",
       "      <td>1.0</td>\n",
       "      <td>0.06</td>\n",
       "      <td>0.01</td>\n",
       "      <td>0.03</td>\n",
       "      <td>2.0</td>\n",
       "      <td>NaN</td>\n",
       "      <td>2.0</td>\n",
       "      <td>2.0</td>\n",
       "      <td>NaN</td>\n",
       "      <td>NaN</td>\n",
       "      <td>NaN</td>\n",
       "      <td>NaN</td>\n",
       "      <td>NaN</td>\n",
       "    </tr>\n",
       "    <tr>\n",
       "      <th>3</th>\n",
       "      <td>Afghanistan</td>\n",
       "      <td>Ananas</td>\n",
       "      <td>vegetale</td>\n",
       "      <td>NaN</td>\n",
       "      <td>NaN</td>\n",
       "      <td>0.0</td>\n",
       "      <td>0.00</td>\n",
       "      <td>NaN</td>\n",
       "      <td>NaN</td>\n",
       "      <td>0.0</td>\n",
       "      <td>NaN</td>\n",
       "      <td>0.0</td>\n",
       "      <td>0.0</td>\n",
       "      <td>NaN</td>\n",
       "      <td>NaN</td>\n",
       "      <td>NaN</td>\n",
       "      <td>NaN</td>\n",
       "      <td>NaN</td>\n",
       "    </tr>\n",
       "    <tr>\n",
       "      <th>4</th>\n",
       "      <td>Afghanistan</td>\n",
       "      <td>Bananes</td>\n",
       "      <td>vegetale</td>\n",
       "      <td>NaN</td>\n",
       "      <td>NaN</td>\n",
       "      <td>4.0</td>\n",
       "      <td>2.70</td>\n",
       "      <td>0.02</td>\n",
       "      <td>0.05</td>\n",
       "      <td>82.0</td>\n",
       "      <td>NaN</td>\n",
       "      <td>82.0</td>\n",
       "      <td>82.0</td>\n",
       "      <td>NaN</td>\n",
       "      <td>NaN</td>\n",
       "      <td>NaN</td>\n",
       "      <td>NaN</td>\n",
       "      <td>NaN</td>\n",
       "    </tr>\n",
       "  </tbody>\n",
       "</table>\n",
       "</div>"
      ],
      "text/plain": [
       "          Zone                Produit   Origine  Aliments pour animaux  \\\n",
       "0  Afghanistan       Abats Comestible   animale                    NaN   \n",
       "1  Afghanistan        Agrumes, Autres  vegetale                    NaN   \n",
       "2  Afghanistan  Aliments pour enfants  vegetale                    NaN   \n",
       "3  Afghanistan                 Ananas  vegetale                    NaN   \n",
       "4  Afghanistan                Bananes  vegetale                    NaN   \n",
       "\n",
       "   Autres Utilisations  Disponibilité alimentaire (Kcal/personne/jour)  \\\n",
       "0                  NaN                                             5.0   \n",
       "1                  NaN                                             1.0   \n",
       "2                  NaN                                             1.0   \n",
       "3                  NaN                                             0.0   \n",
       "4                  NaN                                             4.0   \n",
       "\n",
       "   Disponibilité alimentaire en quantité (kg/personne/an)  \\\n",
       "0                                               1.72        \n",
       "1                                               1.29        \n",
       "2                                               0.06        \n",
       "3                                               0.00        \n",
       "4                                               2.70        \n",
       "\n",
       "   Disponibilité de matière grasse en quantité (g/personne/jour)  \\\n",
       "0                                               0.20               \n",
       "1                                               0.01               \n",
       "2                                               0.01               \n",
       "3                                                NaN               \n",
       "4                                               0.02               \n",
       "\n",
       "   Disponibilité de protéines en quantité (g/personne/jour)  \\\n",
       "0                                               0.77          \n",
       "1                                               0.02          \n",
       "2                                               0.03          \n",
       "3                                                NaN          \n",
       "4                                               0.05          \n",
       "\n",
       "   Disponibilité intérieure  Exportations - Quantité  Importations - Quantité  \\\n",
       "0                      53.0                      NaN                      NaN   \n",
       "1                      41.0                      2.0                     40.0   \n",
       "2                       2.0                      NaN                      2.0   \n",
       "3                       0.0                      NaN                      0.0   \n",
       "4                      82.0                      NaN                     82.0   \n",
       "\n",
       "   Nourriture  Pertes  Production  Semences  Traitement  Variation de stock  \n",
       "0        53.0     NaN        53.0       NaN         NaN                 NaN  \n",
       "1        39.0     2.0         3.0       NaN         NaN                 NaN  \n",
       "2         2.0     NaN         NaN       NaN         NaN                 NaN  \n",
       "3         0.0     NaN         NaN       NaN         NaN                 NaN  \n",
       "4        82.0     NaN         NaN       NaN         NaN                 NaN  "
      ]
     },
     "execution_count": 3,
     "metadata": {},
     "output_type": "execute_result"
    }
   ],
   "source": [
    "# Observation des 5 premiers lignes de l'échantillon\n",
    "data_dispo.head(5)"
   ]
  },
  {
   "cell_type": "code",
   "execution_count": 4,
   "id": "d5e82a71-a67e-439f-8bc6-57f28669c41f",
   "metadata": {},
   "outputs": [
    {
     "data": {
      "text/plain": [
       "(15605, 18)"
      ]
     },
     "execution_count": 4,
     "metadata": {},
     "output_type": "execute_result"
    }
   ],
   "source": [
    "# Forme du jeu de donnés\n",
    "data_dispo.shape"
   ]
  },
  {
   "cell_type": "code",
   "execution_count": 5,
   "id": "812e8b8c-0d11-4738-87a3-e1ee7c1f5df1",
   "metadata": {},
   "outputs": [
    {
     "name": "stdout",
     "output_type": "stream",
     "text": [
      "<class 'pandas.core.frame.DataFrame'>\n",
      "RangeIndex: 15605 entries, 0 to 15604\n",
      "Data columns (total 18 columns):\n",
      " #   Column                                                         Non-Null Count  Dtype  \n",
      "---  ------                                                         --------------  -----  \n",
      " 0   Zone                                                           15605 non-null  object \n",
      " 1   Produit                                                        15605 non-null  object \n",
      " 2   Origine                                                        15605 non-null  object \n",
      " 3   Aliments pour animaux                                          2720 non-null   float64\n",
      " 4   Autres Utilisations                                            5496 non-null   float64\n",
      " 5   Disponibilité alimentaire (Kcal/personne/jour)                 14241 non-null  float64\n",
      " 6   Disponibilité alimentaire en quantité (kg/personne/an)         14015 non-null  float64\n",
      " 7   Disponibilité de matière grasse en quantité (g/personne/jour)  11794 non-null  float64\n",
      " 8   Disponibilité de protéines en quantité (g/personne/jour)       11561 non-null  float64\n",
      " 9   Disponibilité intérieure                                       15382 non-null  float64\n",
      " 10  Exportations - Quantité                                        12226 non-null  float64\n",
      " 11  Importations - Quantité                                        14852 non-null  float64\n",
      " 12  Nourriture                                                     14015 non-null  float64\n",
      " 13  Pertes                                                         4278 non-null   float64\n",
      " 14  Production                                                     9180 non-null   float64\n",
      " 15  Semences                                                       2091 non-null   float64\n",
      " 16  Traitement                                                     2292 non-null   float64\n",
      " 17  Variation de stock                                             6776 non-null   float64\n",
      "dtypes: float64(15), object(3)\n",
      "memory usage: 2.1+ MB\n"
     ]
    }
   ],
   "source": [
    "  #Typages de données\n",
    "info = data_dispo.info()"
   ]
  },
  {
   "cell_type": "code",
   "execution_count": 6,
   "id": "4499cf4c-a7a7-4e87-b8e1-a98acffeda83",
   "metadata": {},
   "outputs": [
    {
     "data": {
      "text/html": [
       "<div>\n",
       "<style scoped>\n",
       "    .dataframe tbody tr th:only-of-type {\n",
       "        vertical-align: middle;\n",
       "    }\n",
       "\n",
       "    .dataframe tbody tr th {\n",
       "        vertical-align: top;\n",
       "    }\n",
       "\n",
       "    .dataframe thead th {\n",
       "        text-align: right;\n",
       "    }\n",
       "</style>\n",
       "<table border=\"1\" class=\"dataframe\">\n",
       "  <thead>\n",
       "    <tr style=\"text-align: right;\">\n",
       "      <th></th>\n",
       "      <th>Zone</th>\n",
       "      <th>Produit</th>\n",
       "      <th>Origine</th>\n",
       "      <th>Aliments pour animaux</th>\n",
       "      <th>Autres Utilisations</th>\n",
       "      <th>Disponibilité alimentaire (Kcal/personne/jour)</th>\n",
       "      <th>Disponibilité alimentaire en quantité (kg/personne/an)</th>\n",
       "      <th>Disponibilité de matière grasse en quantité (g/personne/jour)</th>\n",
       "      <th>Disponibilité de protéines en quantité (g/personne/jour)</th>\n",
       "      <th>Disponibilité intérieure</th>\n",
       "      <th>Exportations - Quantité</th>\n",
       "      <th>Importations - Quantité</th>\n",
       "      <th>Nourriture</th>\n",
       "      <th>Pertes</th>\n",
       "      <th>Production</th>\n",
       "      <th>Semences</th>\n",
       "      <th>Traitement</th>\n",
       "      <th>Variation de stock</th>\n",
       "    </tr>\n",
       "  </thead>\n",
       "  <tbody>\n",
       "  </tbody>\n",
       "</table>\n",
       "</div>"
      ],
      "text/plain": [
       "Empty DataFrame\n",
       "Columns: [Zone, Produit, Origine, Aliments pour animaux, Autres Utilisations, Disponibilité alimentaire (Kcal/personne/jour), Disponibilité alimentaire en quantité (kg/personne/an), Disponibilité de matière grasse en quantité (g/personne/jour), Disponibilité de protéines en quantité (g/personne/jour), Disponibilité intérieure, Exportations - Quantité, Importations - Quantité, Nourriture, Pertes, Production, Semences, Traitement, Variation de stock]\n",
       "Index: []"
      ]
     },
     "execution_count": 6,
     "metadata": {},
     "output_type": "execute_result"
    }
   ],
   "source": [
    "# Vérification des doublons\n",
    "data_dispo[data_dispo.duplicated()]"
   ]
  },
  {
   "cell_type": "code",
   "execution_count": 7,
   "id": "024e57f4-d5e7-49da-ab47-9ba35f4063fd",
   "metadata": {},
   "outputs": [
    {
     "data": {
      "text/plain": [
       "Semences                                                         86.60\n",
       "Traitement                                                       85.31\n",
       "Aliments pour animaux                                            82.57\n",
       "Pertes                                                           72.59\n",
       "Autres Utilisations                                              64.78\n",
       "Variation de stock                                               56.58\n",
       "Production                                                       41.17\n",
       "Disponibilité de protéines en quantité (g/personne/jour)         25.91\n",
       "Disponibilité de matière grasse en quantité (g/personne/jour)    24.42\n",
       "Exportations - Quantité                                          21.65\n",
       "Disponibilité alimentaire en quantité (kg/personne/an)           10.19\n",
       "Nourriture                                                       10.19\n",
       "Disponibilité alimentaire (Kcal/personne/jour)                    8.74\n",
       "Importations - Quantité                                           4.83\n",
       "Disponibilité intérieure                                          1.43\n",
       "Produit                                                           0.00\n",
       "Origine                                                           0.00\n",
       "Zone                                                              0.00\n",
       "dtype: float64"
      ]
     },
     "execution_count": 7,
     "metadata": {},
     "output_type": "execute_result"
    }
   ],
   "source": [
    "  # Pourcentages des valeurs nulls\n",
    "#pourcentage_valeur_null = round(data_dispo.isnull().sum()/data_dispo.isnull().count()*100,2).sort_values(ascending=False)\n",
    "pourcentage_valeur_null = round((data_dispo.isnull().sum()/data_dispo.shape[0]*100),2).sort_values(ascending=False)\n",
    "pourcentage_valeur_null"
   ]
  },
  {
   "cell_type": "code",
   "execution_count": 8,
   "id": "053e91fe-a550-4f9b-ac36-508447e3dbee",
   "metadata": {},
   "outputs": [
    {
     "data": {
      "text/html": [
       "<div>\n",
       "<style scoped>\n",
       "    .dataframe tbody tr th:only-of-type {\n",
       "        vertical-align: middle;\n",
       "    }\n",
       "\n",
       "    .dataframe tbody tr th {\n",
       "        vertical-align: top;\n",
       "    }\n",
       "\n",
       "    .dataframe thead th {\n",
       "        text-align: right;\n",
       "    }\n",
       "</style>\n",
       "<table border=\"1\" class=\"dataframe\">\n",
       "  <thead>\n",
       "    <tr style=\"text-align: right;\">\n",
       "      <th></th>\n",
       "      <th>count</th>\n",
       "      <th>mean</th>\n",
       "      <th>std</th>\n",
       "      <th>min</th>\n",
       "      <th>25%</th>\n",
       "      <th>50%</th>\n",
       "      <th>75%</th>\n",
       "      <th>max</th>\n",
       "    </tr>\n",
       "  </thead>\n",
       "  <tbody>\n",
       "    <tr>\n",
       "      <th>Aliments pour animaux</th>\n",
       "      <td>2720.0</td>\n",
       "      <td>479.501838</td>\n",
       "      <td>4240.119637</td>\n",
       "      <td>0.00</td>\n",
       "      <td>0.00</td>\n",
       "      <td>4.00</td>\n",
       "      <td>74.00</td>\n",
       "      <td>150000.00</td>\n",
       "    </tr>\n",
       "    <tr>\n",
       "      <th>Autres Utilisations</th>\n",
       "      <td>5496.0</td>\n",
       "      <td>157.391376</td>\n",
       "      <td>5076.785816</td>\n",
       "      <td>0.00</td>\n",
       "      <td>0.00</td>\n",
       "      <td>0.00</td>\n",
       "      <td>4.00</td>\n",
       "      <td>347309.00</td>\n",
       "    </tr>\n",
       "    <tr>\n",
       "      <th>Disponibilité alimentaire (Kcal/personne/jour)</th>\n",
       "      <td>14241.0</td>\n",
       "      <td>34.789832</td>\n",
       "      <td>107.287655</td>\n",
       "      <td>-21.00</td>\n",
       "      <td>0.00</td>\n",
       "      <td>4.00</td>\n",
       "      <td>21.00</td>\n",
       "      <td>1711.00</td>\n",
       "    </tr>\n",
       "    <tr>\n",
       "      <th>Disponibilité alimentaire en quantité (kg/personne/an)</th>\n",
       "      <td>14015.0</td>\n",
       "      <td>8.719368</td>\n",
       "      <td>24.618223</td>\n",
       "      <td>-1.93</td>\n",
       "      <td>0.06</td>\n",
       "      <td>0.83</td>\n",
       "      <td>5.19</td>\n",
       "      <td>430.76</td>\n",
       "    </tr>\n",
       "    <tr>\n",
       "      <th>Disponibilité de matière grasse en quantité (g/personne/jour)</th>\n",
       "      <td>11794.0</td>\n",
       "      <td>1.283111</td>\n",
       "      <td>3.680399</td>\n",
       "      <td>-0.03</td>\n",
       "      <td>0.01</td>\n",
       "      <td>0.08</td>\n",
       "      <td>0.63</td>\n",
       "      <td>60.76</td>\n",
       "    </tr>\n",
       "    <tr>\n",
       "      <th>Disponibilité de protéines en quantité (g/personne/jour)</th>\n",
       "      <td>11561.0</td>\n",
       "      <td>1.223608</td>\n",
       "      <td>3.598686</td>\n",
       "      <td>-0.37</td>\n",
       "      <td>0.01</td>\n",
       "      <td>0.10</td>\n",
       "      <td>0.66</td>\n",
       "      <td>54.97</td>\n",
       "    </tr>\n",
       "    <tr>\n",
       "      <th>Disponibilité intérieure</th>\n",
       "      <td>15382.0</td>\n",
       "      <td>640.293460</td>\n",
       "      <td>9067.267153</td>\n",
       "      <td>-3430.00</td>\n",
       "      <td>0.00</td>\n",
       "      <td>7.00</td>\n",
       "      <td>76.75</td>\n",
       "      <td>739267.00</td>\n",
       "    </tr>\n",
       "    <tr>\n",
       "      <th>Exportations - Quantité</th>\n",
       "      <td>12226.0</td>\n",
       "      <td>110.596925</td>\n",
       "      <td>1053.318990</td>\n",
       "      <td>-41.00</td>\n",
       "      <td>0.00</td>\n",
       "      <td>0.00</td>\n",
       "      <td>9.00</td>\n",
       "      <td>42797.00</td>\n",
       "    </tr>\n",
       "    <tr>\n",
       "      <th>Importations - Quantité</th>\n",
       "      <td>14852.0</td>\n",
       "      <td>87.264543</td>\n",
       "      <td>717.372714</td>\n",
       "      <td>-201.00</td>\n",
       "      <td>0.00</td>\n",
       "      <td>2.00</td>\n",
       "      <td>18.00</td>\n",
       "      <td>63381.00</td>\n",
       "    </tr>\n",
       "    <tr>\n",
       "      <th>Nourriture</th>\n",
       "      <td>14015.0</td>\n",
       "      <td>347.931359</td>\n",
       "      <td>4475.704458</td>\n",
       "      <td>-246.00</td>\n",
       "      <td>0.00</td>\n",
       "      <td>5.00</td>\n",
       "      <td>52.00</td>\n",
       "      <td>426850.00</td>\n",
       "    </tr>\n",
       "    <tr>\n",
       "      <th>Pertes</th>\n",
       "      <td>4278.0</td>\n",
       "      <td>106.053763</td>\n",
       "      <td>1113.100416</td>\n",
       "      <td>0.00</td>\n",
       "      <td>0.00</td>\n",
       "      <td>4.00</td>\n",
       "      <td>26.00</td>\n",
       "      <td>55047.00</td>\n",
       "    </tr>\n",
       "    <tr>\n",
       "      <th>Production</th>\n",
       "      <td>9180.0</td>\n",
       "      <td>1090.379085</td>\n",
       "      <td>12067.344094</td>\n",
       "      <td>0.00</td>\n",
       "      <td>2.00</td>\n",
       "      <td>22.00</td>\n",
       "      <td>191.25</td>\n",
       "      <td>739267.00</td>\n",
       "    </tr>\n",
       "    <tr>\n",
       "      <th>Semences</th>\n",
       "      <td>2091.0</td>\n",
       "      <td>73.974653</td>\n",
       "      <td>528.069224</td>\n",
       "      <td>0.00</td>\n",
       "      <td>0.00</td>\n",
       "      <td>2.00</td>\n",
       "      <td>17.00</td>\n",
       "      <td>17060.00</td>\n",
       "    </tr>\n",
       "    <tr>\n",
       "      <th>Traitement</th>\n",
       "      <td>2292.0</td>\n",
       "      <td>961.905323</td>\n",
       "      <td>10381.795904</td>\n",
       "      <td>-19.00</td>\n",
       "      <td>0.00</td>\n",
       "      <td>6.00</td>\n",
       "      <td>69.00</td>\n",
       "      <td>326711.00</td>\n",
       "    </tr>\n",
       "    <tr>\n",
       "      <th>Variation de stock</th>\n",
       "      <td>6776.0</td>\n",
       "      <td>-15.407615</td>\n",
       "      <td>549.834540</td>\n",
       "      <td>-39863.00</td>\n",
       "      <td>0.00</td>\n",
       "      <td>0.00</td>\n",
       "      <td>0.00</td>\n",
       "      <td>5284.00</td>\n",
       "    </tr>\n",
       "  </tbody>\n",
       "</table>\n",
       "</div>"
      ],
      "text/plain": [
       "                                                      count         mean  \\\n",
       "Aliments pour animaux                                2720.0   479.501838   \n",
       "Autres Utilisations                                  5496.0   157.391376   \n",
       "Disponibilité alimentaire (Kcal/personne/jour)      14241.0    34.789832   \n",
       "Disponibilité alimentaire en quantité (kg/perso...  14015.0     8.719368   \n",
       "Disponibilité de matière grasse en quantité (g/...  11794.0     1.283111   \n",
       "Disponibilité de protéines en quantité (g/perso...  11561.0     1.223608   \n",
       "Disponibilité intérieure                            15382.0   640.293460   \n",
       "Exportations - Quantité                             12226.0   110.596925   \n",
       "Importations - Quantité                             14852.0    87.264543   \n",
       "Nourriture                                          14015.0   347.931359   \n",
       "Pertes                                               4278.0   106.053763   \n",
       "Production                                           9180.0  1090.379085   \n",
       "Semences                                             2091.0    73.974653   \n",
       "Traitement                                           2292.0   961.905323   \n",
       "Variation de stock                                   6776.0   -15.407615   \n",
       "\n",
       "                                                             std       min  \\\n",
       "Aliments pour animaux                                4240.119637      0.00   \n",
       "Autres Utilisations                                  5076.785816      0.00   \n",
       "Disponibilité alimentaire (Kcal/personne/jour)        107.287655    -21.00   \n",
       "Disponibilité alimentaire en quantité (kg/perso...     24.618223     -1.93   \n",
       "Disponibilité de matière grasse en quantité (g/...      3.680399     -0.03   \n",
       "Disponibilité de protéines en quantité (g/perso...      3.598686     -0.37   \n",
       "Disponibilité intérieure                             9067.267153  -3430.00   \n",
       "Exportations - Quantité                              1053.318990    -41.00   \n",
       "Importations - Quantité                               717.372714   -201.00   \n",
       "Nourriture                                           4475.704458   -246.00   \n",
       "Pertes                                               1113.100416      0.00   \n",
       "Production                                          12067.344094      0.00   \n",
       "Semences                                              528.069224      0.00   \n",
       "Traitement                                          10381.795904    -19.00   \n",
       "Variation de stock                                    549.834540 -39863.00   \n",
       "\n",
       "                                                     25%    50%     75%  \\\n",
       "Aliments pour animaux                               0.00   4.00   74.00   \n",
       "Autres Utilisations                                 0.00   0.00    4.00   \n",
       "Disponibilité alimentaire (Kcal/personne/jour)      0.00   4.00   21.00   \n",
       "Disponibilité alimentaire en quantité (kg/perso...  0.06   0.83    5.19   \n",
       "Disponibilité de matière grasse en quantité (g/...  0.01   0.08    0.63   \n",
       "Disponibilité de protéines en quantité (g/perso...  0.01   0.10    0.66   \n",
       "Disponibilité intérieure                            0.00   7.00   76.75   \n",
       "Exportations - Quantité                             0.00   0.00    9.00   \n",
       "Importations - Quantité                             0.00   2.00   18.00   \n",
       "Nourriture                                          0.00   5.00   52.00   \n",
       "Pertes                                              0.00   4.00   26.00   \n",
       "Production                                          2.00  22.00  191.25   \n",
       "Semences                                            0.00   2.00   17.00   \n",
       "Traitement                                          0.00   6.00   69.00   \n",
       "Variation de stock                                  0.00   0.00    0.00   \n",
       "\n",
       "                                                          max  \n",
       "Aliments pour animaux                               150000.00  \n",
       "Autres Utilisations                                 347309.00  \n",
       "Disponibilité alimentaire (Kcal/personne/jour)        1711.00  \n",
       "Disponibilité alimentaire en quantité (kg/perso...     430.76  \n",
       "Disponibilité de matière grasse en quantité (g/...      60.76  \n",
       "Disponibilité de protéines en quantité (g/perso...      54.97  \n",
       "Disponibilité intérieure                            739267.00  \n",
       "Exportations - Quantité                              42797.00  \n",
       "Importations - Quantité                              63381.00  \n",
       "Nourriture                                          426850.00  \n",
       "Pertes                                               55047.00  \n",
       "Production                                          739267.00  \n",
       "Semences                                             17060.00  \n",
       "Traitement                                          326711.00  \n",
       "Variation de stock                                    5284.00  "
      ]
     },
     "execution_count": 8,
     "metadata": {},
     "output_type": "execute_result"
    }
   ],
   "source": [
    "  #Statistiques descriptives\n",
    "statistique = data_dispo.describe().T\n",
    "statistique"
   ]
  },
  {
   "cell_type": "markdown",
   "id": "937fd8e5-8d11-438e-86f7-1bd4de957da6",
   "metadata": {},
   "source": [
    "On voit qu'on a pas mal de valeurs abérrantes dans certaines de nos colonnes et pour plus les visualiser , on peut faire un boxplot avec ces colonnes. "
   ]
  },
  {
   "cell_type": "code",
   "execution_count": 9,
   "id": "2b41f7cf-53cc-497b-b232-1019e35e92f5",
   "metadata": {},
   "outputs": [
    {
     "data": {
      "image/png": "[encoded data removed]",
      "text/plain": [
       "<Figure size 1000x500 with 1 Axes>"
      ]
     },
     "metadata": {},
     "output_type": "display_data"
    }
   ],
   "source": [
    "# visualisation des valeurs abérrantes avec un boxplot\n",
    "plt.style.use('ggplot')\n",
    "plt.rcParams.update({ \"font.size\" : 10})\n",
    "plt.figure(figsize=(10,5))\n",
    "sns.boxplot(x=\"Disponibilité alimentaire (Kcal/personne/jour)\", data=data_dispo, showfliers = True)\n",
    "plt.show()"
   ]
  },
  {
   "cell_type": "code",
   "execution_count": 10,
   "id": "995d55d2-5d5b-4924-8730-591986454dcb",
   "metadata": {},
   "outputs": [
    {
     "data": {
      "image/png": "[encoded data removed]",
      "text/plain": [
       "<Figure size 1000x500 with 1 Axes>"
      ]
     },
     "metadata": {},
     "output_type": "display_data"
    }
   ],
   "source": [
    "# visualisation des valeurs abérrantes avec un boxplot\n",
    "plt.style.use('ggplot')\n",
    "plt.rcParams.update({ \"font.size\" : 10})\n",
    "plt.figure(figsize=(10,5))\n",
    "sns.boxplot(x=\"Disponibilité intérieure\", data=data_dispo, showfliers = True)\n",
    "plt.show()"
   ]
  },
  {
   "cell_type": "code",
   "execution_count": 11,
   "id": "d6b2df12-c83c-4b24-b403-35fd60a50f3d",
   "metadata": {},
   "outputs": [
    {
     "data": {
      "text/plain": [
       "174"
      ]
     },
     "execution_count": 11,
     "metadata": {},
     "output_type": "execute_result"
    }
   ],
   "source": [
    "# pour trouver les éléments unique de la colonne\n",
    "data_dispo[\"Zone\"].nunique()"
   ]
  },
  {
   "cell_type": "code",
   "execution_count": 12,
   "id": "e5ba4434-d679-4cec-87e9-e1b7dc49b0f9",
   "metadata": {},
   "outputs": [
    {
     "data": {
      "text/plain": [
       "Inde                                          97\n",
       "Japon                                         97\n",
       "République-Unie de Tanzanie                   96\n",
       "Brésil                                        96\n",
       "Indonésie                                     96\n",
       "                                              ..\n",
       "Timor-Leste                                   61\n",
       "République populaire démocratique de Corée    61\n",
       "Afghanistan                                   60\n",
       "Turkménistan                                  57\n",
       "Lesotho                                       53\n",
       "Name: Zone, Length: 174, dtype: int64"
      ]
     },
     "execution_count": 12,
     "metadata": {},
     "output_type": "execute_result"
    }
   ],
   "source": [
    "data_dispo[\"Zone\"].value_counts()"
   ]
  },
  {
   "cell_type": "markdown",
   "id": "cceb9cfa-476b-45c0-967a-60c02bc579c2",
   "metadata": {},
   "source": [
    "#### 2.1.1.1 Traiter les valeurs manquantes"
   ]
  },
  {
   "cell_type": "markdown",
   "id": "30eb3de1-7ce4-4d4e-826d-66f5b6fec51d",
   "metadata": {},
   "source": [
    "* On voit qu'on a pas mal de valeurs manquantes dans ce dataframe , dans ce cas on va utiliser la fonction fillna pour remplacer les valeurs manquantes par 0 parceque si on les supprime ça nous fera perdre beaucoup d'information pour répondre aux différentes demandes de Marc."
   ]
  },
  {
   "cell_type": "code",
   "execution_count": 13,
   "id": "1ece1afa-60b2-4f78-b128-5b0aeb714f5d",
   "metadata": {},
   "outputs": [],
   "source": [
    "# remplacer les valeurs manquantes\n",
    "data_dispo = data_dispo.fillna(0) "
   ]
  },
  {
   "cell_type": "markdown",
   "id": "b308c34e-c01e-45d4-a94a-a51a9db40854",
   "metadata": {},
   "source": [
    "* Après avoir remplacer les valeurs manquantes nous allons maintenant revérifier à nouveau si notre fonction a été bien appliquée sur les différentes colonnes"
   ]
  },
  {
   "cell_type": "code",
   "execution_count": 14,
   "id": "fa17f835-701c-41bf-88e6-d074c2045276",
   "metadata": {},
   "outputs": [
    {
     "data": {
      "text/plain": [
       "Zone                                                             0.0\n",
       "Produit                                                          0.0\n",
       "Traitement                                                       0.0\n",
       "Semences                                                         0.0\n",
       "Production                                                       0.0\n",
       "Pertes                                                           0.0\n",
       "Nourriture                                                       0.0\n",
       "Importations - Quantité                                          0.0\n",
       "Exportations - Quantité                                          0.0\n",
       "Disponibilité intérieure                                         0.0\n",
       "Disponibilité de protéines en quantité (g/personne/jour)         0.0\n",
       "Disponibilité de matière grasse en quantité (g/personne/jour)    0.0\n",
       "Disponibilité alimentaire en quantité (kg/personne/an)           0.0\n",
       "Disponibilité alimentaire (Kcal/personne/jour)                   0.0\n",
       "Autres Utilisations                                              0.0\n",
       "Aliments pour animaux                                            0.0\n",
       "Origine                                                          0.0\n",
       "Variation de stock                                               0.0\n",
       "dtype: float64"
      ]
     },
     "execution_count": 14,
     "metadata": {},
     "output_type": "execute_result"
    }
   ],
   "source": [
    "  # Pourcentages des valeurs nulls aprés la fonction fillna\n",
    "pourcentage_valeur_null = round((data_dispo.isnull().sum()/data_dispo.shape[0]*100),2).sort_values(ascending=False)\n",
    "pourcentage_valeur_null"
   ]
  },
  {
   "cell_type": "code",
   "execution_count": 15,
   "id": "1a6d95b5-bcf3-45a0-8d79-c04614debf4e",
   "metadata": {},
   "outputs": [
    {
     "data": {
      "text/html": [
       "<div>\n",
       "<style scoped>\n",
       "    .dataframe tbody tr th:only-of-type {\n",
       "        vertical-align: middle;\n",
       "    }\n",
       "\n",
       "    .dataframe tbody tr th {\n",
       "        vertical-align: top;\n",
       "    }\n",
       "\n",
       "    .dataframe thead th {\n",
       "        text-align: right;\n",
       "    }\n",
       "</style>\n",
       "<table border=\"1\" class=\"dataframe\">\n",
       "  <thead>\n",
       "    <tr style=\"text-align: right;\">\n",
       "      <th></th>\n",
       "      <th>Zone</th>\n",
       "      <th>Produit</th>\n",
       "      <th>Origine</th>\n",
       "      <th>Aliments pour animaux</th>\n",
       "      <th>Autres Utilisations</th>\n",
       "      <th>Disponibilité alimentaire (Kcal/personne/jour)</th>\n",
       "      <th>Disponibilité alimentaire en quantité (kg/personne/an)</th>\n",
       "      <th>Disponibilité de matière grasse en quantité (g/personne/jour)</th>\n",
       "      <th>Disponibilité de protéines en quantité (g/personne/jour)</th>\n",
       "      <th>Disponibilité intérieure</th>\n",
       "      <th>Exportations - Quantité</th>\n",
       "      <th>Importations - Quantité</th>\n",
       "      <th>Nourriture</th>\n",
       "      <th>Pertes</th>\n",
       "      <th>Production</th>\n",
       "      <th>Semences</th>\n",
       "      <th>Traitement</th>\n",
       "      <th>Variation de stock</th>\n",
       "    </tr>\n",
       "  </thead>\n",
       "  <tbody>\n",
       "    <tr>\n",
       "      <th>0</th>\n",
       "      <td>Afghanistan</td>\n",
       "      <td>Abats Comestible</td>\n",
       "      <td>animale</td>\n",
       "      <td>0.0</td>\n",
       "      <td>0.0</td>\n",
       "      <td>5.0</td>\n",
       "      <td>1.72</td>\n",
       "      <td>0.20</td>\n",
       "      <td>0.77</td>\n",
       "      <td>53.0</td>\n",
       "      <td>0.0</td>\n",
       "      <td>0.0</td>\n",
       "      <td>53.0</td>\n",
       "      <td>0.0</td>\n",
       "      <td>53.0</td>\n",
       "      <td>0.0</td>\n",
       "      <td>0.0</td>\n",
       "      <td>0.0</td>\n",
       "    </tr>\n",
       "    <tr>\n",
       "      <th>1</th>\n",
       "      <td>Afghanistan</td>\n",
       "      <td>Agrumes, Autres</td>\n",
       "      <td>vegetale</td>\n",
       "      <td>0.0</td>\n",
       "      <td>0.0</td>\n",
       "      <td>1.0</td>\n",
       "      <td>1.29</td>\n",
       "      <td>0.01</td>\n",
       "      <td>0.02</td>\n",
       "      <td>41.0</td>\n",
       "      <td>2.0</td>\n",
       "      <td>40.0</td>\n",
       "      <td>39.0</td>\n",
       "      <td>2.0</td>\n",
       "      <td>3.0</td>\n",
       "      <td>0.0</td>\n",
       "      <td>0.0</td>\n",
       "      <td>0.0</td>\n",
       "    </tr>\n",
       "    <tr>\n",
       "      <th>2</th>\n",
       "      <td>Afghanistan</td>\n",
       "      <td>Aliments pour enfants</td>\n",
       "      <td>vegetale</td>\n",
       "      <td>0.0</td>\n",
       "      <td>0.0</td>\n",
       "      <td>1.0</td>\n",
       "      <td>0.06</td>\n",
       "      <td>0.01</td>\n",
       "      <td>0.03</td>\n",
       "      <td>2.0</td>\n",
       "      <td>0.0</td>\n",
       "      <td>2.0</td>\n",
       "      <td>2.0</td>\n",
       "      <td>0.0</td>\n",
       "      <td>0.0</td>\n",
       "      <td>0.0</td>\n",
       "      <td>0.0</td>\n",
       "      <td>0.0</td>\n",
       "    </tr>\n",
       "    <tr>\n",
       "      <th>3</th>\n",
       "      <td>Afghanistan</td>\n",
       "      <td>Ananas</td>\n",
       "      <td>vegetale</td>\n",
       "      <td>0.0</td>\n",
       "      <td>0.0</td>\n",
       "      <td>0.0</td>\n",
       "      <td>0.00</td>\n",
       "      <td>0.00</td>\n",
       "      <td>0.00</td>\n",
       "      <td>0.0</td>\n",
       "      <td>0.0</td>\n",
       "      <td>0.0</td>\n",
       "      <td>0.0</td>\n",
       "      <td>0.0</td>\n",
       "      <td>0.0</td>\n",
       "      <td>0.0</td>\n",
       "      <td>0.0</td>\n",
       "      <td>0.0</td>\n",
       "    </tr>\n",
       "    <tr>\n",
       "      <th>4</th>\n",
       "      <td>Afghanistan</td>\n",
       "      <td>Bananes</td>\n",
       "      <td>vegetale</td>\n",
       "      <td>0.0</td>\n",
       "      <td>0.0</td>\n",
       "      <td>4.0</td>\n",
       "      <td>2.70</td>\n",
       "      <td>0.02</td>\n",
       "      <td>0.05</td>\n",
       "      <td>82.0</td>\n",
       "      <td>0.0</td>\n",
       "      <td>82.0</td>\n",
       "      <td>82.0</td>\n",
       "      <td>0.0</td>\n",
       "      <td>0.0</td>\n",
       "      <td>0.0</td>\n",
       "      <td>0.0</td>\n",
       "      <td>0.0</td>\n",
       "    </tr>\n",
       "  </tbody>\n",
       "</table>\n",
       "</div>"
      ],
      "text/plain": [
       "          Zone                Produit   Origine  Aliments pour animaux  \\\n",
       "0  Afghanistan       Abats Comestible   animale                    0.0   \n",
       "1  Afghanistan        Agrumes, Autres  vegetale                    0.0   \n",
       "2  Afghanistan  Aliments pour enfants  vegetale                    0.0   \n",
       "3  Afghanistan                 Ananas  vegetale                    0.0   \n",
       "4  Afghanistan                Bananes  vegetale                    0.0   \n",
       "\n",
       "   Autres Utilisations  Disponibilité alimentaire (Kcal/personne/jour)  \\\n",
       "0                  0.0                                             5.0   \n",
       "1                  0.0                                             1.0   \n",
       "2                  0.0                                             1.0   \n",
       "3                  0.0                                             0.0   \n",
       "4                  0.0                                             4.0   \n",
       "\n",
       "   Disponibilité alimentaire en quantité (kg/personne/an)  \\\n",
       "0                                               1.72        \n",
       "1                                               1.29        \n",
       "2                                               0.06        \n",
       "3                                               0.00        \n",
       "4                                               2.70        \n",
       "\n",
       "   Disponibilité de matière grasse en quantité (g/personne/jour)  \\\n",
       "0                                               0.20               \n",
       "1                                               0.01               \n",
       "2                                               0.01               \n",
       "3                                               0.00               \n",
       "4                                               0.02               \n",
       "\n",
       "   Disponibilité de protéines en quantité (g/personne/jour)  \\\n",
       "0                                               0.77          \n",
       "1                                               0.02          \n",
       "2                                               0.03          \n",
       "3                                               0.00          \n",
       "4                                               0.05          \n",
       "\n",
       "   Disponibilité intérieure  Exportations - Quantité  Importations - Quantité  \\\n",
       "0                      53.0                      0.0                      0.0   \n",
       "1                      41.0                      2.0                     40.0   \n",
       "2                       2.0                      0.0                      2.0   \n",
       "3                       0.0                      0.0                      0.0   \n",
       "4                      82.0                      0.0                     82.0   \n",
       "\n",
       "   Nourriture  Pertes  Production  Semences  Traitement  Variation de stock  \n",
       "0        53.0     0.0        53.0       0.0         0.0                 0.0  \n",
       "1        39.0     2.0         3.0       0.0         0.0                 0.0  \n",
       "2         2.0     0.0         0.0       0.0         0.0                 0.0  \n",
       "3         0.0     0.0         0.0       0.0         0.0                 0.0  \n",
       "4        82.0     0.0         0.0       0.0         0.0                 0.0  "
      ]
     },
     "execution_count": 15,
     "metadata": {},
     "output_type": "execute_result"
    }
   ],
   "source": [
    "# Observation des 5 premiers lignes de l'échantillon après remplacement des valeurs manquantes\n",
    "data_dispo.head(5)"
   ]
  },
  {
   "cell_type": "markdown",
   "id": "58cff9ba-7a15-45d4-a7c2-7700bad964bc",
   "metadata": {},
   "source": [
    "* D'après la lexique des données 10 variables qui précisent les utilisations/moyens d’acquisition de la disponibilité alimentaire. Elles sont toutes exprimées en milliers de tonnes.\n",
    "* Dans ce cas on va multiplier ces colonnes par 1000000 qui correspond pour un millier de tonnes = 1000000kg.\n",
    "* Nous creer une liste et utiliser une boucle for afin d'appliquer le calcul aux différentes colonnes"
   ]
  },
  {
   "cell_type": "code",
   "execution_count": 16,
   "id": "19c0fe15-1343-476d-b3a8-606d0c79ec3f",
   "metadata": {},
   "outputs": [],
   "source": [
    "# Utilisation d'un boucle for pour convertir les colonnes situés dans la liste crée\n",
    "colonnes_tonnes_tokg = ['Aliments pour animaux', 'Disponibilité intérieure', 'Exportations - Quantité',\n",
    "                        'Importations - Quantité', 'Nourriture', 'Pertes', 'Production',\n",
    "                        'Semences', 'Traitement', 'Variation de stock', 'Autres Utilisations']\n",
    "\n",
    "for elt in colonnes_tonnes_tokg:\n",
    "    data_dispo[elt] = data_dispo[elt]*1000000\n",
    "    "
   ]
  },
  {
   "cell_type": "code",
   "execution_count": 17,
   "id": "02965dce-744a-4a5b-910c-71d5ddc64e29",
   "metadata": {},
   "outputs": [
    {
     "name": "stdout",
     "output_type": "stream",
     "text": [
      "<class 'pandas.core.frame.DataFrame'>\n",
      "RangeIndex: 15605 entries, 0 to 15604\n",
      "Data columns (total 18 columns):\n",
      " #   Column                                                         Non-Null Count  Dtype  \n",
      "---  ------                                                         --------------  -----  \n",
      " 0   Zone                                                           15605 non-null  object \n",
      " 1   Produit                                                        15605 non-null  object \n",
      " 2   Origine                                                        15605 non-null  object \n",
      " 3   Aliments pour animaux                                          15605 non-null  float64\n",
      " 4   Autres Utilisations                                            15605 non-null  float64\n",
      " 5   Disponibilité alimentaire (Kcal/personne/jour)                 15605 non-null  float64\n",
      " 6   Disponibilité alimentaire en quantité (kg/personne/an)         15605 non-null  float64\n",
      " 7   Disponibilité de matière grasse en quantité (g/personne/jour)  15605 non-null  float64\n",
      " 8   Disponibilité de protéines en quantité (g/personne/jour)       15605 non-null  float64\n",
      " 9   Disponibilité intérieure                                       15605 non-null  float64\n",
      " 10  Exportations - Quantité                                        15605 non-null  float64\n",
      " 11  Importations - Quantité                                        15605 non-null  float64\n",
      " 12  Nourriture                                                     15605 non-null  float64\n",
      " 13  Pertes                                                         15605 non-null  float64\n",
      " 14  Production                                                     15605 non-null  float64\n",
      " 15  Semences                                                       15605 non-null  float64\n",
      " 16  Traitement                                                     15605 non-null  float64\n",
      " 17  Variation de stock                                             15605 non-null  float64\n",
      "dtypes: float64(15), object(3)\n",
      "memory usage: 2.1+ MB\n"
     ]
    }
   ],
   "source": [
    "  #Typages de données\n",
    "info = data_dispo.info()"
   ]
  },
  {
   "cell_type": "code",
   "execution_count": 18,
   "id": "b61e4874-85ed-41ad-a41d-dfc608e8b516",
   "metadata": {},
   "outputs": [
    {
     "data": {
      "text/html": [
       "<div>\n",
       "<style scoped>\n",
       "    .dataframe tbody tr th:only-of-type {\n",
       "        vertical-align: middle;\n",
       "    }\n",
       "\n",
       "    .dataframe tbody tr th {\n",
       "        vertical-align: top;\n",
       "    }\n",
       "\n",
       "    .dataframe thead th {\n",
       "        text-align: right;\n",
       "    }\n",
       "</style>\n",
       "<table border=\"1\" class=\"dataframe\">\n",
       "  <thead>\n",
       "    <tr style=\"text-align: right;\">\n",
       "      <th></th>\n",
       "      <th>Zone</th>\n",
       "      <th>Produit</th>\n",
       "      <th>Origine</th>\n",
       "      <th>Aliments pour animaux</th>\n",
       "      <th>Autres Utilisations</th>\n",
       "      <th>Disponibilité alimentaire (Kcal/personne/jour)</th>\n",
       "      <th>Disponibilité alimentaire en quantité (kg/personne/an)</th>\n",
       "      <th>Disponibilité de matière grasse en quantité (g/personne/jour)</th>\n",
       "      <th>Disponibilité de protéines en quantité (g/personne/jour)</th>\n",
       "      <th>Disponibilité intérieure</th>\n",
       "      <th>Exportations - Quantité</th>\n",
       "      <th>Importations - Quantité</th>\n",
       "      <th>Nourriture</th>\n",
       "      <th>Pertes</th>\n",
       "      <th>Production</th>\n",
       "      <th>Semences</th>\n",
       "      <th>Traitement</th>\n",
       "      <th>Variation de stock</th>\n",
       "    </tr>\n",
       "  </thead>\n",
       "  <tbody>\n",
       "    <tr>\n",
       "      <th>0</th>\n",
       "      <td>Afghanistan</td>\n",
       "      <td>Abats Comestible</td>\n",
       "      <td>animale</td>\n",
       "      <td>0.0</td>\n",
       "      <td>0.0</td>\n",
       "      <td>5.0</td>\n",
       "      <td>1.72</td>\n",
       "      <td>0.20</td>\n",
       "      <td>0.77</td>\n",
       "      <td>53000000.0</td>\n",
       "      <td>0.0</td>\n",
       "      <td>0.0</td>\n",
       "      <td>53000000.0</td>\n",
       "      <td>0.0</td>\n",
       "      <td>53000000.0</td>\n",
       "      <td>0.0</td>\n",
       "      <td>0.0</td>\n",
       "      <td>0.0</td>\n",
       "    </tr>\n",
       "    <tr>\n",
       "      <th>1</th>\n",
       "      <td>Afghanistan</td>\n",
       "      <td>Agrumes, Autres</td>\n",
       "      <td>vegetale</td>\n",
       "      <td>0.0</td>\n",
       "      <td>0.0</td>\n",
       "      <td>1.0</td>\n",
       "      <td>1.29</td>\n",
       "      <td>0.01</td>\n",
       "      <td>0.02</td>\n",
       "      <td>41000000.0</td>\n",
       "      <td>2000000.0</td>\n",
       "      <td>40000000.0</td>\n",
       "      <td>39000000.0</td>\n",
       "      <td>2000000.0</td>\n",
       "      <td>3000000.0</td>\n",
       "      <td>0.0</td>\n",
       "      <td>0.0</td>\n",
       "      <td>0.0</td>\n",
       "    </tr>\n",
       "    <tr>\n",
       "      <th>2</th>\n",
       "      <td>Afghanistan</td>\n",
       "      <td>Aliments pour enfants</td>\n",
       "      <td>vegetale</td>\n",
       "      <td>0.0</td>\n",
       "      <td>0.0</td>\n",
       "      <td>1.0</td>\n",
       "      <td>0.06</td>\n",
       "      <td>0.01</td>\n",
       "      <td>0.03</td>\n",
       "      <td>2000000.0</td>\n",
       "      <td>0.0</td>\n",
       "      <td>2000000.0</td>\n",
       "      <td>2000000.0</td>\n",
       "      <td>0.0</td>\n",
       "      <td>0.0</td>\n",
       "      <td>0.0</td>\n",
       "      <td>0.0</td>\n",
       "      <td>0.0</td>\n",
       "    </tr>\n",
       "    <tr>\n",
       "      <th>3</th>\n",
       "      <td>Afghanistan</td>\n",
       "      <td>Ananas</td>\n",
       "      <td>vegetale</td>\n",
       "      <td>0.0</td>\n",
       "      <td>0.0</td>\n",
       "      <td>0.0</td>\n",
       "      <td>0.00</td>\n",
       "      <td>0.00</td>\n",
       "      <td>0.00</td>\n",
       "      <td>0.0</td>\n",
       "      <td>0.0</td>\n",
       "      <td>0.0</td>\n",
       "      <td>0.0</td>\n",
       "      <td>0.0</td>\n",
       "      <td>0.0</td>\n",
       "      <td>0.0</td>\n",
       "      <td>0.0</td>\n",
       "      <td>0.0</td>\n",
       "    </tr>\n",
       "    <tr>\n",
       "      <th>4</th>\n",
       "      <td>Afghanistan</td>\n",
       "      <td>Bananes</td>\n",
       "      <td>vegetale</td>\n",
       "      <td>0.0</td>\n",
       "      <td>0.0</td>\n",
       "      <td>4.0</td>\n",
       "      <td>2.70</td>\n",
       "      <td>0.02</td>\n",
       "      <td>0.05</td>\n",
       "      <td>82000000.0</td>\n",
       "      <td>0.0</td>\n",
       "      <td>82000000.0</td>\n",
       "      <td>82000000.0</td>\n",
       "      <td>0.0</td>\n",
       "      <td>0.0</td>\n",
       "      <td>0.0</td>\n",
       "      <td>0.0</td>\n",
       "      <td>0.0</td>\n",
       "    </tr>\n",
       "  </tbody>\n",
       "</table>\n",
       "</div>"
      ],
      "text/plain": [
       "          Zone                Produit   Origine  Aliments pour animaux  \\\n",
       "0  Afghanistan       Abats Comestible   animale                    0.0   \n",
       "1  Afghanistan        Agrumes, Autres  vegetale                    0.0   \n",
       "2  Afghanistan  Aliments pour enfants  vegetale                    0.0   \n",
       "3  Afghanistan                 Ananas  vegetale                    0.0   \n",
       "4  Afghanistan                Bananes  vegetale                    0.0   \n",
       "\n",
       "   Autres Utilisations  Disponibilité alimentaire (Kcal/personne/jour)  \\\n",
       "0                  0.0                                             5.0   \n",
       "1                  0.0                                             1.0   \n",
       "2                  0.0                                             1.0   \n",
       "3                  0.0                                             0.0   \n",
       "4                  0.0                                             4.0   \n",
       "\n",
       "   Disponibilité alimentaire en quantité (kg/personne/an)  \\\n",
       "0                                               1.72        \n",
       "1                                               1.29        \n",
       "2                                               0.06        \n",
       "3                                               0.00        \n",
       "4                                               2.70        \n",
       "\n",
       "   Disponibilité de matière grasse en quantité (g/personne/jour)  \\\n",
       "0                                               0.20               \n",
       "1                                               0.01               \n",
       "2                                               0.01               \n",
       "3                                               0.00               \n",
       "4                                               0.02               \n",
       "\n",
       "   Disponibilité de protéines en quantité (g/personne/jour)  \\\n",
       "0                                               0.77          \n",
       "1                                               0.02          \n",
       "2                                               0.03          \n",
       "3                                               0.00          \n",
       "4                                               0.05          \n",
       "\n",
       "   Disponibilité intérieure  Exportations - Quantité  Importations - Quantité  \\\n",
       "0                53000000.0                      0.0                      0.0   \n",
       "1                41000000.0                2000000.0               40000000.0   \n",
       "2                 2000000.0                      0.0                2000000.0   \n",
       "3                       0.0                      0.0                      0.0   \n",
       "4                82000000.0                      0.0               82000000.0   \n",
       "\n",
       "   Nourriture     Pertes  Production  Semences  Traitement  Variation de stock  \n",
       "0  53000000.0        0.0  53000000.0       0.0         0.0                 0.0  \n",
       "1  39000000.0  2000000.0   3000000.0       0.0         0.0                 0.0  \n",
       "2   2000000.0        0.0         0.0       0.0         0.0                 0.0  \n",
       "3         0.0        0.0         0.0       0.0         0.0                 0.0  \n",
       "4  82000000.0        0.0         0.0       0.0         0.0                 0.0  "
      ]
     },
     "execution_count": 18,
     "metadata": {},
     "output_type": "execute_result"
    }
   ],
   "source": [
    "# Observation des 5 premiers lignes de l'échantillon après remplacement des valeurs manquantes\n",
    "data_dispo.head(5)"
   ]
  },
  {
   "cell_type": "markdown",
   "id": "fc0d2ad7-28bc-4c19-81f6-a66c3e3bf616",
   "metadata": {},
   "source": [
    "### 2.1.2 DataFrame \"sous nutrition\""
   ]
  },
  {
   "cell_type": "code",
   "execution_count": 19,
   "id": "b9d7d0da-4f95-44f2-8653-bf56f9b665ed",
   "metadata": {},
   "outputs": [
    {
     "data": {
      "text/html": [
       "<div>\n",
       "<style scoped>\n",
       "    .dataframe tbody tr th:only-of-type {\n",
       "        vertical-align: middle;\n",
       "    }\n",
       "\n",
       "    .dataframe tbody tr th {\n",
       "        vertical-align: top;\n",
       "    }\n",
       "\n",
       "    .dataframe thead th {\n",
       "        text-align: right;\n",
       "    }\n",
       "</style>\n",
       "<table border=\"1\" class=\"dataframe\">\n",
       "  <thead>\n",
       "    <tr style=\"text-align: right;\">\n",
       "      <th></th>\n",
       "      <th>Zone</th>\n",
       "      <th>Année</th>\n",
       "      <th>Valeur</th>\n",
       "    </tr>\n",
       "  </thead>\n",
       "  <tbody>\n",
       "    <tr>\n",
       "      <th>0</th>\n",
       "      <td>Afghanistan</td>\n",
       "      <td>2012-2014</td>\n",
       "      <td>8.6</td>\n",
       "    </tr>\n",
       "    <tr>\n",
       "      <th>1</th>\n",
       "      <td>Afghanistan</td>\n",
       "      <td>2013-2015</td>\n",
       "      <td>8.8</td>\n",
       "    </tr>\n",
       "    <tr>\n",
       "      <th>2</th>\n",
       "      <td>Afghanistan</td>\n",
       "      <td>2014-2016</td>\n",
       "      <td>8.9</td>\n",
       "    </tr>\n",
       "    <tr>\n",
       "      <th>3</th>\n",
       "      <td>Afghanistan</td>\n",
       "      <td>2015-2017</td>\n",
       "      <td>9.7</td>\n",
       "    </tr>\n",
       "    <tr>\n",
       "      <th>4</th>\n",
       "      <td>Afghanistan</td>\n",
       "      <td>2016-2018</td>\n",
       "      <td>10.5</td>\n",
       "    </tr>\n",
       "  </tbody>\n",
       "</table>\n",
       "</div>"
      ],
      "text/plain": [
       "          Zone      Année Valeur\n",
       "0  Afghanistan  2012-2014    8.6\n",
       "1  Afghanistan  2013-2015    8.8\n",
       "2  Afghanistan  2014-2016    8.9\n",
       "3  Afghanistan  2015-2017    9.7\n",
       "4  Afghanistan  2016-2018   10.5"
      ]
     },
     "execution_count": 19,
     "metadata": {},
     "output_type": "execute_result"
    }
   ],
   "source": [
    "# Observation des 5 premiers lignes de l'échantillon\n",
    "data_sous_nutrition.head(5)"
   ]
  },
  {
   "cell_type": "code",
   "execution_count": 20,
   "id": "c427a1c1-6b1b-4008-b152-bc73681da66d",
   "metadata": {},
   "outputs": [
    {
     "data": {
      "text/plain": [
       "(1218, 3)"
      ]
     },
     "execution_count": 20,
     "metadata": {},
     "output_type": "execute_result"
    }
   ],
   "source": [
    "# Forme du jeu de donnés (EdStatsCountrySeries)\n",
    "data_sous_nutrition.shape"
   ]
  },
  {
   "cell_type": "code",
   "execution_count": 21,
   "id": "7669d1ec-2221-4064-9061-6fd9c404c3f5",
   "metadata": {},
   "outputs": [
    {
     "data": {
      "text/html": [
       "<div>\n",
       "<style scoped>\n",
       "    .dataframe tbody tr th:only-of-type {\n",
       "        vertical-align: middle;\n",
       "    }\n",
       "\n",
       "    .dataframe tbody tr th {\n",
       "        vertical-align: top;\n",
       "    }\n",
       "\n",
       "    .dataframe thead th {\n",
       "        text-align: right;\n",
       "    }\n",
       "</style>\n",
       "<table border=\"1\" class=\"dataframe\">\n",
       "  <thead>\n",
       "    <tr style=\"text-align: right;\">\n",
       "      <th></th>\n",
       "      <th>Zone</th>\n",
       "      <th>Année</th>\n",
       "      <th>Valeur</th>\n",
       "    </tr>\n",
       "  </thead>\n",
       "  <tbody>\n",
       "  </tbody>\n",
       "</table>\n",
       "</div>"
      ],
      "text/plain": [
       "Empty DataFrame\n",
       "Columns: [Zone, Année, Valeur]\n",
       "Index: []"
      ]
     },
     "execution_count": 21,
     "metadata": {},
     "output_type": "execute_result"
    }
   ],
   "source": [
    "# Vérification des doublons\n",
    "data_sous_nutrition[data_sous_nutrition.duplicated()]"
   ]
  },
  {
   "cell_type": "code",
   "execution_count": 22,
   "id": "56c3e17c-2474-41d1-afe8-8e2af3e9bae6",
   "metadata": {},
   "outputs": [
    {
     "data": {
      "text/plain": [
       "Valeur    48.77\n",
       "Zone       0.00\n",
       "Année      0.00\n",
       "dtype: float64"
      ]
     },
     "execution_count": 22,
     "metadata": {},
     "output_type": "execute_result"
    }
   ],
   "source": [
    "  # Pourcentages des valeurs nulls\n",
    "pourcentage_valeur_null = round((data_sous_nutrition.isnull().sum()/data_sous_nutrition.shape[0]*100),2).sort_values(ascending=False)\n",
    "pourcentage_valeur_null"
   ]
  },
  {
   "cell_type": "code",
   "execution_count": 23,
   "id": "5eca72e2-99f3-48b1-8580-c19fea08d815",
   "metadata": {},
   "outputs": [
    {
     "data": {
      "text/html": [
       "<div>\n",
       "<style scoped>\n",
       "    .dataframe tbody tr th:only-of-type {\n",
       "        vertical-align: middle;\n",
       "    }\n",
       "\n",
       "    .dataframe tbody tr th {\n",
       "        vertical-align: top;\n",
       "    }\n",
       "\n",
       "    .dataframe thead th {\n",
       "        text-align: right;\n",
       "    }\n",
       "</style>\n",
       "<table border=\"1\" class=\"dataframe\">\n",
       "  <thead>\n",
       "    <tr style=\"text-align: right;\">\n",
       "      <th></th>\n",
       "      <th>count</th>\n",
       "      <th>unique</th>\n",
       "      <th>top</th>\n",
       "      <th>freq</th>\n",
       "    </tr>\n",
       "  </thead>\n",
       "  <tbody>\n",
       "    <tr>\n",
       "      <th>Zone</th>\n",
       "      <td>1218</td>\n",
       "      <td>203</td>\n",
       "      <td>Afghanistan</td>\n",
       "      <td>6</td>\n",
       "    </tr>\n",
       "    <tr>\n",
       "      <th>Année</th>\n",
       "      <td>1218</td>\n",
       "      <td>6</td>\n",
       "      <td>2012-2014</td>\n",
       "      <td>203</td>\n",
       "    </tr>\n",
       "    <tr>\n",
       "      <th>Valeur</th>\n",
       "      <td>624</td>\n",
       "      <td>139</td>\n",
       "      <td>&lt;0.1</td>\n",
       "      <td>120</td>\n",
       "    </tr>\n",
       "  </tbody>\n",
       "</table>\n",
       "</div>"
      ],
      "text/plain": [
       "       count unique          top freq\n",
       "Zone    1218    203  Afghanistan    6\n",
       "Année   1218      6    2012-2014  203\n",
       "Valeur   624    139         <0.1  120"
      ]
     },
     "execution_count": 23,
     "metadata": {},
     "output_type": "execute_result"
    }
   ],
   "source": [
    "  #Statistiques descriptives\n",
    "statistique = data_sous_nutrition.describe().T\n",
    "statistique"
   ]
  },
  {
   "cell_type": "code",
   "execution_count": 24,
   "id": "4d5da2ed-42c9-4356-9170-a1e527481951",
   "metadata": {},
   "outputs": [
    {
     "name": "stdout",
     "output_type": "stream",
     "text": [
      "<class 'pandas.core.frame.DataFrame'>\n",
      "RangeIndex: 1218 entries, 0 to 1217\n",
      "Data columns (total 3 columns):\n",
      " #   Column  Non-Null Count  Dtype \n",
      "---  ------  --------------  ----- \n",
      " 0   Zone    1218 non-null   object\n",
      " 1   Année   1218 non-null   object\n",
      " 2   Valeur  624 non-null    object\n",
      "dtypes: object(3)\n",
      "memory usage: 28.7+ KB\n"
     ]
    }
   ],
   "source": [
    "  #Typages de données\n",
    "info = data_sous_nutrition.info()"
   ]
  },
  {
   "cell_type": "markdown",
   "id": "ae389b31-40dd-4208-8a19-3475956bde25",
   "metadata": {},
   "source": [
    "* On voit que les deux colonnes \"Années\" et \"Valeur\" sont au mauvais format, nous allons essayer de résoudre cette incidence\n",
    "* D'après les recherches précédents de Julien la colonne \"Années\" correspond par ex : pour\n",
    "  l’intervalle 2012-2014, le nombre de personnes correspond à la moyenne sur ces 3\n",
    "  années, on peut le résumer en 2013.\n",
    "* Dans ce cas nous allons convertir ces colonnes pour changer la structure de la colonne"
   ]
  },
  {
   "cell_type": "code",
   "execution_count": 25,
   "id": "4d9ed8f4-d343-4f7e-9228-1f80ac0ce271",
   "metadata": {},
   "outputs": [
    {
     "data": {
      "text/plain": [
       "array(['8.6', '8.8', '8.9', '9.7', '10.5', '11.1', '2.2', '2.5', '2.8',\n",
       "       '3', '3.1', '3.3', '0.1', '1.3', '1.2', nan, '7.6', '6.2', '5.3',\n",
       "       '5.6', '5.8', '5.7', '1.5', '1.6', '1.1', '1.7', '<0.1', '21.7',\n",
       "       '22.4', '23.3', '22.3', '21.5', '20.9', '0.8', '2', '1.9', '1.8',\n",
       "       '0.4', '0.5', '0.3', '0.2', '3.2', '3.4', '3.6', '3.8', '2.1',\n",
       "       '2.3', '2.4', '0.6', '0.7', '0.9', '3.9', '2.7', '1.4', '4.8',\n",
       "       '4.6', '4.9', '5', '4.4', '4.3', '4.2', '4.5', '26.2', '24.3',\n",
       "       '21.3', '21.1', '2.9', '5.1', '5.2', '5.4', '203.8', '198.3',\n",
       "       '193.1', '190.9', '190.1', '189.2', '23.6', '24', '24.1', '3.7',\n",
       "       '7.3', '7.8', '8.4', '9', '9.1', '10.1', '10', '10.7', '11.5',\n",
       "       '11.9', '11.8', '8.7', '10.3', '11', '1', '5.5', '6.8', '7.9',\n",
       "       '5.9', '7', '9.2', '9.4', '9.6', '6.7', '7.1', '7.2', '14.7',\n",
       "       '17.4', '20.2', '22.2', '22.8', '24.6', '31.1', '28.5', '25.4',\n",
       "       '24.8', '26.1', '14.5', '15.4', '16.5', '15.8', '15.7', '10.8',\n",
       "       '11.2', '11.6', '12', '12.2', '13.5', '13.2', '12.8', '13', '13.4',\n",
       "       '14.1', '4.1', '6.1', '6', '6.5', '2.6', '8', '8.3'], dtype=object)"
      ]
     },
     "execution_count": 25,
     "metadata": {},
     "output_type": "execute_result"
    }
   ],
   "source": [
    "# pour trouver les éléments unique de la colonne\n",
    "data_sous_nutrition['Valeur'].unique()"
   ]
  },
  {
   "cell_type": "code",
   "execution_count": 26,
   "id": "8d517f6d-6d69-43de-91bc-d77701a5078a",
   "metadata": {},
   "outputs": [],
   "source": [
    "# changer la valeur de la colonne\n",
    "#data_sous_nutrition['Valeur'] = data_sous_nutrition['Valeur'].replace('<0.1','0.1')"
   ]
  },
  {
   "cell_type": "code",
   "execution_count": 27,
   "id": "02437068-6790-429f-9a94-4a4c8d297919",
   "metadata": {},
   "outputs": [],
   "source": [
    "# Changer le type\n",
    "data_sous_nutrition['Valeur'] = pd.to_numeric(data_sous_nutrition['Valeur'], errors='coerce')"
   ]
  },
  {
   "cell_type": "markdown",
   "id": "f7b14395-7300-4727-aa2c-763cc471f459",
   "metadata": {},
   "source": [
    "* Maintenant nous allons changer le type qui doit être un \"int\" au lieu d'un \"object\" pour la colonne \"Année\" avec la fonction \"replace\" de python"
   ]
  },
  {
   "cell_type": "code",
   "execution_count": 28,
   "id": "f9c09410-891f-4d6d-988a-ef59f9e3bc03",
   "metadata": {},
   "outputs": [],
   "source": [
    "# changer les valeurs de la colonne\n",
    "data_sous_nutrition[\"Année\"] = data_sous_nutrition[\"Année\"].replace(['2012-2014', '2013-2015', '2014-2016', '2015-2017', '2016-2018','2017-2019'],\n",
    "                                                                    ['2013','2014','2015','2016','2017','2018'])"
   ]
  },
  {
   "cell_type": "code",
   "execution_count": 29,
   "id": "4127aa4d-981d-4a00-8351-75b03abc353e",
   "metadata": {},
   "outputs": [
    {
     "data": {
      "text/plain": [
       "array(['2013', '2014', '2015', '2016', '2017', '2018'], dtype=object)"
      ]
     },
     "execution_count": 29,
     "metadata": {},
     "output_type": "execute_result"
    }
   ],
   "source": [
    "# pour trouver les éléments unique de la colonne\n",
    "data_sous_nutrition[\"Année\"].unique()"
   ]
  },
  {
   "cell_type": "code",
   "execution_count": 30,
   "id": "2b214a85-6ce2-43f1-a02c-632fe20b1dac",
   "metadata": {},
   "outputs": [],
   "source": [
    "# Changer le type\n",
    "data_sous_nutrition[\"Année\"] = pd.to_numeric(data_sous_nutrition[\"Année\"], errors='coerce')"
   ]
  },
  {
   "cell_type": "code",
   "execution_count": 31,
   "id": "85a24dff-36b0-488b-98b6-5093408e7563",
   "metadata": {},
   "outputs": [
    {
     "name": "stdout",
     "output_type": "stream",
     "text": [
      "<class 'pandas.core.frame.DataFrame'>\n",
      "RangeIndex: 1218 entries, 0 to 1217\n",
      "Data columns (total 3 columns):\n",
      " #   Column  Non-Null Count  Dtype  \n",
      "---  ------  --------------  -----  \n",
      " 0   Zone    1218 non-null   object \n",
      " 1   Année   1218 non-null   int64  \n",
      " 2   Valeur  504 non-null    float64\n",
      "dtypes: float64(1), int64(1), object(1)\n",
      "memory usage: 28.7+ KB\n"
     ]
    }
   ],
   "source": [
    "  #Typages de données après changement\n",
    "info = data_sous_nutrition.info()"
   ]
  },
  {
   "cell_type": "code",
   "execution_count": 32,
   "id": "743f3c8d-cd3d-4aad-9dd0-6e9f1a5d71b1",
   "metadata": {},
   "outputs": [
    {
     "data": {
      "text/plain": [
       "Afghanistan           6\n",
       "Panama                6\n",
       "Nioué                 6\n",
       "Norvège               6\n",
       "Nouvelle-Calédonie    6\n",
       "                     ..\n",
       "Grèce                 6\n",
       "Grenade               6\n",
       "Groenland             6\n",
       "Guatemala             6\n",
       "Zimbabwe              6\n",
       "Name: Zone, Length: 203, dtype: int64"
      ]
     },
     "execution_count": 32,
     "metadata": {},
     "output_type": "execute_result"
    }
   ],
   "source": [
    "data_sous_nutrition[\"Zone\"].value_counts()"
   ]
  },
  {
   "cell_type": "code",
   "execution_count": 33,
   "id": "a272e618-1fa1-4efa-9600-c1ac4bde07da",
   "metadata": {},
   "outputs": [
    {
     "data": {
      "text/plain": [
       "203"
      ]
     },
     "execution_count": 33,
     "metadata": {},
     "output_type": "execute_result"
    }
   ],
   "source": [
    "data_sous_nutrition[\"Zone\"].nunique()"
   ]
  },
  {
   "cell_type": "markdown",
   "id": "1cf1756b-0eb4-439c-88e2-7151cb40ca10",
   "metadata": {},
   "source": [
    "* D'après la lexique des données des personnes en sous nutrition(sous alimentation) est exprimé en millions d’habitants, on va multiplier par 1000000 la colonne."
   ]
  },
  {
   "cell_type": "code",
   "execution_count": 34,
   "id": "9a0d48c9-cb51-4d87-889f-11dd3e38e769",
   "metadata": {},
   "outputs": [
    {
     "data": {
      "text/html": [
       "<div>\n",
       "<style scoped>\n",
       "    .dataframe tbody tr th:only-of-type {\n",
       "        vertical-align: middle;\n",
       "    }\n",
       "\n",
       "    .dataframe tbody tr th {\n",
       "        vertical-align: top;\n",
       "    }\n",
       "\n",
       "    .dataframe thead th {\n",
       "        text-align: right;\n",
       "    }\n",
       "</style>\n",
       "<table border=\"1\" class=\"dataframe\">\n",
       "  <thead>\n",
       "    <tr style=\"text-align: right;\">\n",
       "      <th></th>\n",
       "      <th>Zone</th>\n",
       "      <th>Année</th>\n",
       "      <th>Valeur</th>\n",
       "    </tr>\n",
       "  </thead>\n",
       "  <tbody>\n",
       "    <tr>\n",
       "      <th>0</th>\n",
       "      <td>Afghanistan</td>\n",
       "      <td>2013</td>\n",
       "      <td>8600000.0</td>\n",
       "    </tr>\n",
       "    <tr>\n",
       "      <th>1</th>\n",
       "      <td>Afghanistan</td>\n",
       "      <td>2014</td>\n",
       "      <td>8800000.0</td>\n",
       "    </tr>\n",
       "    <tr>\n",
       "      <th>2</th>\n",
       "      <td>Afghanistan</td>\n",
       "      <td>2015</td>\n",
       "      <td>8900000.0</td>\n",
       "    </tr>\n",
       "    <tr>\n",
       "      <th>3</th>\n",
       "      <td>Afghanistan</td>\n",
       "      <td>2016</td>\n",
       "      <td>9700000.0</td>\n",
       "    </tr>\n",
       "    <tr>\n",
       "      <th>4</th>\n",
       "      <td>Afghanistan</td>\n",
       "      <td>2017</td>\n",
       "      <td>10500000.0</td>\n",
       "    </tr>\n",
       "  </tbody>\n",
       "</table>\n",
       "</div>"
      ],
      "text/plain": [
       "          Zone  Année      Valeur\n",
       "0  Afghanistan   2013   8600000.0\n",
       "1  Afghanistan   2014   8800000.0\n",
       "2  Afghanistan   2015   8900000.0\n",
       "3  Afghanistan   2016   9700000.0\n",
       "4  Afghanistan   2017  10500000.0"
      ]
     },
     "execution_count": 34,
     "metadata": {},
     "output_type": "execute_result"
    }
   ],
   "source": [
    "# dataframe sous nutrition\n",
    "data_sous_nutrition[\"Valeur\"] = data_sous_nutrition[\"Valeur\"]*1000000\n",
    "data_sous_nutrition.head(5)"
   ]
  },
  {
   "cell_type": "code",
   "execution_count": 35,
   "id": "4b938603-56cb-4ad8-a8f9-e3c5c563a3fd",
   "metadata": {},
   "outputs": [
    {
     "name": "stdout",
     "output_type": "stream",
     "text": [
      "<class 'pandas.core.frame.DataFrame'>\n",
      "RangeIndex: 1218 entries, 0 to 1217\n",
      "Data columns (total 3 columns):\n",
      " #   Column  Non-Null Count  Dtype  \n",
      "---  ------  --------------  -----  \n",
      " 0   Zone    1218 non-null   object \n",
      " 1   Année   1218 non-null   int64  \n",
      " 2   Valeur  504 non-null    float64\n",
      "dtypes: float64(1), int64(1), object(1)\n",
      "memory usage: 28.7+ KB\n"
     ]
    }
   ],
   "source": [
    "  #Typages de données\n",
    "info = data_sous_nutrition.info()"
   ]
  },
  {
   "cell_type": "code",
   "execution_count": 36,
   "id": "19e53603-226e-437e-8464-904db7e6fdb5",
   "metadata": {},
   "outputs": [],
   "source": [
    "# renommer la colonne\n",
    "data_sous_nutrition = data_sous_nutrition.rename(columns = {\"Valeur\": \"Personne en sous-alimentation\"})"
   ]
  },
  {
   "cell_type": "markdown",
   "id": "04c67f6a-60ea-40a9-80c9-00a64ce78f13",
   "metadata": {},
   "source": [
    "#### 2.1.2.1 Traiter les valeurs manquantes"
   ]
  },
  {
   "cell_type": "code",
   "execution_count": 37,
   "id": "d881c760-6be8-4977-89b4-4ccf6f99e013",
   "metadata": {},
   "outputs": [
    {
     "data": {
      "text/html": [
       "<div>\n",
       "<style scoped>\n",
       "    .dataframe tbody tr th:only-of-type {\n",
       "        vertical-align: middle;\n",
       "    }\n",
       "\n",
       "    .dataframe tbody tr th {\n",
       "        vertical-align: top;\n",
       "    }\n",
       "\n",
       "    .dataframe thead th {\n",
       "        text-align: right;\n",
       "    }\n",
       "</style>\n",
       "<table border=\"1\" class=\"dataframe\">\n",
       "  <thead>\n",
       "    <tr style=\"text-align: right;\">\n",
       "      <th></th>\n",
       "      <th>Zone</th>\n",
       "      <th>Année</th>\n",
       "      <th>Personne en sous-alimentation</th>\n",
       "    </tr>\n",
       "  </thead>\n",
       "  <tbody>\n",
       "    <tr>\n",
       "      <th>0</th>\n",
       "      <td>Afghanistan</td>\n",
       "      <td>2013</td>\n",
       "      <td>8600000.0</td>\n",
       "    </tr>\n",
       "    <tr>\n",
       "      <th>1</th>\n",
       "      <td>Afghanistan</td>\n",
       "      <td>2014</td>\n",
       "      <td>8800000.0</td>\n",
       "    </tr>\n",
       "    <tr>\n",
       "      <th>2</th>\n",
       "      <td>Afghanistan</td>\n",
       "      <td>2015</td>\n",
       "      <td>8900000.0</td>\n",
       "    </tr>\n",
       "    <tr>\n",
       "      <th>3</th>\n",
       "      <td>Afghanistan</td>\n",
       "      <td>2016</td>\n",
       "      <td>9700000.0</td>\n",
       "    </tr>\n",
       "    <tr>\n",
       "      <th>4</th>\n",
       "      <td>Afghanistan</td>\n",
       "      <td>2017</td>\n",
       "      <td>10500000.0</td>\n",
       "    </tr>\n",
       "  </tbody>\n",
       "</table>\n",
       "</div>"
      ],
      "text/plain": [
       "          Zone  Année  Personne en sous-alimentation\n",
       "0  Afghanistan   2013                      8600000.0\n",
       "1  Afghanistan   2014                      8800000.0\n",
       "2  Afghanistan   2015                      8900000.0\n",
       "3  Afghanistan   2016                      9700000.0\n",
       "4  Afghanistan   2017                     10500000.0"
      ]
     },
     "execution_count": 37,
     "metadata": {},
     "output_type": "execute_result"
    }
   ],
   "source": [
    "# remplacer les valeurs maquantes du dataframe sous nutrition\n",
    "data_sous_nutrition = data_sous_nutrition.fillna(0)  \n",
    "\n",
    "data_sous_nutrition.head(5)"
   ]
  },
  {
   "cell_type": "markdown",
   "id": "44507dc9-dddc-41ec-bf01-080ae02e2f7a",
   "metadata": {},
   "source": [
    "* Après avoir remplacer les valeurs manquantes nous allons maintenant revérifier à nouveau si notre fonction a été bien appliquée sur les différentes colonnes"
   ]
  },
  {
   "cell_type": "code",
   "execution_count": 38,
   "id": "00d19cfb-64e7-4366-bdd3-6372c6f74749",
   "metadata": {},
   "outputs": [
    {
     "data": {
      "text/plain": [
       "Zone                             0.0\n",
       "Année                            0.0\n",
       "Personne en sous-alimentation    0.0\n",
       "dtype: float64"
      ]
     },
     "execution_count": 38,
     "metadata": {},
     "output_type": "execute_result"
    }
   ],
   "source": [
    "  # Pourcentages des valeurs nulls aprés la fonction fillna\n",
    "pourcentage_valeur_null = round((data_sous_nutrition.isnull().sum()/data_sous_nutrition.shape[0]*100),2).sort_values(ascending=False)\n",
    "pourcentage_valeur_null"
   ]
  },
  {
   "cell_type": "markdown",
   "id": "eb12a405-41bd-4566-aa04-5c7f189df51c",
   "metadata": {},
   "source": [
    "### 2.1.3 DataFrame \"Population\""
   ]
  },
  {
   "cell_type": "code",
   "execution_count": 39,
   "id": "418ee57f-6a87-4e5f-91a0-fb7871df05c3",
   "metadata": {},
   "outputs": [
    {
     "data": {
      "text/html": [
       "<div>\n",
       "<style scoped>\n",
       "    .dataframe tbody tr th:only-of-type {\n",
       "        vertical-align: middle;\n",
       "    }\n",
       "\n",
       "    .dataframe tbody tr th {\n",
       "        vertical-align: top;\n",
       "    }\n",
       "\n",
       "    .dataframe thead th {\n",
       "        text-align: right;\n",
       "    }\n",
       "</style>\n",
       "<table border=\"1\" class=\"dataframe\">\n",
       "  <thead>\n",
       "    <tr style=\"text-align: right;\">\n",
       "      <th></th>\n",
       "      <th>Zone</th>\n",
       "      <th>Année</th>\n",
       "      <th>Valeur</th>\n",
       "    </tr>\n",
       "  </thead>\n",
       "  <tbody>\n",
       "    <tr>\n",
       "      <th>0</th>\n",
       "      <td>Afghanistan</td>\n",
       "      <td>2013</td>\n",
       "      <td>32269.589</td>\n",
       "    </tr>\n",
       "    <tr>\n",
       "      <th>1</th>\n",
       "      <td>Afghanistan</td>\n",
       "      <td>2014</td>\n",
       "      <td>33370.794</td>\n",
       "    </tr>\n",
       "    <tr>\n",
       "      <th>2</th>\n",
       "      <td>Afghanistan</td>\n",
       "      <td>2015</td>\n",
       "      <td>34413.603</td>\n",
       "    </tr>\n",
       "    <tr>\n",
       "      <th>3</th>\n",
       "      <td>Afghanistan</td>\n",
       "      <td>2016</td>\n",
       "      <td>35383.032</td>\n",
       "    </tr>\n",
       "    <tr>\n",
       "      <th>4</th>\n",
       "      <td>Afghanistan</td>\n",
       "      <td>2017</td>\n",
       "      <td>36296.113</td>\n",
       "    </tr>\n",
       "  </tbody>\n",
       "</table>\n",
       "</div>"
      ],
      "text/plain": [
       "          Zone  Année     Valeur\n",
       "0  Afghanistan   2013  32269.589\n",
       "1  Afghanistan   2014  33370.794\n",
       "2  Afghanistan   2015  34413.603\n",
       "3  Afghanistan   2016  35383.032\n",
       "4  Afghanistan   2017  36296.113"
      ]
     },
     "execution_count": 39,
     "metadata": {},
     "output_type": "execute_result"
    }
   ],
   "source": [
    "# Observation des 5 premiers lignes de l'échantillon\n",
    "data_population.head(5)"
   ]
  },
  {
   "cell_type": "code",
   "execution_count": 40,
   "id": "b0820890-f35f-40f8-b506-29fcd74f73d0",
   "metadata": {},
   "outputs": [
    {
     "data": {
      "text/plain": [
       "(1416, 3)"
      ]
     },
     "execution_count": 40,
     "metadata": {},
     "output_type": "execute_result"
    }
   ],
   "source": [
    "# Forme du jeu de donnés \n",
    "data_population.shape"
   ]
  },
  {
   "cell_type": "code",
   "execution_count": 41,
   "id": "db319b99-573c-40f9-958c-5c542d7c02d9",
   "metadata": {},
   "outputs": [
    {
     "name": "stdout",
     "output_type": "stream",
     "text": [
      "<class 'pandas.core.frame.DataFrame'>\n",
      "RangeIndex: 1416 entries, 0 to 1415\n",
      "Data columns (total 3 columns):\n",
      " #   Column  Non-Null Count  Dtype  \n",
      "---  ------  --------------  -----  \n",
      " 0   Zone    1416 non-null   object \n",
      " 1   Année   1416 non-null   int64  \n",
      " 2   Valeur  1416 non-null   float64\n",
      "dtypes: float64(1), int64(1), object(1)\n",
      "memory usage: 33.3+ KB\n"
     ]
    }
   ],
   "source": [
    "  #Typages de données\n",
    "info = data_population.info()"
   ]
  },
  {
   "cell_type": "code",
   "execution_count": 42,
   "id": "85a461bf-a45a-4013-b31e-c8f6632b4d08",
   "metadata": {},
   "outputs": [
    {
     "data": {
      "text/html": [
       "<div>\n",
       "<style scoped>\n",
       "    .dataframe tbody tr th:only-of-type {\n",
       "        vertical-align: middle;\n",
       "    }\n",
       "\n",
       "    .dataframe tbody tr th {\n",
       "        vertical-align: top;\n",
       "    }\n",
       "\n",
       "    .dataframe thead th {\n",
       "        text-align: right;\n",
       "    }\n",
       "</style>\n",
       "<table border=\"1\" class=\"dataframe\">\n",
       "  <thead>\n",
       "    <tr style=\"text-align: right;\">\n",
       "      <th></th>\n",
       "      <th>Zone</th>\n",
       "      <th>Année</th>\n",
       "      <th>Valeur</th>\n",
       "    </tr>\n",
       "  </thead>\n",
       "  <tbody>\n",
       "  </tbody>\n",
       "</table>\n",
       "</div>"
      ],
      "text/plain": [
       "Empty DataFrame\n",
       "Columns: [Zone, Année, Valeur]\n",
       "Index: []"
      ]
     },
     "execution_count": 42,
     "metadata": {},
     "output_type": "execute_result"
    }
   ],
   "source": [
    "# Vérification des doublons\n",
    "data_population[data_population.duplicated()]"
   ]
  },
  {
   "cell_type": "code",
   "execution_count": 43,
   "id": "bf19ed65-75be-4371-83d7-9ded1715c1e4",
   "metadata": {},
   "outputs": [
    {
     "data": {
      "text/plain": [
       "Zone      0\n",
       "Année     0\n",
       "Valeur    0\n",
       "dtype: int64"
      ]
     },
     "execution_count": 43,
     "metadata": {},
     "output_type": "execute_result"
    }
   ],
   "source": [
    " # total_valeur_null\n",
    "total_valeur_null = data_population.isnull().sum().sort_values(ascending=False)\n",
    "total_valeur_null"
   ]
  },
  {
   "cell_type": "code",
   "execution_count": 44,
   "id": "f4d06a8d-151e-46c6-a5a7-47ab64ae0ba0",
   "metadata": {},
   "outputs": [
    {
     "data": {
      "text/plain": [
       "Zone      0.0\n",
       "Année     0.0\n",
       "Valeur    0.0\n",
       "dtype: float64"
      ]
     },
     "execution_count": 44,
     "metadata": {},
     "output_type": "execute_result"
    }
   ],
   "source": [
    "  # Pourcentages des valeurs nulls\n",
    "pourcentage_valeur_null = round((data_population.isnull().sum()/data_population.shape[0]*100),2).sort_values(ascending=False)\n",
    "pourcentage_valeur_null"
   ]
  },
  {
   "cell_type": "code",
   "execution_count": 45,
   "id": "26bd130a-e065-4be7-aa2e-ac35236c3d62",
   "metadata": {},
   "outputs": [
    {
     "data": {
      "text/html": [
       "<div>\n",
       "<style scoped>\n",
       "    .dataframe tbody tr th:only-of-type {\n",
       "        vertical-align: middle;\n",
       "    }\n",
       "\n",
       "    .dataframe tbody tr th {\n",
       "        vertical-align: top;\n",
       "    }\n",
       "\n",
       "    .dataframe thead th {\n",
       "        text-align: right;\n",
       "    }\n",
       "</style>\n",
       "<table border=\"1\" class=\"dataframe\">\n",
       "  <thead>\n",
       "    <tr style=\"text-align: right;\">\n",
       "      <th></th>\n",
       "      <th>count</th>\n",
       "      <th>mean</th>\n",
       "      <th>std</th>\n",
       "      <th>min</th>\n",
       "      <th>25%</th>\n",
       "      <th>50%</th>\n",
       "      <th>75%</th>\n",
       "      <th>max</th>\n",
       "    </tr>\n",
       "  </thead>\n",
       "  <tbody>\n",
       "    <tr>\n",
       "      <th>Année</th>\n",
       "      <td>1416.0</td>\n",
       "      <td>2015.500000</td>\n",
       "      <td>1.708428</td>\n",
       "      <td>2013.000</td>\n",
       "      <td>2014.000</td>\n",
       "      <td>2015.50</td>\n",
       "      <td>2017.00000</td>\n",
       "      <td>2018.000</td>\n",
       "    </tr>\n",
       "    <tr>\n",
       "      <th>Valeur</th>\n",
       "      <td>1416.0</td>\n",
       "      <td>31447.929428</td>\n",
       "      <td>130081.182581</td>\n",
       "      <td>0.793</td>\n",
       "      <td>378.341</td>\n",
       "      <td>5126.48</td>\n",
       "      <td>19306.66275</td>\n",
       "      <td>1427647.786</td>\n",
       "    </tr>\n",
       "  </tbody>\n",
       "</table>\n",
       "</div>"
      ],
      "text/plain": [
       "         count          mean            std       min       25%      50%  \\\n",
       "Année   1416.0   2015.500000       1.708428  2013.000  2014.000  2015.50   \n",
       "Valeur  1416.0  31447.929428  130081.182581     0.793   378.341  5126.48   \n",
       "\n",
       "                75%          max  \n",
       "Année    2017.00000     2018.000  \n",
       "Valeur  19306.66275  1427647.786  "
      ]
     },
     "execution_count": 45,
     "metadata": {},
     "output_type": "execute_result"
    }
   ],
   "source": [
    "  #Statistiques descriptives\n",
    "statistique = data_population.describe().T\n",
    "statistique"
   ]
  },
  {
   "cell_type": "code",
   "execution_count": 46,
   "id": "08fcdf76-d791-4474-b393-843489a8c0a2",
   "metadata": {},
   "outputs": [
    {
     "data": {
      "text/html": [
       "<div>\n",
       "<style scoped>\n",
       "    .dataframe tbody tr th:only-of-type {\n",
       "        vertical-align: middle;\n",
       "    }\n",
       "\n",
       "    .dataframe tbody tr th {\n",
       "        vertical-align: top;\n",
       "    }\n",
       "\n",
       "    .dataframe thead th {\n",
       "        text-align: right;\n",
       "    }\n",
       "</style>\n",
       "<table border=\"1\" class=\"dataframe\">\n",
       "  <thead>\n",
       "    <tr style=\"text-align: right;\">\n",
       "      <th></th>\n",
       "      <th>Zone</th>\n",
       "      <th>Année</th>\n",
       "      <th>Nbre habitant</th>\n",
       "    </tr>\n",
       "  </thead>\n",
       "  <tbody>\n",
       "    <tr>\n",
       "      <th>0</th>\n",
       "      <td>Afghanistan</td>\n",
       "      <td>2013</td>\n",
       "      <td>32269.589</td>\n",
       "    </tr>\n",
       "    <tr>\n",
       "      <th>1</th>\n",
       "      <td>Afghanistan</td>\n",
       "      <td>2014</td>\n",
       "      <td>33370.794</td>\n",
       "    </tr>\n",
       "    <tr>\n",
       "      <th>2</th>\n",
       "      <td>Afghanistan</td>\n",
       "      <td>2015</td>\n",
       "      <td>34413.603</td>\n",
       "    </tr>\n",
       "    <tr>\n",
       "      <th>3</th>\n",
       "      <td>Afghanistan</td>\n",
       "      <td>2016</td>\n",
       "      <td>35383.032</td>\n",
       "    </tr>\n",
       "    <tr>\n",
       "      <th>4</th>\n",
       "      <td>Afghanistan</td>\n",
       "      <td>2017</td>\n",
       "      <td>36296.113</td>\n",
       "    </tr>\n",
       "  </tbody>\n",
       "</table>\n",
       "</div>"
      ],
      "text/plain": [
       "          Zone  Année  Nbre habitant\n",
       "0  Afghanistan   2013      32269.589\n",
       "1  Afghanistan   2014      33370.794\n",
       "2  Afghanistan   2015      34413.603\n",
       "3  Afghanistan   2016      35383.032\n",
       "4  Afghanistan   2017      36296.113"
      ]
     },
     "execution_count": 46,
     "metadata": {},
     "output_type": "execute_result"
    }
   ],
   "source": [
    "data_population = data_population.rename(columns = {\"Valeur\": \"Nbre habitant\"})\n",
    "data_population.head(5)"
   ]
  },
  {
   "cell_type": "code",
   "execution_count": 47,
   "id": "7adcc12d-024f-48eb-ae1f-29ae8fbcbfd1",
   "metadata": {},
   "outputs": [
    {
     "data": {
      "text/plain": [
       "236"
      ]
     },
     "execution_count": 47,
     "metadata": {},
     "output_type": "execute_result"
    }
   ],
   "source": [
    "data_population[\"Zone\"].nunique()"
   ]
  },
  {
   "cell_type": "code",
   "execution_count": 48,
   "id": "048cb9cb-ce70-4aaa-97d7-a4086e99a433",
   "metadata": {},
   "outputs": [
    {
     "data": {
      "text/plain": [
       "Afghanistan           6\n",
       "Palestine             6\n",
       "Nicaragua             6\n",
       "Niger                 6\n",
       "Nigéria               6\n",
       "                     ..\n",
       "Guinée                6\n",
       "Guinée équatoriale    6\n",
       "Guinée-Bissau         6\n",
       "Guyana                6\n",
       "Zimbabwe              6\n",
       "Name: Zone, Length: 236, dtype: int64"
      ]
     },
     "execution_count": 48,
     "metadata": {},
     "output_type": "execute_result"
    }
   ],
   "source": [
    "data_population[\"Zone\"].value_counts()"
   ]
  },
  {
   "cell_type": "markdown",
   "id": "d7ddfde6-9744-4687-bc0d-f2af4ed31918",
   "metadata": {},
   "source": [
    "* D'après la lexique des données la population du pays, exprimée en milliers d’habitants, dans ce cas on doit multiplier par 1000 toute la colonne \"Nbre habitant\" pas 1000.\n"
   ]
  },
  {
   "cell_type": "code",
   "execution_count": 49,
   "id": "286dfe3f-1b79-46b5-b327-12a95ad66e39",
   "metadata": {},
   "outputs": [],
   "source": [
    "data_population[\"Nbre habitant\"] = data_population[\"Nbre habitant\"]*1000"
   ]
  },
  {
   "cell_type": "markdown",
   "id": "265362f8-a07a-41b1-8537-09efb111af1b",
   "metadata": {},
   "source": [
    "* On voit qu'on a pour ce DataFrame les bons formats pour le type de données des différentes colonnes, l'absence de valeurs manquantes "
   ]
  },
  {
   "cell_type": "code",
   "execution_count": 50,
   "id": "848fb73f-7fd0-4f48-9244-86c691d1cc52",
   "metadata": {},
   "outputs": [
    {
     "data": {
      "text/html": [
       "<div>\n",
       "<style scoped>\n",
       "    .dataframe tbody tr th:only-of-type {\n",
       "        vertical-align: middle;\n",
       "    }\n",
       "\n",
       "    .dataframe tbody tr th {\n",
       "        vertical-align: top;\n",
       "    }\n",
       "\n",
       "    .dataframe thead th {\n",
       "        text-align: right;\n",
       "    }\n",
       "</style>\n",
       "<table border=\"1\" class=\"dataframe\">\n",
       "  <thead>\n",
       "    <tr style=\"text-align: right;\">\n",
       "      <th></th>\n",
       "      <th>Zone</th>\n",
       "      <th>Année</th>\n",
       "      <th>Nbre habitant</th>\n",
       "    </tr>\n",
       "  </thead>\n",
       "  <tbody>\n",
       "    <tr>\n",
       "      <th>0</th>\n",
       "      <td>Afghanistan</td>\n",
       "      <td>2013</td>\n",
       "      <td>32269589.0</td>\n",
       "    </tr>\n",
       "    <tr>\n",
       "      <th>1</th>\n",
       "      <td>Afghanistan</td>\n",
       "      <td>2014</td>\n",
       "      <td>33370794.0</td>\n",
       "    </tr>\n",
       "    <tr>\n",
       "      <th>2</th>\n",
       "      <td>Afghanistan</td>\n",
       "      <td>2015</td>\n",
       "      <td>34413603.0</td>\n",
       "    </tr>\n",
       "    <tr>\n",
       "      <th>3</th>\n",
       "      <td>Afghanistan</td>\n",
       "      <td>2016</td>\n",
       "      <td>35383032.0</td>\n",
       "    </tr>\n",
       "    <tr>\n",
       "      <th>4</th>\n",
       "      <td>Afghanistan</td>\n",
       "      <td>2017</td>\n",
       "      <td>36296113.0</td>\n",
       "    </tr>\n",
       "  </tbody>\n",
       "</table>\n",
       "</div>"
      ],
      "text/plain": [
       "          Zone  Année  Nbre habitant\n",
       "0  Afghanistan   2013     32269589.0\n",
       "1  Afghanistan   2014     33370794.0\n",
       "2  Afghanistan   2015     34413603.0\n",
       "3  Afghanistan   2016     35383032.0\n",
       "4  Afghanistan   2017     36296113.0"
      ]
     },
     "execution_count": 50,
     "metadata": {},
     "output_type": "execute_result"
    }
   ],
   "source": [
    "data_population.head(5)"
   ]
  },
  {
   "cell_type": "markdown",
   "id": "2fd63ac2-8c08-4ff3-8e9d-ab5dda1f51c1",
   "metadata": {},
   "source": [
    "### 2.1.4 DataFrame \"Aide alimentaire\""
   ]
  },
  {
   "cell_type": "code",
   "execution_count": 51,
   "id": "94ed278b-15e1-48b5-bfbd-31c0231610b1",
   "metadata": {},
   "outputs": [
    {
     "data": {
      "text/html": [
       "<div>\n",
       "<style scoped>\n",
       "    .dataframe tbody tr th:only-of-type {\n",
       "        vertical-align: middle;\n",
       "    }\n",
       "\n",
       "    .dataframe tbody tr th {\n",
       "        vertical-align: top;\n",
       "    }\n",
       "\n",
       "    .dataframe thead th {\n",
       "        text-align: right;\n",
       "    }\n",
       "</style>\n",
       "<table border=\"1\" class=\"dataframe\">\n",
       "  <thead>\n",
       "    <tr style=\"text-align: right;\">\n",
       "      <th></th>\n",
       "      <th>Pays bénéficiaire</th>\n",
       "      <th>Année</th>\n",
       "      <th>Produit</th>\n",
       "      <th>Valeur</th>\n",
       "    </tr>\n",
       "  </thead>\n",
       "  <tbody>\n",
       "    <tr>\n",
       "      <th>0</th>\n",
       "      <td>Afghanistan</td>\n",
       "      <td>2013</td>\n",
       "      <td>Autres non-céréales</td>\n",
       "      <td>682</td>\n",
       "    </tr>\n",
       "    <tr>\n",
       "      <th>1</th>\n",
       "      <td>Afghanistan</td>\n",
       "      <td>2014</td>\n",
       "      <td>Autres non-céréales</td>\n",
       "      <td>335</td>\n",
       "    </tr>\n",
       "    <tr>\n",
       "      <th>2</th>\n",
       "      <td>Afghanistan</td>\n",
       "      <td>2013</td>\n",
       "      <td>Blé et Farin</td>\n",
       "      <td>39224</td>\n",
       "    </tr>\n",
       "    <tr>\n",
       "      <th>3</th>\n",
       "      <td>Afghanistan</td>\n",
       "      <td>2014</td>\n",
       "      <td>Blé et Farin</td>\n",
       "      <td>15160</td>\n",
       "    </tr>\n",
       "    <tr>\n",
       "      <th>4</th>\n",
       "      <td>Afghanistan</td>\n",
       "      <td>2013</td>\n",
       "      <td>Céréales</td>\n",
       "      <td>40504</td>\n",
       "    </tr>\n",
       "  </tbody>\n",
       "</table>\n",
       "</div>"
      ],
      "text/plain": [
       "  Pays bénéficiaire  Année              Produit  Valeur\n",
       "0       Afghanistan   2013  Autres non-céréales     682\n",
       "1       Afghanistan   2014  Autres non-céréales     335\n",
       "2       Afghanistan   2013         Blé et Farin   39224\n",
       "3       Afghanistan   2014         Blé et Farin   15160\n",
       "4       Afghanistan   2013             Céréales   40504"
      ]
     },
     "execution_count": 51,
     "metadata": {},
     "output_type": "execute_result"
    }
   ],
   "source": [
    "# Observation des 5 premiers lignes de l'échantillon\n",
    "data_aide.head(5)"
   ]
  },
  {
   "cell_type": "code",
   "execution_count": 52,
   "id": "09669158-2256-4bca-a1bc-859e3a40e270",
   "metadata": {},
   "outputs": [
    {
     "data": {
      "text/plain": [
       "(1475, 4)"
      ]
     },
     "execution_count": 52,
     "metadata": {},
     "output_type": "execute_result"
    }
   ],
   "source": [
    "# Forme du jeu de donnés \n",
    "data_aide.shape"
   ]
  },
  {
   "cell_type": "code",
   "execution_count": 53,
   "id": "1cdc2aab-6e76-41ed-bd01-009df66991a8",
   "metadata": {},
   "outputs": [
    {
     "name": "stdout",
     "output_type": "stream",
     "text": [
      "<class 'pandas.core.frame.DataFrame'>\n",
      "RangeIndex: 1475 entries, 0 to 1474\n",
      "Data columns (total 4 columns):\n",
      " #   Column             Non-Null Count  Dtype \n",
      "---  ------             --------------  ----- \n",
      " 0   Pays bénéficiaire  1475 non-null   object\n",
      " 1   Année              1475 non-null   int64 \n",
      " 2   Produit            1475 non-null   object\n",
      " 3   Valeur             1475 non-null   int64 \n",
      "dtypes: int64(2), object(2)\n",
      "memory usage: 46.2+ KB\n"
     ]
    }
   ],
   "source": [
    "  #Typages de données\n",
    "info = data_aide.info()"
   ]
  },
  {
   "cell_type": "code",
   "execution_count": 54,
   "id": "34611c9e-2909-4482-8182-26a0977c3073",
   "metadata": {},
   "outputs": [
    {
     "data": {
      "text/html": [
       "<div>\n",
       "<style scoped>\n",
       "    .dataframe tbody tr th:only-of-type {\n",
       "        vertical-align: middle;\n",
       "    }\n",
       "\n",
       "    .dataframe tbody tr th {\n",
       "        vertical-align: top;\n",
       "    }\n",
       "\n",
       "    .dataframe thead th {\n",
       "        text-align: right;\n",
       "    }\n",
       "</style>\n",
       "<table border=\"1\" class=\"dataframe\">\n",
       "  <thead>\n",
       "    <tr style=\"text-align: right;\">\n",
       "      <th></th>\n",
       "      <th>Pays bénéficiaire</th>\n",
       "      <th>Année</th>\n",
       "      <th>Produit</th>\n",
       "      <th>Valeur</th>\n",
       "    </tr>\n",
       "  </thead>\n",
       "  <tbody>\n",
       "  </tbody>\n",
       "</table>\n",
       "</div>"
      ],
      "text/plain": [
       "Empty DataFrame\n",
       "Columns: [Pays bénéficiaire, Année, Produit, Valeur]\n",
       "Index: []"
      ]
     },
     "execution_count": 54,
     "metadata": {},
     "output_type": "execute_result"
    }
   ],
   "source": [
    "# Vérification des doublons\n",
    "data_aide[data_aide.duplicated()]"
   ]
  },
  {
   "cell_type": "code",
   "execution_count": 55,
   "id": "4853741d-23de-412c-be14-7867f0e2c9af",
   "metadata": {},
   "outputs": [
    {
     "data": {
      "text/plain": [
       "Pays bénéficiaire    0\n",
       "Année                0\n",
       "Produit              0\n",
       "Valeur               0\n",
       "dtype: int64"
      ]
     },
     "execution_count": 55,
     "metadata": {},
     "output_type": "execute_result"
    }
   ],
   "source": [
    " # total_valeur_null\n",
    "total_valeur_null = data_aide.isnull().sum().sort_values(ascending=False)\n",
    "total_valeur_null"
   ]
  },
  {
   "cell_type": "code",
   "execution_count": 56,
   "id": "aca6f06e-047d-4588-aba7-da62c972a969",
   "metadata": {},
   "outputs": [
    {
     "data": {
      "text/plain": [
       "Pays bénéficiaire    0.0\n",
       "Année                0.0\n",
       "Produit              0.0\n",
       "Valeur               0.0\n",
       "dtype: float64"
      ]
     },
     "execution_count": 56,
     "metadata": {},
     "output_type": "execute_result"
    }
   ],
   "source": [
    "  # Pourcentages des valeurs nulls\n",
    "pourcentage_valeur_null = round((data_aide.isnull().sum()/data_aide.shape[0]*100),2).sort_values(ascending=False)\n",
    "pourcentage_valeur_null"
   ]
  },
  {
   "cell_type": "code",
   "execution_count": 57,
   "id": "bfb98f0c-98a2-4a6d-8f57-48aecff9a693",
   "metadata": {},
   "outputs": [
    {
     "data": {
      "text/html": [
       "<div>\n",
       "<style scoped>\n",
       "    .dataframe tbody tr th:only-of-type {\n",
       "        vertical-align: middle;\n",
       "    }\n",
       "\n",
       "    .dataframe tbody tr th {\n",
       "        vertical-align: top;\n",
       "    }\n",
       "\n",
       "    .dataframe thead th {\n",
       "        text-align: right;\n",
       "    }\n",
       "</style>\n",
       "<table border=\"1\" class=\"dataframe\">\n",
       "  <thead>\n",
       "    <tr style=\"text-align: right;\">\n",
       "      <th></th>\n",
       "      <th>count</th>\n",
       "      <th>mean</th>\n",
       "      <th>std</th>\n",
       "      <th>min</th>\n",
       "      <th>25%</th>\n",
       "      <th>50%</th>\n",
       "      <th>75%</th>\n",
       "      <th>max</th>\n",
       "    </tr>\n",
       "  </thead>\n",
       "  <tbody>\n",
       "    <tr>\n",
       "      <th>Année</th>\n",
       "      <td>1475.0</td>\n",
       "      <td>2014.054237</td>\n",
       "      <td>0.946916</td>\n",
       "      <td>2013.0</td>\n",
       "      <td>2013.0</td>\n",
       "      <td>2014.0</td>\n",
       "      <td>2015.0</td>\n",
       "      <td>2016.0</td>\n",
       "    </tr>\n",
       "    <tr>\n",
       "      <th>Valeur</th>\n",
       "      <td>1475.0</td>\n",
       "      <td>7481.966780</td>\n",
       "      <td>23339.531424</td>\n",
       "      <td>0.0</td>\n",
       "      <td>287.5</td>\n",
       "      <td>1178.0</td>\n",
       "      <td>4334.5</td>\n",
       "      <td>265013.0</td>\n",
       "    </tr>\n",
       "  </tbody>\n",
       "</table>\n",
       "</div>"
      ],
      "text/plain": [
       "         count         mean           std     min     25%     50%     75%  \\\n",
       "Année   1475.0  2014.054237      0.946916  2013.0  2013.0  2014.0  2015.0   \n",
       "Valeur  1475.0  7481.966780  23339.531424     0.0   287.5  1178.0  4334.5   \n",
       "\n",
       "             max  \n",
       "Année     2016.0  \n",
       "Valeur  265013.0  "
      ]
     },
     "execution_count": 57,
     "metadata": {},
     "output_type": "execute_result"
    }
   ],
   "source": [
    "  #Statistiques descriptives\n",
    "statistique = data_aide.describe().T\n",
    "statistique"
   ]
  },
  {
   "cell_type": "code",
   "execution_count": 58,
   "id": "ed5fb8d0-455b-494a-8210-140547f54137",
   "metadata": {},
   "outputs": [
    {
     "data": {
      "text/html": [
       "<div>\n",
       "<style scoped>\n",
       "    .dataframe tbody tr th:only-of-type {\n",
       "        vertical-align: middle;\n",
       "    }\n",
       "\n",
       "    .dataframe tbody tr th {\n",
       "        vertical-align: top;\n",
       "    }\n",
       "\n",
       "    .dataframe thead th {\n",
       "        text-align: right;\n",
       "    }\n",
       "</style>\n",
       "<table border=\"1\" class=\"dataframe\">\n",
       "  <thead>\n",
       "    <tr style=\"text-align: right;\">\n",
       "      <th></th>\n",
       "      <th>Zone</th>\n",
       "      <th>Année</th>\n",
       "      <th>Produit</th>\n",
       "      <th>Quantité aide alimentaire</th>\n",
       "    </tr>\n",
       "  </thead>\n",
       "  <tbody>\n",
       "    <tr>\n",
       "      <th>0</th>\n",
       "      <td>Afghanistan</td>\n",
       "      <td>2013</td>\n",
       "      <td>Autres non-céréales</td>\n",
       "      <td>682</td>\n",
       "    </tr>\n",
       "    <tr>\n",
       "      <th>1</th>\n",
       "      <td>Afghanistan</td>\n",
       "      <td>2014</td>\n",
       "      <td>Autres non-céréales</td>\n",
       "      <td>335</td>\n",
       "    </tr>\n",
       "    <tr>\n",
       "      <th>2</th>\n",
       "      <td>Afghanistan</td>\n",
       "      <td>2013</td>\n",
       "      <td>Blé et Farin</td>\n",
       "      <td>39224</td>\n",
       "    </tr>\n",
       "    <tr>\n",
       "      <th>3</th>\n",
       "      <td>Afghanistan</td>\n",
       "      <td>2014</td>\n",
       "      <td>Blé et Farin</td>\n",
       "      <td>15160</td>\n",
       "    </tr>\n",
       "    <tr>\n",
       "      <th>4</th>\n",
       "      <td>Afghanistan</td>\n",
       "      <td>2013</td>\n",
       "      <td>Céréales</td>\n",
       "      <td>40504</td>\n",
       "    </tr>\n",
       "  </tbody>\n",
       "</table>\n",
       "</div>"
      ],
      "text/plain": [
       "          Zone  Année              Produit  Quantité aide alimentaire\n",
       "0  Afghanistan   2013  Autres non-céréales                        682\n",
       "1  Afghanistan   2014  Autres non-céréales                        335\n",
       "2  Afghanistan   2013         Blé et Farin                      39224\n",
       "3  Afghanistan   2014         Blé et Farin                      15160\n",
       "4  Afghanistan   2013             Céréales                      40504"
      ]
     },
     "execution_count": 58,
     "metadata": {},
     "output_type": "execute_result"
    }
   ],
   "source": [
    "data_aide = data_aide.rename(columns = {\"Valeur\": \"Quantité aide alimentaire\", \"Pays bénéficiaire\" : \"Zone\"})\n",
    "data_aide.head(5)"
   ]
  },
  {
   "cell_type": "code",
   "execution_count": 59,
   "id": "17ec3cf6-fbf6-4de1-95d1-2130ea00c28c",
   "metadata": {},
   "outputs": [
    {
     "data": {
      "text/plain": [
       "76"
      ]
     },
     "execution_count": 59,
     "metadata": {},
     "output_type": "execute_result"
    }
   ],
   "source": [
    "data_aide[\"Zone\"].nunique()"
   ]
  },
  {
   "cell_type": "code",
   "execution_count": 60,
   "id": "84bcda50-8472-4ae9-bafb-c5a99b644926",
   "metadata": {},
   "outputs": [
    {
     "data": {
      "text/plain": [
       "Algérie                            39\n",
       "Yémen                              38\n",
       "République arabe syrienne          38\n",
       "Éthiopie                           33\n",
       "Nicaragua                          33\n",
       "                                   ..\n",
       "Angola                              4\n",
       "Zambie                              4\n",
       "Comores                             2\n",
       "Égypte                              2\n",
       "Bolivie (État plurinational de)     2\n",
       "Name: Zone, Length: 76, dtype: int64"
      ]
     },
     "execution_count": 60,
     "metadata": {},
     "output_type": "execute_result"
    }
   ],
   "source": [
    "data_aide[\"Zone\"].value_counts()"
   ]
  },
  {
   "cell_type": "markdown",
   "id": "1c0e1ac4-79af-4606-a589-4aa856f65d70",
   "metadata": {},
   "source": [
    "* On voit qu'on a pour ce DataFrame les bons formats pour le type de données des différentes colonnes, l'absence de valeurs manquantes\n",
    "* D'après le lexique La quantité qui a été donnée comme aide alimentaire, en tonnes, on va la convertir en kilogramme."
   ]
  },
  {
   "cell_type": "code",
   "execution_count": 61,
   "id": "5090b7cb-3eae-49be-8555-ebfd5e2d9818",
   "metadata": {},
   "outputs": [],
   "source": [
    "data_aide[\"Quantité aide alimentaire\"] = data_aide[\"Quantité aide alimentaire\"]*1000"
   ]
  },
  {
   "cell_type": "code",
   "execution_count": 62,
   "id": "3a2c196b-1968-407a-96dc-1e9a2d35524b",
   "metadata": {},
   "outputs": [
    {
     "data": {
      "text/html": [
       "<div>\n",
       "<style scoped>\n",
       "    .dataframe tbody tr th:only-of-type {\n",
       "        vertical-align: middle;\n",
       "    }\n",
       "\n",
       "    .dataframe tbody tr th {\n",
       "        vertical-align: top;\n",
       "    }\n",
       "\n",
       "    .dataframe thead th {\n",
       "        text-align: right;\n",
       "    }\n",
       "</style>\n",
       "<table border=\"1\" class=\"dataframe\">\n",
       "  <thead>\n",
       "    <tr style=\"text-align: right;\">\n",
       "      <th></th>\n",
       "      <th>Zone</th>\n",
       "      <th>Année</th>\n",
       "      <th>Produit</th>\n",
       "      <th>Quantité aide alimentaire</th>\n",
       "    </tr>\n",
       "  </thead>\n",
       "  <tbody>\n",
       "    <tr>\n",
       "      <th>0</th>\n",
       "      <td>Afghanistan</td>\n",
       "      <td>2013</td>\n",
       "      <td>Autres non-céréales</td>\n",
       "      <td>682000</td>\n",
       "    </tr>\n",
       "    <tr>\n",
       "      <th>1</th>\n",
       "      <td>Afghanistan</td>\n",
       "      <td>2014</td>\n",
       "      <td>Autres non-céréales</td>\n",
       "      <td>335000</td>\n",
       "    </tr>\n",
       "    <tr>\n",
       "      <th>2</th>\n",
       "      <td>Afghanistan</td>\n",
       "      <td>2013</td>\n",
       "      <td>Blé et Farin</td>\n",
       "      <td>39224000</td>\n",
       "    </tr>\n",
       "    <tr>\n",
       "      <th>3</th>\n",
       "      <td>Afghanistan</td>\n",
       "      <td>2014</td>\n",
       "      <td>Blé et Farin</td>\n",
       "      <td>15160000</td>\n",
       "    </tr>\n",
       "    <tr>\n",
       "      <th>4</th>\n",
       "      <td>Afghanistan</td>\n",
       "      <td>2013</td>\n",
       "      <td>Céréales</td>\n",
       "      <td>40504000</td>\n",
       "    </tr>\n",
       "  </tbody>\n",
       "</table>\n",
       "</div>"
      ],
      "text/plain": [
       "          Zone  Année              Produit  Quantité aide alimentaire\n",
       "0  Afghanistan   2013  Autres non-céréales                     682000\n",
       "1  Afghanistan   2014  Autres non-céréales                     335000\n",
       "2  Afghanistan   2013         Blé et Farin                   39224000\n",
       "3  Afghanistan   2014         Blé et Farin                   15160000\n",
       "4  Afghanistan   2013             Céréales                   40504000"
      ]
     },
     "execution_count": 62,
     "metadata": {},
     "output_type": "execute_result"
    }
   ],
   "source": [
    "data_aide.head(5)"
   ]
  },
  {
   "cell_type": "markdown",
   "id": "16cd41f2-44f2-48fe-90db-e715d66d30ae",
   "metadata": {},
   "source": [
    "* Nous allons maintenant essayer de répondre aux questions posées par Marc"
   ]
  },
  {
   "cell_type": "markdown",
   "id": "03714fa6-6018-4a0e-847c-bc31863743eb",
   "metadata": {},
   "source": [
    "### Lexique des données"
   ]
  },
  {
   "cell_type": "markdown",
   "id": "25b26776-7fb7-41de-939f-c8053ae51047",
   "metadata": {},
   "source": [
    "#####  La disponibilité alimentaire correspond à la disponibilité d'aliments en quantité suffisante et d'une qualité appropriée pour l’alimentation humaine.\n",
    "*    Disponibilité alimentaire = Production + Importations - Exportations + Variation des stocks\n",
    "*** \n",
    "#####  La disponibilité intérieure correspond à la disponibilité totale d’un aliment au sein du pays( totale disponibilité alimentaire).\n",
    "#####   La colonne nourriture correspond à la disponibilité de l'alimentation humaine.\n",
    "*    Disponibilité pour l'alimentation humaine = Totale Disponibilité alimentaire - Alimentation animale - Semences – Traitement - Autres utilisations – Pertes"
   ]
  },
  {
   "cell_type": "markdown",
   "id": "033288de-91ab-4625-bfd2-d0deb4d61174",
   "metadata": {},
   "source": [
    "Sources: https://www.fao.org/fileadmin/templates/ess/CountrySTAT/Douala_training_2012/BA_CountrySTAT_13Nov2012.pdf"
   ]
  },
  {
   "cell_type": "markdown",
   "id": "b21ae086-4178-4875-91f4-e40075653947",
   "metadata": {},
   "source": [
    "# 4. Demandes de Marc"
   ]
  },
  {
   "cell_type": "markdown",
   "id": "5c354ab5-b6ec-4f50-a1e2-e3deda3cc82d",
   "metadata": {},
   "source": [
    "### 4.1 la proportion de personnes en état de sous-nutrition ;"
   ]
  },
  {
   "cell_type": "markdown",
   "id": "e13119f6-6f4f-4c43-ae5e-8f2c79091d01",
   "metadata": {},
   "source": [
    "* Pour répondre à cette question on aura besoin du dataframe population et de sous nutrition"
   ]
  },
  {
   "cell_type": "code",
   "execution_count": 63,
   "id": "d5c6ffa8-1a58-4237-8e5b-287f6ce1dbac",
   "metadata": {},
   "outputs": [
    {
     "data": {
      "text/html": [
       "<div>\n",
       "<style scoped>\n",
       "    .dataframe tbody tr th:only-of-type {\n",
       "        vertical-align: middle;\n",
       "    }\n",
       "\n",
       "    .dataframe tbody tr th {\n",
       "        vertical-align: top;\n",
       "    }\n",
       "\n",
       "    .dataframe thead th {\n",
       "        text-align: right;\n",
       "    }\n",
       "</style>\n",
       "<table border=\"1\" class=\"dataframe\">\n",
       "  <thead>\n",
       "    <tr style=\"text-align: right;\">\n",
       "      <th></th>\n",
       "      <th>Zone</th>\n",
       "      <th>Année</th>\n",
       "      <th>Nbre habitant</th>\n",
       "    </tr>\n",
       "  </thead>\n",
       "  <tbody>\n",
       "    <tr>\n",
       "      <th>0</th>\n",
       "      <td>Afghanistan</td>\n",
       "      <td>2013</td>\n",
       "      <td>32269589.0</td>\n",
       "    </tr>\n",
       "    <tr>\n",
       "      <th>1</th>\n",
       "      <td>Afghanistan</td>\n",
       "      <td>2014</td>\n",
       "      <td>33370794.0</td>\n",
       "    </tr>\n",
       "    <tr>\n",
       "      <th>2</th>\n",
       "      <td>Afghanistan</td>\n",
       "      <td>2015</td>\n",
       "      <td>34413603.0</td>\n",
       "    </tr>\n",
       "    <tr>\n",
       "      <th>3</th>\n",
       "      <td>Afghanistan</td>\n",
       "      <td>2016</td>\n",
       "      <td>35383032.0</td>\n",
       "    </tr>\n",
       "    <tr>\n",
       "      <th>4</th>\n",
       "      <td>Afghanistan</td>\n",
       "      <td>2017</td>\n",
       "      <td>36296113.0</td>\n",
       "    </tr>\n",
       "  </tbody>\n",
       "</table>\n",
       "</div>"
      ],
      "text/plain": [
       "          Zone  Année  Nbre habitant\n",
       "0  Afghanistan   2013     32269589.0\n",
       "1  Afghanistan   2014     33370794.0\n",
       "2  Afghanistan   2015     34413603.0\n",
       "3  Afghanistan   2016     35383032.0\n",
       "4  Afghanistan   2017     36296113.0"
      ]
     },
     "execution_count": 63,
     "metadata": {},
     "output_type": "execute_result"
    }
   ],
   "source": [
    "# population\n",
    "data_population.head(5)"
   ]
  },
  {
   "cell_type": "code",
   "execution_count": 64,
   "id": "3a4a3a56-96fa-4ebc-9903-3af0ddf33091",
   "metadata": {},
   "outputs": [
    {
     "data": {
      "text/html": [
       "<div>\n",
       "<style scoped>\n",
       "    .dataframe tbody tr th:only-of-type {\n",
       "        vertical-align: middle;\n",
       "    }\n",
       "\n",
       "    .dataframe tbody tr th {\n",
       "        vertical-align: top;\n",
       "    }\n",
       "\n",
       "    .dataframe thead th {\n",
       "        text-align: right;\n",
       "    }\n",
       "</style>\n",
       "<table border=\"1\" class=\"dataframe\">\n",
       "  <thead>\n",
       "    <tr style=\"text-align: right;\">\n",
       "      <th></th>\n",
       "      <th>Zone</th>\n",
       "      <th>Année</th>\n",
       "      <th>Nbre habitant</th>\n",
       "    </tr>\n",
       "  </thead>\n",
       "  <tbody>\n",
       "    <tr>\n",
       "      <th>4</th>\n",
       "      <td>Afghanistan</td>\n",
       "      <td>2017</td>\n",
       "      <td>36296113.0</td>\n",
       "    </tr>\n",
       "    <tr>\n",
       "      <th>10</th>\n",
       "      <td>Afrique du Sud</td>\n",
       "      <td>2017</td>\n",
       "      <td>57009756.0</td>\n",
       "    </tr>\n",
       "    <tr>\n",
       "      <th>16</th>\n",
       "      <td>Albanie</td>\n",
       "      <td>2017</td>\n",
       "      <td>2884169.0</td>\n",
       "    </tr>\n",
       "    <tr>\n",
       "      <th>22</th>\n",
       "      <td>Algérie</td>\n",
       "      <td>2017</td>\n",
       "      <td>41389189.0</td>\n",
       "    </tr>\n",
       "    <tr>\n",
       "      <th>28</th>\n",
       "      <td>Allemagne</td>\n",
       "      <td>2017</td>\n",
       "      <td>82658409.0</td>\n",
       "    </tr>\n",
       "  </tbody>\n",
       "</table>\n",
       "</div>"
      ],
      "text/plain": [
       "              Zone  Année  Nbre habitant\n",
       "4      Afghanistan   2017     36296113.0\n",
       "10  Afrique du Sud   2017     57009756.0\n",
       "16         Albanie   2017      2884169.0\n",
       "22         Algérie   2017     41389189.0\n",
       "28       Allemagne   2017     82658409.0"
      ]
     },
     "execution_count": 64,
     "metadata": {},
     "output_type": "execute_result"
    }
   ],
   "source": [
    "pop_2017 = data_population[data_population[\"Année\"] == 2017]\n",
    "pop_2017.head(5)"
   ]
  },
  {
   "cell_type": "code",
   "execution_count": 65,
   "id": "d00b956a-7d00-422d-a81d-9c86c1fa7fe3",
   "metadata": {},
   "outputs": [
    {
     "data": {
      "text/html": [
       "<div>\n",
       "<style scoped>\n",
       "    .dataframe tbody tr th:only-of-type {\n",
       "        vertical-align: middle;\n",
       "    }\n",
       "\n",
       "    .dataframe tbody tr th {\n",
       "        vertical-align: top;\n",
       "    }\n",
       "\n",
       "    .dataframe thead th {\n",
       "        text-align: right;\n",
       "    }\n",
       "</style>\n",
       "<table border=\"1\" class=\"dataframe\">\n",
       "  <thead>\n",
       "    <tr style=\"text-align: right;\">\n",
       "      <th></th>\n",
       "      <th>Zone</th>\n",
       "      <th>Année</th>\n",
       "      <th>Personne en sous-alimentation</th>\n",
       "    </tr>\n",
       "  </thead>\n",
       "  <tbody>\n",
       "    <tr>\n",
       "      <th>0</th>\n",
       "      <td>Afghanistan</td>\n",
       "      <td>2013</td>\n",
       "      <td>8600000.0</td>\n",
       "    </tr>\n",
       "    <tr>\n",
       "      <th>1</th>\n",
       "      <td>Afghanistan</td>\n",
       "      <td>2014</td>\n",
       "      <td>8800000.0</td>\n",
       "    </tr>\n",
       "    <tr>\n",
       "      <th>2</th>\n",
       "      <td>Afghanistan</td>\n",
       "      <td>2015</td>\n",
       "      <td>8900000.0</td>\n",
       "    </tr>\n",
       "    <tr>\n",
       "      <th>3</th>\n",
       "      <td>Afghanistan</td>\n",
       "      <td>2016</td>\n",
       "      <td>9700000.0</td>\n",
       "    </tr>\n",
       "    <tr>\n",
       "      <th>4</th>\n",
       "      <td>Afghanistan</td>\n",
       "      <td>2017</td>\n",
       "      <td>10500000.0</td>\n",
       "    </tr>\n",
       "  </tbody>\n",
       "</table>\n",
       "</div>"
      ],
      "text/plain": [
       "          Zone  Année  Personne en sous-alimentation\n",
       "0  Afghanistan   2013                      8600000.0\n",
       "1  Afghanistan   2014                      8800000.0\n",
       "2  Afghanistan   2015                      8900000.0\n",
       "3  Afghanistan   2016                      9700000.0\n",
       "4  Afghanistan   2017                     10500000.0"
      ]
     },
     "execution_count": 65,
     "metadata": {},
     "output_type": "execute_result"
    }
   ],
   "source": [
    "# sous nutrition\n",
    "data_sous_nutrition.head(5)"
   ]
  },
  {
   "cell_type": "code",
   "execution_count": 66,
   "id": "c34c4a29-0caf-492f-9d1b-c84df9b69c27",
   "metadata": {},
   "outputs": [
    {
     "data": {
      "text/html": [
       "<div>\n",
       "<style scoped>\n",
       "    .dataframe tbody tr th:only-of-type {\n",
       "        vertical-align: middle;\n",
       "    }\n",
       "\n",
       "    .dataframe tbody tr th {\n",
       "        vertical-align: top;\n",
       "    }\n",
       "\n",
       "    .dataframe thead th {\n",
       "        text-align: right;\n",
       "    }\n",
       "</style>\n",
       "<table border=\"1\" class=\"dataframe\">\n",
       "  <thead>\n",
       "    <tr style=\"text-align: right;\">\n",
       "      <th></th>\n",
       "      <th>Zone</th>\n",
       "      <th>Année</th>\n",
       "      <th>Personne en sous-alimentation</th>\n",
       "    </tr>\n",
       "  </thead>\n",
       "  <tbody>\n",
       "    <tr>\n",
       "      <th>4</th>\n",
       "      <td>Afghanistan</td>\n",
       "      <td>2017</td>\n",
       "      <td>10500000.0</td>\n",
       "    </tr>\n",
       "    <tr>\n",
       "      <th>10</th>\n",
       "      <td>Afrique du Sud</td>\n",
       "      <td>2017</td>\n",
       "      <td>3100000.0</td>\n",
       "    </tr>\n",
       "    <tr>\n",
       "      <th>16</th>\n",
       "      <td>Albanie</td>\n",
       "      <td>2017</td>\n",
       "      <td>100000.0</td>\n",
       "    </tr>\n",
       "    <tr>\n",
       "      <th>22</th>\n",
       "      <td>Algérie</td>\n",
       "      <td>2017</td>\n",
       "      <td>1300000.0</td>\n",
       "    </tr>\n",
       "    <tr>\n",
       "      <th>28</th>\n",
       "      <td>Allemagne</td>\n",
       "      <td>2017</td>\n",
       "      <td>0.0</td>\n",
       "    </tr>\n",
       "  </tbody>\n",
       "</table>\n",
       "</div>"
      ],
      "text/plain": [
       "              Zone  Année  Personne en sous-alimentation\n",
       "4      Afghanistan   2017                     10500000.0\n",
       "10  Afrique du Sud   2017                      3100000.0\n",
       "16         Albanie   2017                       100000.0\n",
       "22         Algérie   2017                      1300000.0\n",
       "28       Allemagne   2017                            0.0"
      ]
     },
     "execution_count": 66,
     "metadata": {},
     "output_type": "execute_result"
    }
   ],
   "source": [
    "data_snutri_2017 = data_sous_nutrition[data_sous_nutrition[\"Année\"] == 2017]\n",
    "data_snutri_2017.head(5)"
   ]
  },
  {
   "cell_type": "code",
   "execution_count": 67,
   "id": "fe53eddc-68ad-44b4-84b7-2f4d767b0ad3",
   "metadata": {},
   "outputs": [
    {
     "data": {
      "text/html": [
       "<div>\n",
       "<style scoped>\n",
       "    .dataframe tbody tr th:only-of-type {\n",
       "        vertical-align: middle;\n",
       "    }\n",
       "\n",
       "    .dataframe tbody tr th {\n",
       "        vertical-align: top;\n",
       "    }\n",
       "\n",
       "    .dataframe thead th {\n",
       "        text-align: right;\n",
       "    }\n",
       "</style>\n",
       "<table border=\"1\" class=\"dataframe\">\n",
       "  <thead>\n",
       "    <tr style=\"text-align: right;\">\n",
       "      <th></th>\n",
       "      <th>Zone</th>\n",
       "      <th>Année</th>\n",
       "      <th>Nbre habitant</th>\n",
       "      <th>Personne en sous-alimentation</th>\n",
       "    </tr>\n",
       "  </thead>\n",
       "  <tbody>\n",
       "    <tr>\n",
       "      <th>0</th>\n",
       "      <td>Afghanistan</td>\n",
       "      <td>2017</td>\n",
       "      <td>36296113.0</td>\n",
       "      <td>10500000.0</td>\n",
       "    </tr>\n",
       "    <tr>\n",
       "      <th>1</th>\n",
       "      <td>Afrique du Sud</td>\n",
       "      <td>2017</td>\n",
       "      <td>57009756.0</td>\n",
       "      <td>3100000.0</td>\n",
       "    </tr>\n",
       "    <tr>\n",
       "      <th>2</th>\n",
       "      <td>Albanie</td>\n",
       "      <td>2017</td>\n",
       "      <td>2884169.0</td>\n",
       "      <td>100000.0</td>\n",
       "    </tr>\n",
       "    <tr>\n",
       "      <th>3</th>\n",
       "      <td>Algérie</td>\n",
       "      <td>2017</td>\n",
       "      <td>41389189.0</td>\n",
       "      <td>1300000.0</td>\n",
       "    </tr>\n",
       "    <tr>\n",
       "      <th>4</th>\n",
       "      <td>Allemagne</td>\n",
       "      <td>2017</td>\n",
       "      <td>82658409.0</td>\n",
       "      <td>0.0</td>\n",
       "    </tr>\n",
       "  </tbody>\n",
       "</table>\n",
       "</div>"
      ],
      "text/plain": [
       "             Zone  Année  Nbre habitant  Personne en sous-alimentation\n",
       "0     Afghanistan   2017     36296113.0                     10500000.0\n",
       "1  Afrique du Sud   2017     57009756.0                      3100000.0\n",
       "2         Albanie   2017      2884169.0                       100000.0\n",
       "3         Algérie   2017     41389189.0                      1300000.0\n",
       "4       Allemagne   2017     82658409.0                            0.0"
      ]
     },
     "execution_count": 67,
     "metadata": {},
     "output_type": "execute_result"
    }
   ],
   "source": [
    "df_pop_snutri = pd.merge(pop_2017, data_snutri_2017, on = ['Zone', 'Année'], how = \"left\")\n",
    "df_pop_snutri.head(5)"
   ]
  },
  {
   "cell_type": "code",
   "execution_count": 68,
   "id": "e48c161a-f811-43d1-b09a-13af995d6f9e",
   "metadata": {},
   "outputs": [],
   "source": [
    "#df_pop_snutri = df_pop_snutri.drop(columns = [\"Année\"])"
   ]
  },
  {
   "cell_type": "code",
   "execution_count": 69,
   "id": "72dfbcfc-0a12-4702-b35c-d3d29a62c27d",
   "metadata": {},
   "outputs": [
    {
     "data": {
      "text/plain": [
       "Personne en sous-alimentation    13.98\n",
       "Zone                              0.00\n",
       "Année                             0.00\n",
       "Nbre habitant                     0.00\n",
       "dtype: float64"
      ]
     },
     "execution_count": 69,
     "metadata": {},
     "output_type": "execute_result"
    }
   ],
   "source": [
    "  # Pourcentages des valeurs nulls aprés la fonction fillna\n",
    "pourcentage_valeur_null = round(df_pop_snutri.isnull().sum()/df_pop_snutri.shape[0]*100,2).sort_values(ascending=False)\n",
    "pourcentage_valeur_null"
   ]
  },
  {
   "cell_type": "code",
   "execution_count": 70,
   "id": "894c0df3-e0a7-42fb-bac3-396092112831",
   "metadata": {},
   "outputs": [],
   "source": [
    "# remplacer les valeurs manquantes apràs jointure\n",
    "df_pop_snutri = df_pop_snutri.fillna(0) "
   ]
  },
  {
   "cell_type": "code",
   "execution_count": 71,
   "id": "2782bc2d-262a-4fb8-a474-e4ebf2fdcd28",
   "metadata": {},
   "outputs": [
    {
     "data": {
      "text/plain": [
       "Zone                             0.0\n",
       "Année                            0.0\n",
       "Nbre habitant                    0.0\n",
       "Personne en sous-alimentation    0.0\n",
       "dtype: float64"
      ]
     },
     "execution_count": 71,
     "metadata": {},
     "output_type": "execute_result"
    }
   ],
   "source": [
    "  # Pourcentages des valeurs nulls aprés la fonction fillna\n",
    "pourcentage_valeur_null = round(df_pop_snutri.isnull().sum()/df_pop_snutri.shape[0]*100,2).sort_values(ascending=False)\n",
    "pourcentage_valeur_null"
   ]
  },
  {
   "cell_type": "code",
   "execution_count": 72,
   "id": "6fe57491-6902-4a12-89f1-b207c5c2852d",
   "metadata": {},
   "outputs": [
    {
     "name": "stdout",
     "output_type": "stream",
     "text": [
      "<class 'pandas.core.frame.DataFrame'>\n",
      "Int64Index: 236 entries, 0 to 235\n",
      "Data columns (total 4 columns):\n",
      " #   Column                         Non-Null Count  Dtype  \n",
      "---  ------                         --------------  -----  \n",
      " 0   Zone                           236 non-null    object \n",
      " 1   Année                          236 non-null    int64  \n",
      " 2   Nbre habitant                  236 non-null    float64\n",
      " 3   Personne en sous-alimentation  236 non-null    float64\n",
      "dtypes: float64(2), int64(1), object(1)\n",
      "memory usage: 9.2+ KB\n"
     ]
    }
   ],
   "source": [
    "df_pop_snutri.info()"
   ]
  },
  {
   "cell_type": "code",
   "execution_count": 73,
   "id": "10026114-6354-4014-a0f1-ccf45dcfbe2c",
   "metadata": {},
   "outputs": [
    {
     "data": {
      "text/plain": [
       "7548134111"
      ]
     },
     "execution_count": 73,
     "metadata": {},
     "output_type": "execute_result"
    }
   ],
   "source": [
    "# population mondiale en 2017\n",
    "df_pop_2017 = round(sum(df_pop_snutri['Nbre habitant']))\n",
    "df_pop_2017"
   ]
  },
  {
   "cell_type": "code",
   "execution_count": 74,
   "id": "8a5d8146-cf0d-4792-9418-313e2b1fdf01",
   "metadata": {},
   "outputs": [
    {
     "data": {
      "text/plain": [
       "535700000"
      ]
     },
     "execution_count": 74,
     "metadata": {},
     "output_type": "execute_result"
    }
   ],
   "source": [
    "# personne en sous nutrition en 2017\n",
    "df_snutri_2017 = round(sum(df_pop_snutri[\"Personne en sous-alimentation\"]))\n",
    "df_snutri_2017"
   ]
  },
  {
   "cell_type": "code",
   "execution_count": 75,
   "id": "1b7ccc54-6ccb-4ba4-a783-d10b87d2740b",
   "metadata": {},
   "outputs": [
    {
     "data": {
      "text/plain": [
       "7.1"
      ]
     },
     "execution_count": 75,
     "metadata": {},
     "output_type": "execute_result"
    }
   ],
   "source": [
    "# proportion de personnes en état de sous-nutrition \n",
    "prop_snutri_2017 = round((df_snutri_2017)/(df_pop_2017)*100,2)\n",
    "prop_snutri_2017"
   ]
  },
  {
   "cell_type": "markdown",
   "id": "8b1225aa-016d-4fe3-8737-9faa2609a444",
   "metadata": {},
   "source": [
    "#### En 2017 la population mondiale est de 7 548 134 111 personnes, et dans cette même année le pourcentage du nombre de personnes en sous nutrition est de 7,10%."
   ]
  },
  {
   "cell_type": "markdown",
   "id": "d55045bf-a074-41cd-b98d-cb841aae565f",
   "metadata": {},
   "source": [
    "### 4.2 le nombre théorique de personnes qui pourraient être nourries;"
   ]
  },
  {
   "cell_type": "markdown",
   "id": "acc998cb-60ff-4ec2-8e73-821c3a3d86e9",
   "metadata": {},
   "source": [
    "* Pour celà Tu devrons calculer ça à partir de la disponibilité alimentaire mondiale ;"
   ]
  },
  {
   "cell_type": "markdown",
   "id": "a5f21b01-98d2-42f7-8b5a-50c9cdb46809",
   "metadata": {},
   "source": [
    "#### Jointure des dataframes"
   ]
  },
  {
   "cell_type": "markdown",
   "id": "8c5245c3-1d60-4c30-bf4c-45402df51f2a",
   "metadata": {},
   "source": [
    "* Nous allons faire une jointure à gauche des deux dataframes c'est à dire population et disponibilité alimentaire"
   ]
  },
  {
   "cell_type": "code",
   "execution_count": 76,
   "id": "f37dac86-f411-4401-84d9-a650f5e3b503",
   "metadata": {},
   "outputs": [
    {
     "data": {
      "text/html": [
       "<div>\n",
       "<style scoped>\n",
       "    .dataframe tbody tr th:only-of-type {\n",
       "        vertical-align: middle;\n",
       "    }\n",
       "\n",
       "    .dataframe tbody tr th {\n",
       "        vertical-align: top;\n",
       "    }\n",
       "\n",
       "    .dataframe thead th {\n",
       "        text-align: right;\n",
       "    }\n",
       "</style>\n",
       "<table border=\"1\" class=\"dataframe\">\n",
       "  <thead>\n",
       "    <tr style=\"text-align: right;\">\n",
       "      <th></th>\n",
       "      <th>Zone</th>\n",
       "      <th>Année</th>\n",
       "      <th>Nbre habitant</th>\n",
       "    </tr>\n",
       "  </thead>\n",
       "  <tbody>\n",
       "    <tr>\n",
       "      <th>4</th>\n",
       "      <td>Afghanistan</td>\n",
       "      <td>2017</td>\n",
       "      <td>36296113.0</td>\n",
       "    </tr>\n",
       "    <tr>\n",
       "      <th>10</th>\n",
       "      <td>Afrique du Sud</td>\n",
       "      <td>2017</td>\n",
       "      <td>57009756.0</td>\n",
       "    </tr>\n",
       "    <tr>\n",
       "      <th>16</th>\n",
       "      <td>Albanie</td>\n",
       "      <td>2017</td>\n",
       "      <td>2884169.0</td>\n",
       "    </tr>\n",
       "    <tr>\n",
       "      <th>22</th>\n",
       "      <td>Algérie</td>\n",
       "      <td>2017</td>\n",
       "      <td>41389189.0</td>\n",
       "    </tr>\n",
       "    <tr>\n",
       "      <th>28</th>\n",
       "      <td>Allemagne</td>\n",
       "      <td>2017</td>\n",
       "      <td>82658409.0</td>\n",
       "    </tr>\n",
       "  </tbody>\n",
       "</table>\n",
       "</div>"
      ],
      "text/plain": [
       "              Zone  Année  Nbre habitant\n",
       "4      Afghanistan   2017     36296113.0\n",
       "10  Afrique du Sud   2017     57009756.0\n",
       "16         Albanie   2017      2884169.0\n",
       "22         Algérie   2017     41389189.0\n",
       "28       Allemagne   2017     82658409.0"
      ]
     },
     "execution_count": 76,
     "metadata": {},
     "output_type": "execute_result"
    }
   ],
   "source": [
    "pop_2017 = data_population[data_population[\"Année\"] == 2017]\n",
    "pop_2017.head(5)"
   ]
  },
  {
   "cell_type": "code",
   "execution_count": 77,
   "id": "710d63e6-fa44-4369-acea-752b01f56b09",
   "metadata": {},
   "outputs": [
    {
     "data": {
      "text/html": [
       "<div>\n",
       "<style scoped>\n",
       "    .dataframe tbody tr th:only-of-type {\n",
       "        vertical-align: middle;\n",
       "    }\n",
       "\n",
       "    .dataframe tbody tr th {\n",
       "        vertical-align: top;\n",
       "    }\n",
       "\n",
       "    .dataframe thead th {\n",
       "        text-align: right;\n",
       "    }\n",
       "</style>\n",
       "<table border=\"1\" class=\"dataframe\">\n",
       "  <thead>\n",
       "    <tr style=\"text-align: right;\">\n",
       "      <th></th>\n",
       "      <th>Zone</th>\n",
       "      <th>Produit</th>\n",
       "      <th>Origine</th>\n",
       "      <th>Aliments pour animaux</th>\n",
       "      <th>Autres Utilisations</th>\n",
       "      <th>Disponibilité alimentaire (Kcal/personne/jour)</th>\n",
       "      <th>Disponibilité alimentaire en quantité (kg/personne/an)</th>\n",
       "      <th>Disponibilité de matière grasse en quantité (g/personne/jour)</th>\n",
       "      <th>Disponibilité de protéines en quantité (g/personne/jour)</th>\n",
       "      <th>Disponibilité intérieure</th>\n",
       "      <th>Exportations - Quantité</th>\n",
       "      <th>Importations - Quantité</th>\n",
       "      <th>Nourriture</th>\n",
       "      <th>Pertes</th>\n",
       "      <th>Production</th>\n",
       "      <th>Semences</th>\n",
       "      <th>Traitement</th>\n",
       "      <th>Variation de stock</th>\n",
       "      <th>Année</th>\n",
       "      <th>Nbre habitant</th>\n",
       "    </tr>\n",
       "  </thead>\n",
       "  <tbody>\n",
       "    <tr>\n",
       "      <th>0</th>\n",
       "      <td>Afghanistan</td>\n",
       "      <td>Abats Comestible</td>\n",
       "      <td>animale</td>\n",
       "      <td>0.0</td>\n",
       "      <td>0.0</td>\n",
       "      <td>5.0</td>\n",
       "      <td>1.72</td>\n",
       "      <td>0.20</td>\n",
       "      <td>0.77</td>\n",
       "      <td>53000000.0</td>\n",
       "      <td>0.0</td>\n",
       "      <td>0.0</td>\n",
       "      <td>53000000.0</td>\n",
       "      <td>0.0</td>\n",
       "      <td>53000000.0</td>\n",
       "      <td>0.0</td>\n",
       "      <td>0.0</td>\n",
       "      <td>0.0</td>\n",
       "      <td>2017.0</td>\n",
       "      <td>36296113.0</td>\n",
       "    </tr>\n",
       "    <tr>\n",
       "      <th>1</th>\n",
       "      <td>Afghanistan</td>\n",
       "      <td>Agrumes, Autres</td>\n",
       "      <td>vegetale</td>\n",
       "      <td>0.0</td>\n",
       "      <td>0.0</td>\n",
       "      <td>1.0</td>\n",
       "      <td>1.29</td>\n",
       "      <td>0.01</td>\n",
       "      <td>0.02</td>\n",
       "      <td>41000000.0</td>\n",
       "      <td>2000000.0</td>\n",
       "      <td>40000000.0</td>\n",
       "      <td>39000000.0</td>\n",
       "      <td>2000000.0</td>\n",
       "      <td>3000000.0</td>\n",
       "      <td>0.0</td>\n",
       "      <td>0.0</td>\n",
       "      <td>0.0</td>\n",
       "      <td>2017.0</td>\n",
       "      <td>36296113.0</td>\n",
       "    </tr>\n",
       "    <tr>\n",
       "      <th>2</th>\n",
       "      <td>Afghanistan</td>\n",
       "      <td>Aliments pour enfants</td>\n",
       "      <td>vegetale</td>\n",
       "      <td>0.0</td>\n",
       "      <td>0.0</td>\n",
       "      <td>1.0</td>\n",
       "      <td>0.06</td>\n",
       "      <td>0.01</td>\n",
       "      <td>0.03</td>\n",
       "      <td>2000000.0</td>\n",
       "      <td>0.0</td>\n",
       "      <td>2000000.0</td>\n",
       "      <td>2000000.0</td>\n",
       "      <td>0.0</td>\n",
       "      <td>0.0</td>\n",
       "      <td>0.0</td>\n",
       "      <td>0.0</td>\n",
       "      <td>0.0</td>\n",
       "      <td>2017.0</td>\n",
       "      <td>36296113.0</td>\n",
       "    </tr>\n",
       "    <tr>\n",
       "      <th>3</th>\n",
       "      <td>Afghanistan</td>\n",
       "      <td>Ananas</td>\n",
       "      <td>vegetale</td>\n",
       "      <td>0.0</td>\n",
       "      <td>0.0</td>\n",
       "      <td>0.0</td>\n",
       "      <td>0.00</td>\n",
       "      <td>0.00</td>\n",
       "      <td>0.00</td>\n",
       "      <td>0.0</td>\n",
       "      <td>0.0</td>\n",
       "      <td>0.0</td>\n",
       "      <td>0.0</td>\n",
       "      <td>0.0</td>\n",
       "      <td>0.0</td>\n",
       "      <td>0.0</td>\n",
       "      <td>0.0</td>\n",
       "      <td>0.0</td>\n",
       "      <td>2017.0</td>\n",
       "      <td>36296113.0</td>\n",
       "    </tr>\n",
       "    <tr>\n",
       "      <th>4</th>\n",
       "      <td>Afghanistan</td>\n",
       "      <td>Bananes</td>\n",
       "      <td>vegetale</td>\n",
       "      <td>0.0</td>\n",
       "      <td>0.0</td>\n",
       "      <td>4.0</td>\n",
       "      <td>2.70</td>\n",
       "      <td>0.02</td>\n",
       "      <td>0.05</td>\n",
       "      <td>82000000.0</td>\n",
       "      <td>0.0</td>\n",
       "      <td>82000000.0</td>\n",
       "      <td>82000000.0</td>\n",
       "      <td>0.0</td>\n",
       "      <td>0.0</td>\n",
       "      <td>0.0</td>\n",
       "      <td>0.0</td>\n",
       "      <td>0.0</td>\n",
       "      <td>2017.0</td>\n",
       "      <td>36296113.0</td>\n",
       "    </tr>\n",
       "  </tbody>\n",
       "</table>\n",
       "</div>"
      ],
      "text/plain": [
       "          Zone                Produit   Origine  Aliments pour animaux  \\\n",
       "0  Afghanistan       Abats Comestible   animale                    0.0   \n",
       "1  Afghanistan        Agrumes, Autres  vegetale                    0.0   \n",
       "2  Afghanistan  Aliments pour enfants  vegetale                    0.0   \n",
       "3  Afghanistan                 Ananas  vegetale                    0.0   \n",
       "4  Afghanistan                Bananes  vegetale                    0.0   \n",
       "\n",
       "   Autres Utilisations  Disponibilité alimentaire (Kcal/personne/jour)  \\\n",
       "0                  0.0                                             5.0   \n",
       "1                  0.0                                             1.0   \n",
       "2                  0.0                                             1.0   \n",
       "3                  0.0                                             0.0   \n",
       "4                  0.0                                             4.0   \n",
       "\n",
       "   Disponibilité alimentaire en quantité (kg/personne/an)  \\\n",
       "0                                               1.72        \n",
       "1                                               1.29        \n",
       "2                                               0.06        \n",
       "3                                               0.00        \n",
       "4                                               2.70        \n",
       "\n",
       "   Disponibilité de matière grasse en quantité (g/personne/jour)  \\\n",
       "0                                               0.20               \n",
       "1                                               0.01               \n",
       "2                                               0.01               \n",
       "3                                               0.00               \n",
       "4                                               0.02               \n",
       "\n",
       "   Disponibilité de protéines en quantité (g/personne/jour)  \\\n",
       "0                                               0.77          \n",
       "1                                               0.02          \n",
       "2                                               0.03          \n",
       "3                                               0.00          \n",
       "4                                               0.05          \n",
       "\n",
       "   Disponibilité intérieure  Exportations - Quantité  Importations - Quantité  \\\n",
       "0                53000000.0                      0.0                      0.0   \n",
       "1                41000000.0                2000000.0               40000000.0   \n",
       "2                 2000000.0                      0.0                2000000.0   \n",
       "3                       0.0                      0.0                      0.0   \n",
       "4                82000000.0                      0.0               82000000.0   \n",
       "\n",
       "   Nourriture     Pertes  Production  Semences  Traitement  \\\n",
       "0  53000000.0        0.0  53000000.0       0.0         0.0   \n",
       "1  39000000.0  2000000.0   3000000.0       0.0         0.0   \n",
       "2   2000000.0        0.0         0.0       0.0         0.0   \n",
       "3         0.0        0.0         0.0       0.0         0.0   \n",
       "4  82000000.0        0.0         0.0       0.0         0.0   \n",
       "\n",
       "   Variation de stock   Année  Nbre habitant  \n",
       "0                 0.0  2017.0     36296113.0  \n",
       "1                 0.0  2017.0     36296113.0  \n",
       "2                 0.0  2017.0     36296113.0  \n",
       "3                 0.0  2017.0     36296113.0  \n",
       "4                 0.0  2017.0     36296113.0  "
      ]
     },
     "execution_count": 77,
     "metadata": {},
     "output_type": "execute_result"
    }
   ],
   "source": [
    "# jointure entre data_dispo et data_population\n",
    "nb_pers_nourr_2017 = pd.merge(data_dispo,pop_2017, on = \"Zone\", how = \"left\")\n",
    "nb_pers_nourr_2017.head(5)"
   ]
  },
  {
   "cell_type": "code",
   "execution_count": 78,
   "id": "777c4f62-de17-4376-b090-c3c4204d7de8",
   "metadata": {},
   "outputs": [
    {
     "data": {
      "text/plain": [
       "(15605, 20)"
      ]
     },
     "execution_count": 78,
     "metadata": {},
     "output_type": "execute_result"
    }
   ],
   "source": [
    "nb_pers_nourr_2017.shape"
   ]
  },
  {
   "cell_type": "code",
   "execution_count": 79,
   "id": "174472b5-f0ce-4646-a03b-cb230a38d1c1",
   "metadata": {},
   "outputs": [
    {
     "data": {
      "text/plain": [
       "Zone                                                              object\n",
       "Produit                                                           object\n",
       "Origine                                                           object\n",
       "Aliments pour animaux                                            float64\n",
       "Autres Utilisations                                              float64\n",
       "Disponibilité alimentaire (Kcal/personne/jour)                   float64\n",
       "Disponibilité alimentaire en quantité (kg/personne/an)           float64\n",
       "Disponibilité de matière grasse en quantité (g/personne/jour)    float64\n",
       "Disponibilité de protéines en quantité (g/personne/jour)         float64\n",
       "Disponibilité intérieure                                         float64\n",
       "Exportations - Quantité                                          float64\n",
       "Importations - Quantité                                          float64\n",
       "Nourriture                                                       float64\n",
       "Pertes                                                           float64\n",
       "Production                                                       float64\n",
       "Semences                                                         float64\n",
       "Traitement                                                       float64\n",
       "Variation de stock                                               float64\n",
       "Année                                                            float64\n",
       "Nbre habitant                                                    float64\n",
       "dtype: object"
      ]
     },
     "execution_count": 79,
     "metadata": {},
     "output_type": "execute_result"
    }
   ],
   "source": [
    "# Types de données \n",
    "nb_pers_nourr_2017.dtypes"
   ]
  },
  {
   "cell_type": "code",
   "execution_count": 80,
   "id": "40ea5572-1a95-4364-9157-1703e23a3e7e",
   "metadata": {},
   "outputs": [
    {
     "data": {
      "text/plain": [
       "Nbre habitant                                                    1.21\n",
       "Année                                                            1.21\n",
       "Produit                                                          0.00\n",
       "Variation de stock                                               0.00\n",
       "Traitement                                                       0.00\n",
       "Semences                                                         0.00\n",
       "Production                                                       0.00\n",
       "Pertes                                                           0.00\n",
       "Nourriture                                                       0.00\n",
       "Importations - Quantité                                          0.00\n",
       "Zone                                                             0.00\n",
       "Disponibilité intérieure                                         0.00\n",
       "Disponibilité de protéines en quantité (g/personne/jour)         0.00\n",
       "Disponibilité de matière grasse en quantité (g/personne/jour)    0.00\n",
       "Disponibilité alimentaire en quantité (kg/personne/an)           0.00\n",
       "Disponibilité alimentaire (Kcal/personne/jour)                   0.00\n",
       "Autres Utilisations                                              0.00\n",
       "Aliments pour animaux                                            0.00\n",
       "Origine                                                          0.00\n",
       "Exportations - Quantité                                          0.00\n",
       "dtype: float64"
      ]
     },
     "execution_count": 80,
     "metadata": {},
     "output_type": "execute_result"
    }
   ],
   "source": [
    "  # Pourcentages des valeurs nulls\n",
    "pourcentage_valeur_null = round((nb_pers_nourr_2017.isnull().sum()/nb_pers_nourr_2017.shape[0]*100),2).sort_values(ascending=False)\n",
    "pourcentage_valeur_null"
   ]
  },
  {
   "cell_type": "markdown",
   "id": "5b872758-5126-4802-a5d6-7b7e4fca52ac",
   "metadata": {},
   "source": [
    "* Après jointure des deux dataframes , on voit que le type de données de la colonne \"Année\" n'est pas au bon format c'est à dire elle doit être de type \"int\" et non de type \"float\".\n",
    "* En plus la jointure nous a encore rajouté à nouveau de valeurs manquantes à cause des pays où les lignes n'ont pas de correspondance, dans ce cas nous allons les remplacer par 0 ces lignes avec les valeurs manquantes"
   ]
  },
  {
   "cell_type": "code",
   "execution_count": 81,
   "id": "4fa812e1-85f6-46c1-9cf7-10769b5aedc4",
   "metadata": {},
   "outputs": [],
   "source": [
    "# remplacer les valeurs manquantes\n",
    "#nb_pers_nourr_2017 = nb_pers_nourr_2017.dropna(subset = [\"Année\", \"Nbre habitant\"])\n",
    "#nb_pers_nourr_2017 = nb_pers_nourr_2017.reset_index(drop=True)\n",
    "nb_pers_nourr_2017 = nb_pers_nourr_2017.fillna(0)                                  "
   ]
  },
  {
   "cell_type": "code",
   "execution_count": 82,
   "id": "d80abff8-c2cd-4be3-bd6c-9c68ebbff0b0",
   "metadata": {},
   "outputs": [
    {
     "data": {
      "text/plain": [
       "Zone                                                              object\n",
       "Produit                                                           object\n",
       "Origine                                                           object\n",
       "Aliments pour animaux                                            float64\n",
       "Autres Utilisations                                              float64\n",
       "Disponibilité alimentaire (Kcal/personne/jour)                   float64\n",
       "Disponibilité alimentaire en quantité (kg/personne/an)           float64\n",
       "Disponibilité de matière grasse en quantité (g/personne/jour)    float64\n",
       "Disponibilité de protéines en quantité (g/personne/jour)         float64\n",
       "Disponibilité intérieure                                         float64\n",
       "Exportations - Quantité                                          float64\n",
       "Importations - Quantité                                          float64\n",
       "Nourriture                                                       float64\n",
       "Pertes                                                           float64\n",
       "Production                                                       float64\n",
       "Semences                                                         float64\n",
       "Traitement                                                       float64\n",
       "Variation de stock                                               float64\n",
       "Année                                                              int32\n",
       "Nbre habitant                                                    float64\n",
       "dtype: object"
      ]
     },
     "execution_count": 82,
     "metadata": {},
     "output_type": "execute_result"
    }
   ],
   "source": [
    "nb_pers_nourr_2017[\"Année\"] = nb_pers_nourr_2017[\"Année\"].astype(int)\n",
    "nb_pers_nourr_2017.dtypes"
   ]
  },
  {
   "cell_type": "code",
   "execution_count": 83,
   "id": "c63c5708-55a6-4a48-a4bd-816c2963757b",
   "metadata": {},
   "outputs": [
    {
     "data": {
      "text/html": [
       "<div>\n",
       "<style scoped>\n",
       "    .dataframe tbody tr th:only-of-type {\n",
       "        vertical-align: middle;\n",
       "    }\n",
       "\n",
       "    .dataframe tbody tr th {\n",
       "        vertical-align: top;\n",
       "    }\n",
       "\n",
       "    .dataframe thead th {\n",
       "        text-align: right;\n",
       "    }\n",
       "</style>\n",
       "<table border=\"1\" class=\"dataframe\">\n",
       "  <thead>\n",
       "    <tr style=\"text-align: right;\">\n",
       "      <th></th>\n",
       "      <th>Zone</th>\n",
       "      <th>Produit</th>\n",
       "      <th>Origine</th>\n",
       "      <th>Aliments pour animaux</th>\n",
       "      <th>Autres Utilisations</th>\n",
       "      <th>Disponibilité alimentaire (Kcal/personne/jour)</th>\n",
       "      <th>Disponibilité alimentaire en quantité (kg/personne/an)</th>\n",
       "      <th>Disponibilité de matière grasse en quantité (g/personne/jour)</th>\n",
       "      <th>Disponibilité de protéines en quantité (g/personne/jour)</th>\n",
       "      <th>Disponibilité intérieure</th>\n",
       "      <th>Exportations - Quantité</th>\n",
       "      <th>Importations - Quantité</th>\n",
       "      <th>Nourriture</th>\n",
       "      <th>Pertes</th>\n",
       "      <th>Production</th>\n",
       "      <th>Semences</th>\n",
       "      <th>Traitement</th>\n",
       "      <th>Variation de stock</th>\n",
       "      <th>Année</th>\n",
       "      <th>Nbre habitant</th>\n",
       "    </tr>\n",
       "  </thead>\n",
       "  <tbody>\n",
       "    <tr>\n",
       "      <th>0</th>\n",
       "      <td>Afghanistan</td>\n",
       "      <td>Abats Comestible</td>\n",
       "      <td>animale</td>\n",
       "      <td>0.0</td>\n",
       "      <td>0.0</td>\n",
       "      <td>5.0</td>\n",
       "      <td>1.72</td>\n",
       "      <td>0.20</td>\n",
       "      <td>0.77</td>\n",
       "      <td>53000000.0</td>\n",
       "      <td>0.0</td>\n",
       "      <td>0.0</td>\n",
       "      <td>53000000.0</td>\n",
       "      <td>0.0</td>\n",
       "      <td>53000000.0</td>\n",
       "      <td>0.0</td>\n",
       "      <td>0.0</td>\n",
       "      <td>0.0</td>\n",
       "      <td>2017</td>\n",
       "      <td>36296113.0</td>\n",
       "    </tr>\n",
       "    <tr>\n",
       "      <th>1</th>\n",
       "      <td>Afghanistan</td>\n",
       "      <td>Agrumes, Autres</td>\n",
       "      <td>vegetale</td>\n",
       "      <td>0.0</td>\n",
       "      <td>0.0</td>\n",
       "      <td>1.0</td>\n",
       "      <td>1.29</td>\n",
       "      <td>0.01</td>\n",
       "      <td>0.02</td>\n",
       "      <td>41000000.0</td>\n",
       "      <td>2000000.0</td>\n",
       "      <td>40000000.0</td>\n",
       "      <td>39000000.0</td>\n",
       "      <td>2000000.0</td>\n",
       "      <td>3000000.0</td>\n",
       "      <td>0.0</td>\n",
       "      <td>0.0</td>\n",
       "      <td>0.0</td>\n",
       "      <td>2017</td>\n",
       "      <td>36296113.0</td>\n",
       "    </tr>\n",
       "    <tr>\n",
       "      <th>2</th>\n",
       "      <td>Afghanistan</td>\n",
       "      <td>Aliments pour enfants</td>\n",
       "      <td>vegetale</td>\n",
       "      <td>0.0</td>\n",
       "      <td>0.0</td>\n",
       "      <td>1.0</td>\n",
       "      <td>0.06</td>\n",
       "      <td>0.01</td>\n",
       "      <td>0.03</td>\n",
       "      <td>2000000.0</td>\n",
       "      <td>0.0</td>\n",
       "      <td>2000000.0</td>\n",
       "      <td>2000000.0</td>\n",
       "      <td>0.0</td>\n",
       "      <td>0.0</td>\n",
       "      <td>0.0</td>\n",
       "      <td>0.0</td>\n",
       "      <td>0.0</td>\n",
       "      <td>2017</td>\n",
       "      <td>36296113.0</td>\n",
       "    </tr>\n",
       "    <tr>\n",
       "      <th>3</th>\n",
       "      <td>Afghanistan</td>\n",
       "      <td>Ananas</td>\n",
       "      <td>vegetale</td>\n",
       "      <td>0.0</td>\n",
       "      <td>0.0</td>\n",
       "      <td>0.0</td>\n",
       "      <td>0.00</td>\n",
       "      <td>0.00</td>\n",
       "      <td>0.00</td>\n",
       "      <td>0.0</td>\n",
       "      <td>0.0</td>\n",
       "      <td>0.0</td>\n",
       "      <td>0.0</td>\n",
       "      <td>0.0</td>\n",
       "      <td>0.0</td>\n",
       "      <td>0.0</td>\n",
       "      <td>0.0</td>\n",
       "      <td>0.0</td>\n",
       "      <td>2017</td>\n",
       "      <td>36296113.0</td>\n",
       "    </tr>\n",
       "    <tr>\n",
       "      <th>4</th>\n",
       "      <td>Afghanistan</td>\n",
       "      <td>Bananes</td>\n",
       "      <td>vegetale</td>\n",
       "      <td>0.0</td>\n",
       "      <td>0.0</td>\n",
       "      <td>4.0</td>\n",
       "      <td>2.70</td>\n",
       "      <td>0.02</td>\n",
       "      <td>0.05</td>\n",
       "      <td>82000000.0</td>\n",
       "      <td>0.0</td>\n",
       "      <td>82000000.0</td>\n",
       "      <td>82000000.0</td>\n",
       "      <td>0.0</td>\n",
       "      <td>0.0</td>\n",
       "      <td>0.0</td>\n",
       "      <td>0.0</td>\n",
       "      <td>0.0</td>\n",
       "      <td>2017</td>\n",
       "      <td>36296113.0</td>\n",
       "    </tr>\n",
       "  </tbody>\n",
       "</table>\n",
       "</div>"
      ],
      "text/plain": [
       "          Zone                Produit   Origine  Aliments pour animaux  \\\n",
       "0  Afghanistan       Abats Comestible   animale                    0.0   \n",
       "1  Afghanistan        Agrumes, Autres  vegetale                    0.0   \n",
       "2  Afghanistan  Aliments pour enfants  vegetale                    0.0   \n",
       "3  Afghanistan                 Ananas  vegetale                    0.0   \n",
       "4  Afghanistan                Bananes  vegetale                    0.0   \n",
       "\n",
       "   Autres Utilisations  Disponibilité alimentaire (Kcal/personne/jour)  \\\n",
       "0                  0.0                                             5.0   \n",
       "1                  0.0                                             1.0   \n",
       "2                  0.0                                             1.0   \n",
       "3                  0.0                                             0.0   \n",
       "4                  0.0                                             4.0   \n",
       "\n",
       "   Disponibilité alimentaire en quantité (kg/personne/an)  \\\n",
       "0                                               1.72        \n",
       "1                                               1.29        \n",
       "2                                               0.06        \n",
       "3                                               0.00        \n",
       "4                                               2.70        \n",
       "\n",
       "   Disponibilité de matière grasse en quantité (g/personne/jour)  \\\n",
       "0                                               0.20               \n",
       "1                                               0.01               \n",
       "2                                               0.01               \n",
       "3                                               0.00               \n",
       "4                                               0.02               \n",
       "\n",
       "   Disponibilité de protéines en quantité (g/personne/jour)  \\\n",
       "0                                               0.77          \n",
       "1                                               0.02          \n",
       "2                                               0.03          \n",
       "3                                               0.00          \n",
       "4                                               0.05          \n",
       "\n",
       "   Disponibilité intérieure  Exportations - Quantité  Importations - Quantité  \\\n",
       "0                53000000.0                      0.0                      0.0   \n",
       "1                41000000.0                2000000.0               40000000.0   \n",
       "2                 2000000.0                      0.0                2000000.0   \n",
       "3                       0.0                      0.0                      0.0   \n",
       "4                82000000.0                      0.0               82000000.0   \n",
       "\n",
       "   Nourriture     Pertes  Production  Semences  Traitement  \\\n",
       "0  53000000.0        0.0  53000000.0       0.0         0.0   \n",
       "1  39000000.0  2000000.0   3000000.0       0.0         0.0   \n",
       "2   2000000.0        0.0         0.0       0.0         0.0   \n",
       "3         0.0        0.0         0.0       0.0         0.0   \n",
       "4  82000000.0        0.0         0.0       0.0         0.0   \n",
       "\n",
       "   Variation de stock  Année  Nbre habitant  \n",
       "0                 0.0   2017     36296113.0  \n",
       "1                 0.0   2017     36296113.0  \n",
       "2                 0.0   2017     36296113.0  \n",
       "3                 0.0   2017     36296113.0  \n",
       "4                 0.0   2017     36296113.0  "
      ]
     },
     "execution_count": 83,
     "metadata": {},
     "output_type": "execute_result"
    }
   ],
   "source": [
    "nb_pers_nourr_2017.head(5)"
   ]
  },
  {
   "cell_type": "markdown",
   "id": "777c6d94-3a2a-41ad-b3c6-1f6d6238d65f",
   "metadata": {},
   "source": [
    "* Les besoins alimentaires : la ration alimentaire moyenne nécessaire est de 2 500 kcal/personne/jour. \n",
    "* Source Wikipedia: https://fr.wikipedia.org/wiki/Ration_alimentaire#:~:text=pour%20un%20enfant%20%3A%20environ%201,(actif)%20%3A%202%20700%20kcal"
   ]
  },
  {
   "cell_type": "markdown",
   "id": "613c11d4-bf44-469b-8845-7a1294693bb4",
   "metadata": {},
   "source": [
    "* Nous allons créer une nouvelle variable pour calculer la disponibilté alimentaire des personnes qui pourraient être nourries"
   ]
  },
  {
   "cell_type": "code",
   "execution_count": 84,
   "id": "2cdfac9b-546f-45b1-9b7c-f9d349593312",
   "metadata": {},
   "outputs": [],
   "source": [
    "# Création de la variable\n",
    "nb_pers_nourr_2017[\"Dispo_alim_pop (Kcal/jour/pop)\"] = nb_pers_nourr_2017[\"Disponibilité alimentaire (Kcal/personne/jour)\"] * nb_pers_nourr_2017[\"Nbre habitant\"] "
   ]
  },
  {
   "cell_type": "code",
   "execution_count": 85,
   "id": "e6f2bf85-5574-4e6f-bc68-0da0afdf460d",
   "metadata": {},
   "outputs": [
    {
     "data": {
      "text/plain": [
       "7635429388975815.0"
      ]
     },
     "execution_count": 85,
     "metadata": {},
     "output_type": "execute_result"
    }
   ],
   "source": [
    "# Disponibilité en calories\n",
    "dispo_totale_2017_cal = sum(nb_pers_nourr_2017[\"Dispo_alim_pop (Kcal/jour/pop)\"])*365\n",
    "dispo_totale_2017_cal"
   ]
  },
  {
   "cell_type": "code",
   "execution_count": 86,
   "id": "aadde33b-600b-48c1-a3d2-7b02bf762eca",
   "metadata": {},
   "outputs": [
    {
     "data": {
      "text/plain": [
       "8367593851"
      ]
     },
     "execution_count": 86,
     "metadata": {},
     "output_type": "execute_result"
    }
   ],
   "source": [
    "# le nombre théorique de personnes qui pourraient être nourries\n",
    "dispo_alim_pers_2017 = round(sum(nb_pers_nourr_2017[\"Dispo_alim_pop (Kcal/jour/pop)\"])/2500)\n",
    "dispo_alim_pers_2017"
   ]
  },
  {
   "cell_type": "code",
   "execution_count": 87,
   "id": "e28ded54-96a1-4ec1-a936-6bd53456ca18",
   "metadata": {},
   "outputs": [
    {
     "data": {
      "text/plain": [
       "110.86"
      ]
     },
     "execution_count": 87,
     "metadata": {},
     "output_type": "execute_result"
    }
   ],
   "source": [
    "# rapport entre la disponibilté et la population mondiale en 2017\n",
    "rapport_dispo_alim = round((dispo_alim_pers_2017/df_pop_2017)*100,2)\n",
    "rapport_dispo_alim"
   ]
  },
  {
   "cell_type": "markdown",
   "id": "b88bbc68-525e-4248-a1bb-fe571c00e1ad",
   "metadata": {},
   "source": [
    "#### La disponibilité mondiale pourraient nourrir 8 367 593 851 de personnes soit 1.10 fois la population mondiale(Proportion = 110,86%)"
   ]
  },
  {
   "cell_type": "markdown",
   "id": "c5277a6b-d51f-49da-8ebd-c145be30d5cd",
   "metadata": {},
   "source": [
    "### 4.3 la disponibilité alimentaire des produits végétaux ;"
   ]
  },
  {
   "cell_type": "markdown",
   "id": "349414a5-9a19-4d95-96dd-fb5a2df374a0",
   "metadata": {},
   "source": [
    "* Nous allons utiliser le Dataframe précèdent qu'on avait fait la jointure entre disponibilité alimentaire et population  "
   ]
  },
  {
   "cell_type": "code",
   "execution_count": 88,
   "id": "605e2743-14b2-4e13-adf4-97c2844f8f90",
   "metadata": {},
   "outputs": [
    {
     "data": {
      "text/html": [
       "<div>\n",
       "<style scoped>\n",
       "    .dataframe tbody tr th:only-of-type {\n",
       "        vertical-align: middle;\n",
       "    }\n",
       "\n",
       "    .dataframe tbody tr th {\n",
       "        vertical-align: top;\n",
       "    }\n",
       "\n",
       "    .dataframe thead th {\n",
       "        text-align: right;\n",
       "    }\n",
       "</style>\n",
       "<table border=\"1\" class=\"dataframe\">\n",
       "  <thead>\n",
       "    <tr style=\"text-align: right;\">\n",
       "      <th></th>\n",
       "      <th>Zone</th>\n",
       "      <th>Produit</th>\n",
       "      <th>Origine</th>\n",
       "      <th>Aliments pour animaux</th>\n",
       "      <th>Autres Utilisations</th>\n",
       "      <th>Disponibilité alimentaire (Kcal/personne/jour)</th>\n",
       "      <th>Disponibilité alimentaire en quantité (kg/personne/an)</th>\n",
       "      <th>Disponibilité de matière grasse en quantité (g/personne/jour)</th>\n",
       "      <th>Disponibilité de protéines en quantité (g/personne/jour)</th>\n",
       "      <th>Disponibilité intérieure</th>\n",
       "      <th>...</th>\n",
       "      <th>Importations - Quantité</th>\n",
       "      <th>Nourriture</th>\n",
       "      <th>Pertes</th>\n",
       "      <th>Production</th>\n",
       "      <th>Semences</th>\n",
       "      <th>Traitement</th>\n",
       "      <th>Variation de stock</th>\n",
       "      <th>Année</th>\n",
       "      <th>Nbre habitant</th>\n",
       "      <th>Dispo_alim_pop (Kcal/jour/pop)</th>\n",
       "    </tr>\n",
       "  </thead>\n",
       "  <tbody>\n",
       "    <tr>\n",
       "      <th>0</th>\n",
       "      <td>Afghanistan</td>\n",
       "      <td>Abats Comestible</td>\n",
       "      <td>animale</td>\n",
       "      <td>0.0</td>\n",
       "      <td>0.0</td>\n",
       "      <td>5.0</td>\n",
       "      <td>1.72</td>\n",
       "      <td>0.20</td>\n",
       "      <td>0.77</td>\n",
       "      <td>53000000.0</td>\n",
       "      <td>...</td>\n",
       "      <td>0.0</td>\n",
       "      <td>53000000.0</td>\n",
       "      <td>0.0</td>\n",
       "      <td>53000000.0</td>\n",
       "      <td>0.0</td>\n",
       "      <td>0.0</td>\n",
       "      <td>0.0</td>\n",
       "      <td>2017</td>\n",
       "      <td>36296113.0</td>\n",
       "      <td>181480565.0</td>\n",
       "    </tr>\n",
       "    <tr>\n",
       "      <th>1</th>\n",
       "      <td>Afghanistan</td>\n",
       "      <td>Agrumes, Autres</td>\n",
       "      <td>vegetale</td>\n",
       "      <td>0.0</td>\n",
       "      <td>0.0</td>\n",
       "      <td>1.0</td>\n",
       "      <td>1.29</td>\n",
       "      <td>0.01</td>\n",
       "      <td>0.02</td>\n",
       "      <td>41000000.0</td>\n",
       "      <td>...</td>\n",
       "      <td>40000000.0</td>\n",
       "      <td>39000000.0</td>\n",
       "      <td>2000000.0</td>\n",
       "      <td>3000000.0</td>\n",
       "      <td>0.0</td>\n",
       "      <td>0.0</td>\n",
       "      <td>0.0</td>\n",
       "      <td>2017</td>\n",
       "      <td>36296113.0</td>\n",
       "      <td>36296113.0</td>\n",
       "    </tr>\n",
       "    <tr>\n",
       "      <th>2</th>\n",
       "      <td>Afghanistan</td>\n",
       "      <td>Aliments pour enfants</td>\n",
       "      <td>vegetale</td>\n",
       "      <td>0.0</td>\n",
       "      <td>0.0</td>\n",
       "      <td>1.0</td>\n",
       "      <td>0.06</td>\n",
       "      <td>0.01</td>\n",
       "      <td>0.03</td>\n",
       "      <td>2000000.0</td>\n",
       "      <td>...</td>\n",
       "      <td>2000000.0</td>\n",
       "      <td>2000000.0</td>\n",
       "      <td>0.0</td>\n",
       "      <td>0.0</td>\n",
       "      <td>0.0</td>\n",
       "      <td>0.0</td>\n",
       "      <td>0.0</td>\n",
       "      <td>2017</td>\n",
       "      <td>36296113.0</td>\n",
       "      <td>36296113.0</td>\n",
       "    </tr>\n",
       "    <tr>\n",
       "      <th>3</th>\n",
       "      <td>Afghanistan</td>\n",
       "      <td>Ananas</td>\n",
       "      <td>vegetale</td>\n",
       "      <td>0.0</td>\n",
       "      <td>0.0</td>\n",
       "      <td>0.0</td>\n",
       "      <td>0.00</td>\n",
       "      <td>0.00</td>\n",
       "      <td>0.00</td>\n",
       "      <td>0.0</td>\n",
       "      <td>...</td>\n",
       "      <td>0.0</td>\n",
       "      <td>0.0</td>\n",
       "      <td>0.0</td>\n",
       "      <td>0.0</td>\n",
       "      <td>0.0</td>\n",
       "      <td>0.0</td>\n",
       "      <td>0.0</td>\n",
       "      <td>2017</td>\n",
       "      <td>36296113.0</td>\n",
       "      <td>0.0</td>\n",
       "    </tr>\n",
       "    <tr>\n",
       "      <th>4</th>\n",
       "      <td>Afghanistan</td>\n",
       "      <td>Bananes</td>\n",
       "      <td>vegetale</td>\n",
       "      <td>0.0</td>\n",
       "      <td>0.0</td>\n",
       "      <td>4.0</td>\n",
       "      <td>2.70</td>\n",
       "      <td>0.02</td>\n",
       "      <td>0.05</td>\n",
       "      <td>82000000.0</td>\n",
       "      <td>...</td>\n",
       "      <td>82000000.0</td>\n",
       "      <td>82000000.0</td>\n",
       "      <td>0.0</td>\n",
       "      <td>0.0</td>\n",
       "      <td>0.0</td>\n",
       "      <td>0.0</td>\n",
       "      <td>0.0</td>\n",
       "      <td>2017</td>\n",
       "      <td>36296113.0</td>\n",
       "      <td>145184452.0</td>\n",
       "    </tr>\n",
       "  </tbody>\n",
       "</table>\n",
       "<p>5 rows × 21 columns</p>\n",
       "</div>"
      ],
      "text/plain": [
       "          Zone                Produit   Origine  Aliments pour animaux  \\\n",
       "0  Afghanistan       Abats Comestible   animale                    0.0   \n",
       "1  Afghanistan        Agrumes, Autres  vegetale                    0.0   \n",
       "2  Afghanistan  Aliments pour enfants  vegetale                    0.0   \n",
       "3  Afghanistan                 Ananas  vegetale                    0.0   \n",
       "4  Afghanistan                Bananes  vegetale                    0.0   \n",
       "\n",
       "   Autres Utilisations  Disponibilité alimentaire (Kcal/personne/jour)  \\\n",
       "0                  0.0                                             5.0   \n",
       "1                  0.0                                             1.0   \n",
       "2                  0.0                                             1.0   \n",
       "3                  0.0                                             0.0   \n",
       "4                  0.0                                             4.0   \n",
       "\n",
       "   Disponibilité alimentaire en quantité (kg/personne/an)  \\\n",
       "0                                               1.72        \n",
       "1                                               1.29        \n",
       "2                                               0.06        \n",
       "3                                               0.00        \n",
       "4                                               2.70        \n",
       "\n",
       "   Disponibilité de matière grasse en quantité (g/personne/jour)  \\\n",
       "0                                               0.20               \n",
       "1                                               0.01               \n",
       "2                                               0.01               \n",
       "3                                               0.00               \n",
       "4                                               0.02               \n",
       "\n",
       "   Disponibilité de protéines en quantité (g/personne/jour)  \\\n",
       "0                                               0.77          \n",
       "1                                               0.02          \n",
       "2                                               0.03          \n",
       "3                                               0.00          \n",
       "4                                               0.05          \n",
       "\n",
       "   Disponibilité intérieure  ...  Importations - Quantité  Nourriture  \\\n",
       "0                53000000.0  ...                      0.0  53000000.0   \n",
       "1                41000000.0  ...               40000000.0  39000000.0   \n",
       "2                 2000000.0  ...                2000000.0   2000000.0   \n",
       "3                       0.0  ...                      0.0         0.0   \n",
       "4                82000000.0  ...               82000000.0  82000000.0   \n",
       "\n",
       "      Pertes  Production  Semences  Traitement  Variation de stock  Année  \\\n",
       "0        0.0  53000000.0       0.0         0.0                 0.0   2017   \n",
       "1  2000000.0   3000000.0       0.0         0.0                 0.0   2017   \n",
       "2        0.0         0.0       0.0         0.0                 0.0   2017   \n",
       "3        0.0         0.0       0.0         0.0                 0.0   2017   \n",
       "4        0.0         0.0       0.0         0.0                 0.0   2017   \n",
       "\n",
       "   Nbre habitant  Dispo_alim_pop (Kcal/jour/pop)  \n",
       "0     36296113.0                     181480565.0  \n",
       "1     36296113.0                      36296113.0  \n",
       "2     36296113.0                      36296113.0  \n",
       "3     36296113.0                             0.0  \n",
       "4     36296113.0                     145184452.0  \n",
       "\n",
       "[5 rows x 21 columns]"
      ]
     },
     "execution_count": 88,
     "metadata": {},
     "output_type": "execute_result"
    }
   ],
   "source": [
    "nb_pers_nourr_2017.head(5)"
   ]
  },
  {
   "cell_type": "code",
   "execution_count": 89,
   "id": "dfa0fb51-bf5e-4aed-b733-3b01e2daa2d2",
   "metadata": {},
   "outputs": [
    {
     "data": {
      "text/plain": [
       "vegetale    11896\n",
       "animale      3709\n",
       "Name: Origine, dtype: int64"
      ]
     },
     "execution_count": 89,
     "metadata": {},
     "output_type": "execute_result"
    }
   ],
   "source": [
    "# le nombre de ligne unique dans le dataframe\n",
    "nb_pers_nourr_2017[\"Origine\"].value_counts()"
   ]
  },
  {
   "cell_type": "code",
   "execution_count": 90,
   "id": "6bdd65bc-ccbf-41e8-91aa-2e452000d5e7",
   "metadata": {},
   "outputs": [
    {
     "data": {
      "image/png": "[encoded data removed]",
      "text/plain": [
       "<Figure size 800x500 with 1 Axes>"
      ]
     },
     "metadata": {},
     "output_type": "display_data"
    }
   ],
   "source": [
    "# visualisation des produits\n",
    "#nb_pers_nourr_2017[\"Origine\"].value_counts(normalize=True).plot.pie()\n",
    "plt.figure(figsize=(8,5))\n",
    "sns.countplot(x = nb_pers_nourr_2017[\"Origine\"])\n",
    "plt.xlabel(\"Origine\")\n",
    "plt.ylabel(\"Nombre\")\n",
    "plt.title(\"Type d'aliments\")\n",
    "plt.show()"
   ]
  },
  {
   "cell_type": "code",
   "execution_count": 91,
   "id": "3b7dfba7-56d1-4d40-8de7-a39ada2b2427",
   "metadata": {},
   "outputs": [
    {
     "data": {
      "text/html": [
       "<div>\n",
       "<style scoped>\n",
       "    .dataframe tbody tr th:only-of-type {\n",
       "        vertical-align: middle;\n",
       "    }\n",
       "\n",
       "    .dataframe tbody tr th {\n",
       "        vertical-align: top;\n",
       "    }\n",
       "\n",
       "    .dataframe thead th {\n",
       "        text-align: right;\n",
       "    }\n",
       "</style>\n",
       "<table border=\"1\" class=\"dataframe\">\n",
       "  <thead>\n",
       "    <tr style=\"text-align: right;\">\n",
       "      <th></th>\n",
       "      <th>Zone</th>\n",
       "      <th>Produit</th>\n",
       "      <th>Origine</th>\n",
       "      <th>Aliments pour animaux</th>\n",
       "      <th>Autres Utilisations</th>\n",
       "      <th>Disponibilité alimentaire (Kcal/personne/jour)</th>\n",
       "      <th>Disponibilité alimentaire en quantité (kg/personne/an)</th>\n",
       "      <th>Disponibilité de matière grasse en quantité (g/personne/jour)</th>\n",
       "      <th>Disponibilité de protéines en quantité (g/personne/jour)</th>\n",
       "      <th>Disponibilité intérieure</th>\n",
       "      <th>...</th>\n",
       "      <th>Importations - Quantité</th>\n",
       "      <th>Nourriture</th>\n",
       "      <th>Pertes</th>\n",
       "      <th>Production</th>\n",
       "      <th>Semences</th>\n",
       "      <th>Traitement</th>\n",
       "      <th>Variation de stock</th>\n",
       "      <th>Année</th>\n",
       "      <th>Nbre habitant</th>\n",
       "      <th>Dispo_alim_pop (Kcal/jour/pop)</th>\n",
       "    </tr>\n",
       "  </thead>\n",
       "  <tbody>\n",
       "    <tr>\n",
       "      <th>1</th>\n",
       "      <td>Afghanistan</td>\n",
       "      <td>Agrumes, Autres</td>\n",
       "      <td>vegetale</td>\n",
       "      <td>0.0</td>\n",
       "      <td>0.0</td>\n",
       "      <td>1.0</td>\n",
       "      <td>1.29</td>\n",
       "      <td>0.01</td>\n",
       "      <td>0.02</td>\n",
       "      <td>41000000.0</td>\n",
       "      <td>...</td>\n",
       "      <td>40000000.0</td>\n",
       "      <td>39000000.0</td>\n",
       "      <td>2000000.0</td>\n",
       "      <td>3000000.0</td>\n",
       "      <td>0.0</td>\n",
       "      <td>0.0</td>\n",
       "      <td>0.0</td>\n",
       "      <td>2017</td>\n",
       "      <td>36296113.0</td>\n",
       "      <td>36296113.0</td>\n",
       "    </tr>\n",
       "    <tr>\n",
       "      <th>2</th>\n",
       "      <td>Afghanistan</td>\n",
       "      <td>Aliments pour enfants</td>\n",
       "      <td>vegetale</td>\n",
       "      <td>0.0</td>\n",
       "      <td>0.0</td>\n",
       "      <td>1.0</td>\n",
       "      <td>0.06</td>\n",
       "      <td>0.01</td>\n",
       "      <td>0.03</td>\n",
       "      <td>2000000.0</td>\n",
       "      <td>...</td>\n",
       "      <td>2000000.0</td>\n",
       "      <td>2000000.0</td>\n",
       "      <td>0.0</td>\n",
       "      <td>0.0</td>\n",
       "      <td>0.0</td>\n",
       "      <td>0.0</td>\n",
       "      <td>0.0</td>\n",
       "      <td>2017</td>\n",
       "      <td>36296113.0</td>\n",
       "      <td>36296113.0</td>\n",
       "    </tr>\n",
       "    <tr>\n",
       "      <th>3</th>\n",
       "      <td>Afghanistan</td>\n",
       "      <td>Ananas</td>\n",
       "      <td>vegetale</td>\n",
       "      <td>0.0</td>\n",
       "      <td>0.0</td>\n",
       "      <td>0.0</td>\n",
       "      <td>0.00</td>\n",
       "      <td>0.00</td>\n",
       "      <td>0.00</td>\n",
       "      <td>0.0</td>\n",
       "      <td>...</td>\n",
       "      <td>0.0</td>\n",
       "      <td>0.0</td>\n",
       "      <td>0.0</td>\n",
       "      <td>0.0</td>\n",
       "      <td>0.0</td>\n",
       "      <td>0.0</td>\n",
       "      <td>0.0</td>\n",
       "      <td>2017</td>\n",
       "      <td>36296113.0</td>\n",
       "      <td>0.0</td>\n",
       "    </tr>\n",
       "    <tr>\n",
       "      <th>4</th>\n",
       "      <td>Afghanistan</td>\n",
       "      <td>Bananes</td>\n",
       "      <td>vegetale</td>\n",
       "      <td>0.0</td>\n",
       "      <td>0.0</td>\n",
       "      <td>4.0</td>\n",
       "      <td>2.70</td>\n",
       "      <td>0.02</td>\n",
       "      <td>0.05</td>\n",
       "      <td>82000000.0</td>\n",
       "      <td>...</td>\n",
       "      <td>82000000.0</td>\n",
       "      <td>82000000.0</td>\n",
       "      <td>0.0</td>\n",
       "      <td>0.0</td>\n",
       "      <td>0.0</td>\n",
       "      <td>0.0</td>\n",
       "      <td>0.0</td>\n",
       "      <td>2017</td>\n",
       "      <td>36296113.0</td>\n",
       "      <td>145184452.0</td>\n",
       "    </tr>\n",
       "    <tr>\n",
       "      <th>6</th>\n",
       "      <td>Afghanistan</td>\n",
       "      <td>Bière</td>\n",
       "      <td>vegetale</td>\n",
       "      <td>0.0</td>\n",
       "      <td>0.0</td>\n",
       "      <td>0.0</td>\n",
       "      <td>0.09</td>\n",
       "      <td>0.00</td>\n",
       "      <td>0.00</td>\n",
       "      <td>3000000.0</td>\n",
       "      <td>...</td>\n",
       "      <td>3000000.0</td>\n",
       "      <td>3000000.0</td>\n",
       "      <td>0.0</td>\n",
       "      <td>0.0</td>\n",
       "      <td>0.0</td>\n",
       "      <td>0.0</td>\n",
       "      <td>0.0</td>\n",
       "      <td>2017</td>\n",
       "      <td>36296113.0</td>\n",
       "      <td>0.0</td>\n",
       "    </tr>\n",
       "  </tbody>\n",
       "</table>\n",
       "<p>5 rows × 21 columns</p>\n",
       "</div>"
      ],
      "text/plain": [
       "          Zone                Produit   Origine  Aliments pour animaux  \\\n",
       "1  Afghanistan        Agrumes, Autres  vegetale                    0.0   \n",
       "2  Afghanistan  Aliments pour enfants  vegetale                    0.0   \n",
       "3  Afghanistan                 Ananas  vegetale                    0.0   \n",
       "4  Afghanistan                Bananes  vegetale                    0.0   \n",
       "6  Afghanistan                  Bière  vegetale                    0.0   \n",
       "\n",
       "   Autres Utilisations  Disponibilité alimentaire (Kcal/personne/jour)  \\\n",
       "1                  0.0                                             1.0   \n",
       "2                  0.0                                             1.0   \n",
       "3                  0.0                                             0.0   \n",
       "4                  0.0                                             4.0   \n",
       "6                  0.0                                             0.0   \n",
       "\n",
       "   Disponibilité alimentaire en quantité (kg/personne/an)  \\\n",
       "1                                               1.29        \n",
       "2                                               0.06        \n",
       "3                                               0.00        \n",
       "4                                               2.70        \n",
       "6                                               0.09        \n",
       "\n",
       "   Disponibilité de matière grasse en quantité (g/personne/jour)  \\\n",
       "1                                               0.01               \n",
       "2                                               0.01               \n",
       "3                                               0.00               \n",
       "4                                               0.02               \n",
       "6                                               0.00               \n",
       "\n",
       "   Disponibilité de protéines en quantité (g/personne/jour)  \\\n",
       "1                                               0.02          \n",
       "2                                               0.03          \n",
       "3                                               0.00          \n",
       "4                                               0.05          \n",
       "6                                               0.00          \n",
       "\n",
       "   Disponibilité intérieure  ...  Importations - Quantité  Nourriture  \\\n",
       "1                41000000.0  ...               40000000.0  39000000.0   \n",
       "2                 2000000.0  ...                2000000.0   2000000.0   \n",
       "3                       0.0  ...                      0.0         0.0   \n",
       "4                82000000.0  ...               82000000.0  82000000.0   \n",
       "6                 3000000.0  ...                3000000.0   3000000.0   \n",
       "\n",
       "      Pertes  Production  Semences  Traitement  Variation de stock  Année  \\\n",
       "1  2000000.0   3000000.0       0.0         0.0                 0.0   2017   \n",
       "2        0.0         0.0       0.0         0.0                 0.0   2017   \n",
       "3        0.0         0.0       0.0         0.0                 0.0   2017   \n",
       "4        0.0         0.0       0.0         0.0                 0.0   2017   \n",
       "6        0.0         0.0       0.0         0.0                 0.0   2017   \n",
       "\n",
       "   Nbre habitant  Dispo_alim_pop (Kcal/jour/pop)  \n",
       "1     36296113.0                      36296113.0  \n",
       "2     36296113.0                      36296113.0  \n",
       "3     36296113.0                             0.0  \n",
       "4     36296113.0                     145184452.0  \n",
       "6     36296113.0                             0.0  \n",
       "\n",
       "[5 rows x 21 columns]"
      ]
     },
     "execution_count": 91,
     "metadata": {},
     "output_type": "execute_result"
    }
   ],
   "source": [
    "# faire un filtrage pour garder seulement les lignes de produits vegetals\n",
    "dispo_prod_veg = nb_pers_nourr_2017[nb_pers_nourr_2017[\"Origine\"] == \"vegetale\"]\n",
    "dispo_prod_veg.head(5)"
   ]
  },
  {
   "cell_type": "code",
   "execution_count": 92,
   "id": "eb43f243-1034-41d2-b05a-a8e962ddc45c",
   "metadata": {},
   "outputs": [
    {
     "data": {
      "text/plain": [
       "6300178937197865.0"
      ]
     },
     "execution_count": 92,
     "metadata": {},
     "output_type": "execute_result"
    }
   ],
   "source": [
    "# Disponibilité en calories\n",
    "dispo_totale_veg_cal = round(sum(dispo_prod_veg[\"Dispo_alim_pop (Kcal/jour/pop)\"])*365,2)\n",
    "dispo_totale_veg_cal"
   ]
  },
  {
   "cell_type": "code",
   "execution_count": 93,
   "id": "28d92608-a312-4ccc-a43e-f95cf08b32bb",
   "metadata": {},
   "outputs": [
    {
     "data": {
      "text/plain": [
       "6904305685"
      ]
     },
     "execution_count": 93,
     "metadata": {},
     "output_type": "execute_result"
    }
   ],
   "source": [
    "dispo_alim_veg = round(sum(dispo_prod_veg[\"Dispo_alim_pop (Kcal/jour/pop)\"])/2500)\n",
    "dispo_alim_veg "
   ]
  },
  {
   "cell_type": "code",
   "execution_count": 94,
   "id": "3fd07a16-fdbb-4b7a-bb8e-7b156731c072",
   "metadata": {},
   "outputs": [
    {
     "data": {
      "text/plain": [
       "91.47"
      ]
     },
     "execution_count": 94,
     "metadata": {},
     "output_type": "execute_result"
    }
   ],
   "source": [
    "rapport_dispo_alim_veg = round((dispo_alim_veg/df_pop_2017)*100,2)\n",
    "rapport_dispo_alim_veg"
   ]
  },
  {
   "cell_type": "markdown",
   "id": "0984f8e7-dea9-4c96-aee7-d809b126cba1",
   "metadata": {},
   "source": [
    "#### La disponibilité des produits végétaux pourraient nourrir 6 904 305 685 de personnes en 2017, soit 91,47% de la population mondiale."
   ]
  },
  {
   "cell_type": "markdown",
   "id": "3b848282-3258-451a-a722-fe9f86988790",
   "metadata": {},
   "source": [
    "### 4.4 Calcul des proportions"
   ]
  },
  {
   "cell_type": "markdown",
   "id": "c64b439d-eeec-4b2d-a55c-8638d0dca152",
   "metadata": {},
   "source": [
    "* L’utilisation de la disponibilité intérieure, en particulier la part qui est attribuée à l’alimentation animale, celle qui est perdue et celle qui est concrètement utilisée pour l'alimentation humaine."
   ]
  },
  {
   "cell_type": "code",
   "execution_count": 95,
   "id": "3d5f30dc-cd22-4dc5-8625-f7d470b74b15",
   "metadata": {},
   "outputs": [
    {
     "data": {
      "text/plain": [
       "Aliments pour animaux    1304245.0\n",
       "Nourriture               4876258.0\n",
       "Pertes                    453698.0\n",
       "Semences                  154681.0\n",
       "Traitement               2204687.0\n",
       "Autres Utilisations       865023.0\n",
       "dtype: float64"
      ]
     },
     "execution_count": 95,
     "metadata": {},
     "output_type": "execute_result"
    }
   ],
   "source": [
    "# La disponibilité intérieure(en tonne)\n",
    "# .sort_values(by='Pertes',ascending=False)\n",
    "#dispo_int = round(nb_pers_nourr_2017.loc[:, [\"Aliments pour animaux\", \"Nourriture\",\"Pertes\",\"Semences\", \"Traitement\", \"Autres Utilisations\"]].sum()/1000000)\n",
    "dispo_int = round(nb_pers_nourr_2017.loc[:, [\"Aliments pour animaux\", \"Nourriture\",\"Pertes\", \"Semences\", \"Traitement\", \"Autres Utilisations\"]].sum()/1000000)\n",
    "dispo_int"
   ]
  },
  {
   "cell_type": "code",
   "execution_count": 96,
   "id": "f17deb36-3ee2-4ee6-a6b9-b3172a5ff669",
   "metadata": {},
   "outputs": [
    {
     "data": {
      "text/html": [
       "<div>\n",
       "<style scoped>\n",
       "    .dataframe tbody tr th:only-of-type {\n",
       "        vertical-align: middle;\n",
       "    }\n",
       "\n",
       "    .dataframe tbody tr th {\n",
       "        vertical-align: top;\n",
       "    }\n",
       "\n",
       "    .dataframe thead th {\n",
       "        text-align: right;\n",
       "    }\n",
       "</style>\n",
       "<table border=\"1\" class=\"dataframe\">\n",
       "  <thead>\n",
       "    <tr style=\"text-align: right;\">\n",
       "      <th></th>\n",
       "      <th>Aliments pour animaux</th>\n",
       "      <th>Nourriture</th>\n",
       "      <th>Pertes</th>\n",
       "      <th>Semences</th>\n",
       "      <th>Traitement</th>\n",
       "      <th>Autres Utilisations</th>\n",
       "    </tr>\n",
       "  </thead>\n",
       "  <tbody>\n",
       "    <tr>\n",
       "      <th>Total(en tonne)</th>\n",
       "      <td>1304245.0</td>\n",
       "      <td>4876258.0</td>\n",
       "      <td>453698.0</td>\n",
       "      <td>154681.0</td>\n",
       "      <td>2204687.0</td>\n",
       "      <td>865023.0</td>\n",
       "    </tr>\n",
       "  </tbody>\n",
       "</table>\n",
       "</div>"
      ],
      "text/plain": [
       "                 Aliments pour animaux  Nourriture    Pertes  Semences  \\\n",
       "Total(en tonne)              1304245.0   4876258.0  453698.0  154681.0   \n",
       "\n",
       "                 Traitement  Autres Utilisations  \n",
       "Total(en tonne)   2204687.0             865023.0  "
      ]
     },
     "execution_count": 96,
     "metadata": {},
     "output_type": "execute_result"
    }
   ],
   "source": [
    "# convertir en dataframe\n",
    "df_dispo_int = pd.DataFrame([dispo_int], index = [\"Total(en tonne)\"])\n",
    "df_dispo_int"
   ]
  },
  {
   "cell_type": "code",
   "execution_count": 97,
   "id": "f9d4d901-86c8-4263-9016-08eef179afd6",
   "metadata": {},
   "outputs": [
    {
     "data": {
      "text/plain": [
       "Aliments pour animaux    13.24\n",
       "Nourriture               49.51\n",
       "Pertes                    4.61\n",
       "Semences                  1.57\n",
       "Traitement               22.38\n",
       "Autres Utilisations       8.78\n",
       "dtype: float64"
      ]
     },
     "execution_count": 97,
     "metadata": {},
     "output_type": "execute_result"
    }
   ],
   "source": [
    "# Les proportions\n",
    "proportion = round((dispo_int/sum(nb_pers_nourr_2017[\"Disponibilité intérieure\"]/1000000)*100),2)\n",
    "proportion"
   ]
  },
  {
   "cell_type": "code",
   "execution_count": 98,
   "id": "8a7a5974-8f39-44c0-8beb-3b53b3513a24",
   "metadata": {},
   "outputs": [
    {
     "data": {
      "text/html": [
       "<div>\n",
       "<style scoped>\n",
       "    .dataframe tbody tr th:only-of-type {\n",
       "        vertical-align: middle;\n",
       "    }\n",
       "\n",
       "    .dataframe tbody tr th {\n",
       "        vertical-align: top;\n",
       "    }\n",
       "\n",
       "    .dataframe thead th {\n",
       "        text-align: right;\n",
       "    }\n",
       "</style>\n",
       "<table border=\"1\" class=\"dataframe\">\n",
       "  <thead>\n",
       "    <tr style=\"text-align: right;\">\n",
       "      <th></th>\n",
       "      <th>Aliments pour animaux</th>\n",
       "      <th>Nourriture</th>\n",
       "      <th>Pertes</th>\n",
       "      <th>Semences</th>\n",
       "      <th>Traitement</th>\n",
       "      <th>Autres Utilisations</th>\n",
       "    </tr>\n",
       "  </thead>\n",
       "  <tbody>\n",
       "    <tr>\n",
       "      <th>Proportion(en %)</th>\n",
       "      <td>13.24</td>\n",
       "      <td>49.51</td>\n",
       "      <td>4.61</td>\n",
       "      <td>1.57</td>\n",
       "      <td>22.38</td>\n",
       "      <td>8.78</td>\n",
       "    </tr>\n",
       "  </tbody>\n",
       "</table>\n",
       "</div>"
      ],
      "text/plain": [
       "                  Aliments pour animaux  Nourriture  Pertes  Semences  \\\n",
       "Proportion(en %)                  13.24       49.51    4.61      1.57   \n",
       "\n",
       "                  Traitement  Autres Utilisations  \n",
       "Proportion(en %)       22.38                 8.78  "
      ]
     },
     "execution_count": 98,
     "metadata": {},
     "output_type": "execute_result"
    }
   ],
   "source": [
    "# convertir en dataframe\n",
    "df_proportion = pd.DataFrame([proportion], index = [\"Proportion(en %)\"])\n",
    "df_proportion "
   ]
  },
  {
   "cell_type": "code",
   "execution_count": 99,
   "id": "e7bfb500-ad93-4825-886f-7a0328b1f0e9",
   "metadata": {},
   "outputs": [
    {
     "data": {
      "text/html": [
       "<div>\n",
       "<style scoped>\n",
       "    .dataframe tbody tr th:only-of-type {\n",
       "        vertical-align: middle;\n",
       "    }\n",
       "\n",
       "    .dataframe tbody tr th {\n",
       "        vertical-align: top;\n",
       "    }\n",
       "\n",
       "    .dataframe thead th {\n",
       "        text-align: right;\n",
       "    }\n",
       "</style>\n",
       "<table border=\"1\" class=\"dataframe\">\n",
       "  <thead>\n",
       "    <tr style=\"text-align: right;\">\n",
       "      <th></th>\n",
       "      <th>Total(en tonne)</th>\n",
       "      <th>Proportion(en %)</th>\n",
       "    </tr>\n",
       "  </thead>\n",
       "  <tbody>\n",
       "    <tr>\n",
       "      <th>Nourriture</th>\n",
       "      <td>4876258.0</td>\n",
       "      <td>49.51</td>\n",
       "    </tr>\n",
       "    <tr>\n",
       "      <th>Traitement</th>\n",
       "      <td>2204687.0</td>\n",
       "      <td>22.38</td>\n",
       "    </tr>\n",
       "    <tr>\n",
       "      <th>Aliments pour animaux</th>\n",
       "      <td>1304245.0</td>\n",
       "      <td>13.24</td>\n",
       "    </tr>\n",
       "    <tr>\n",
       "      <th>Autres Utilisations</th>\n",
       "      <td>865023.0</td>\n",
       "      <td>8.78</td>\n",
       "    </tr>\n",
       "    <tr>\n",
       "      <th>Pertes</th>\n",
       "      <td>453698.0</td>\n",
       "      <td>4.61</td>\n",
       "    </tr>\n",
       "    <tr>\n",
       "      <th>Semences</th>\n",
       "      <td>154681.0</td>\n",
       "      <td>1.57</td>\n",
       "    </tr>\n",
       "  </tbody>\n",
       "</table>\n",
       "</div>"
      ],
      "text/plain": [
       "                       Total(en tonne)  Proportion(en %)\n",
       "Nourriture                   4876258.0             49.51\n",
       "Traitement                   2204687.0             22.38\n",
       "Aliments pour animaux        1304245.0             13.24\n",
       "Autres Utilisations           865023.0              8.78\n",
       "Pertes                        453698.0              4.61\n",
       "Semences                      154681.0              1.57"
      ]
     },
     "execution_count": 99,
     "metadata": {},
     "output_type": "execute_result"
    }
   ],
   "source": [
    "# Concaténer les deux dataframes \n",
    "df_disp_prop_2017 = pd.concat([df_dispo_int,df_proportion]).T.sort_values(by=\"Proportion(en %)\",ascending=False)\n",
    "df_disp_prop_2017"
   ]
  },
  {
   "cell_type": "code",
   "execution_count": 100,
   "id": "21ad86b1-6307-4bb6-9eee-597ffd6cabc8",
   "metadata": {},
   "outputs": [
    {
     "data": {
      "text/plain": [
       "'plt.figure(figsize = (12,5))\\nlabels = [\"Aliments pour animaux\", \"Nourriture\",\"Pertes\", \"Semences\", \"Traitement\", \"Autres Utilisations\"]\\ndf_disp_prop_2017[\"Proportion(en %)\"].plot.pie(labels = labels, colors = [\"c\", \"g\", \"y\", \"m\",\"r\", \"b\"], autopct = \"%1.2f%%\")\\nplt.title(\"Disponibilité intérieure en 2017\")\\nplt.legend(bbox_to_anchor=(1, 0, 0.5, 1))\\n#plt.tight_layout()\\nplt.show()'"
      ]
     },
     "execution_count": 100,
     "metadata": {},
     "output_type": "execute_result"
    }
   ],
   "source": [
    "\"\"\"plt.figure(figsize = (12,5))\n",
    "labels = [\"Aliments pour animaux\", \"Nourriture\",\"Pertes\", \"Semences\", \"Traitement\", \"Autres Utilisations\"]\n",
    "df_disp_prop_2017[\"Proportion(en %)\"].plot.pie(labels = labels, colors = [\"c\", \"g\", \"y\", \"m\",\"r\", \"b\"], autopct = \"%1.2f%%\")\n",
    "plt.title(\"Disponibilité intérieure en 2017\")\n",
    "plt.legend(bbox_to_anchor=(1, 0, 0.5, 1))\n",
    "#plt.tight_layout()\n",
    "plt.show()\"\"\""
   ]
  },
  {
   "cell_type": "code",
   "execution_count": 101,
   "id": "f2c9a0ce-165d-4d55-bddc-a4ab675a0b4a",
   "metadata": {},
   "outputs": [
    {
     "data": {
      "image/png": "[encoded data removed]",
      "text/plain": [
       "<Figure size 1500x700 with 1 Axes>"
      ]
     },
     "metadata": {},
     "output_type": "display_data"
    }
   ],
   "source": [
    "# visualisation des produits\n",
    "plt.figure(figsize = (15,7))\n",
    "plt.rcParams.update({ \"font.size\" : 10})\n",
    "labels = [\"Nourriture\", \"Traitement\", \"Aliments pour animaux\", \"Autres Utilisations\", \"Pertes\", \"Semences\"]\n",
    "plt.pie(df_disp_prop_2017[\"Proportion(en %)\"], labels = labels, colors = [\"c\", \"g\", \"y\", \"m\",\"r\", \"b\"],\n",
    "        normalize = True,\n",
    "        #explode = [0, 0, 0.2, 0],\n",
    "        autopct = \"%1.1f%%\")\n",
    "plt.title(\"Disponibilité intérieure en 2017\")\n",
    "plt.legend(bbox_to_anchor=(1, 0, 0.5, 1))\n",
    "plt.show()"
   ]
  },
  {
   "cell_type": "markdown",
   "id": "30a380d5-d8cc-4c77-b440-8c1386c93084",
   "metadata": {},
   "source": [
    "# 5. Demandes de Mélanie"
   ]
  },
  {
   "cell_type": "markdown",
   "id": "d085d41d-91a2-4974-9829-b8734a086d0f",
   "metadata": {},
   "source": [
    " ### 5.1 Les pays pour lesquels la proportion de personnes sous-alimentées est la plus forte en 2017;"
   ]
  },
  {
   "cell_type": "markdown",
   "id": "a26d0e53-ddbd-4abd-8f21-53f3a219112f",
   "metadata": {},
   "source": [
    "* Nous allons à nouveau utiliser les deux DataFrames \"Population\" et \"Sous_nutrition\" qu'on avait faire la jointure pour trouver la proportion des personnes sous-alimentées"
   ]
  },
  {
   "cell_type": "code",
   "execution_count": 102,
   "id": "70363568-d3ff-4fe6-b742-bec37a7f0295",
   "metadata": {},
   "outputs": [
    {
     "data": {
      "text/html": [
       "<div>\n",
       "<style scoped>\n",
       "    .dataframe tbody tr th:only-of-type {\n",
       "        vertical-align: middle;\n",
       "    }\n",
       "\n",
       "    .dataframe tbody tr th {\n",
       "        vertical-align: top;\n",
       "    }\n",
       "\n",
       "    .dataframe thead th {\n",
       "        text-align: right;\n",
       "    }\n",
       "</style>\n",
       "<table border=\"1\" class=\"dataframe\">\n",
       "  <thead>\n",
       "    <tr style=\"text-align: right;\">\n",
       "      <th></th>\n",
       "      <th>Zone</th>\n",
       "      <th>Année</th>\n",
       "      <th>Nbre habitant</th>\n",
       "      <th>Personne en sous-alimentation</th>\n",
       "    </tr>\n",
       "  </thead>\n",
       "  <tbody>\n",
       "    <tr>\n",
       "      <th>0</th>\n",
       "      <td>Afghanistan</td>\n",
       "      <td>2017</td>\n",
       "      <td>36296113.0</td>\n",
       "      <td>10500000.0</td>\n",
       "    </tr>\n",
       "    <tr>\n",
       "      <th>1</th>\n",
       "      <td>Afrique du Sud</td>\n",
       "      <td>2017</td>\n",
       "      <td>57009756.0</td>\n",
       "      <td>3100000.0</td>\n",
       "    </tr>\n",
       "    <tr>\n",
       "      <th>2</th>\n",
       "      <td>Albanie</td>\n",
       "      <td>2017</td>\n",
       "      <td>2884169.0</td>\n",
       "      <td>100000.0</td>\n",
       "    </tr>\n",
       "    <tr>\n",
       "      <th>3</th>\n",
       "      <td>Algérie</td>\n",
       "      <td>2017</td>\n",
       "      <td>41389189.0</td>\n",
       "      <td>1300000.0</td>\n",
       "    </tr>\n",
       "    <tr>\n",
       "      <th>4</th>\n",
       "      <td>Allemagne</td>\n",
       "      <td>2017</td>\n",
       "      <td>82658409.0</td>\n",
       "      <td>0.0</td>\n",
       "    </tr>\n",
       "  </tbody>\n",
       "</table>\n",
       "</div>"
      ],
      "text/plain": [
       "             Zone  Année  Nbre habitant  Personne en sous-alimentation\n",
       "0     Afghanistan   2017     36296113.0                     10500000.0\n",
       "1  Afrique du Sud   2017     57009756.0                      3100000.0\n",
       "2         Albanie   2017      2884169.0                       100000.0\n",
       "3         Algérie   2017     41389189.0                      1300000.0\n",
       "4       Allemagne   2017     82658409.0                            0.0"
      ]
     },
     "execution_count": 102,
     "metadata": {},
     "output_type": "execute_result"
    }
   ],
   "source": [
    "# afficher le dataframe\n",
    "df_pop_snutri.head(5)"
   ]
  },
  {
   "cell_type": "code",
   "execution_count": 103,
   "id": "74c02220-4d8f-43a3-bc77-fcb63d35bd3d",
   "metadata": {},
   "outputs": [
    {
     "data": {
      "text/plain": [
       "7548134111"
      ]
     },
     "execution_count": 103,
     "metadata": {},
     "output_type": "execute_result"
    }
   ],
   "source": [
    "# Population mondiale en 2017\n",
    "pop = round(sum(df_pop_snutri[\"Nbre habitant\"]))\n",
    "pop"
   ]
  },
  {
   "cell_type": "code",
   "execution_count": 104,
   "id": "e379e4ea-a8ff-476e-a8cc-cb969ca0721b",
   "metadata": {},
   "outputs": [
    {
     "data": {
      "text/plain": [
       "535700000"
      ]
     },
     "execution_count": 104,
     "metadata": {},
     "output_type": "execute_result"
    }
   ],
   "source": [
    "# Personnes en sous nutrition en 2017\n",
    "sous_nutri = round(sum(df_pop_snutri[\"Personne en sous-alimentation\"]))\n",
    "sous_nutri"
   ]
  },
  {
   "cell_type": "code",
   "execution_count": 105,
   "id": "42293e7c-e7a3-466a-9b9e-08a9c5627350",
   "metadata": {},
   "outputs": [
    {
     "data": {
      "text/plain": [
       "7.1"
      ]
     },
     "execution_count": 105,
     "metadata": {},
     "output_type": "execute_result"
    }
   ],
   "source": [
    "# Proportion des personnes en sous nutrition par rapport à la population mondiale en 2017\n",
    "prop = round((sous_nutri/pop)*100,2)\n",
    "prop"
   ]
  },
  {
   "cell_type": "markdown",
   "id": "c13fd4a3-d413-4ad8-95dd-5f0e133f7115",
   "metadata": {},
   "source": [
    "* On avait dèjà trouvé la population mondiale pour l'année 2017 ainsi que le nombre de personnes en sous nutrition pour cette même année.\n",
    "* Nous allons créer une nouvelle colonne qu'on va nommer \"Proportion\" pour calculer la proportion de personnes en sous alimentés pour chaque pays."
   ]
  },
  {
   "cell_type": "code",
   "execution_count": 106,
   "id": "84f33b63-47ef-4b6c-8d4d-f78adb148a19",
   "metadata": {},
   "outputs": [],
   "source": [
    "# fonction groupby\n",
    "#f_prop = df_pop_snutri.groupby([\"Zone\"])[\"Nbre habitant\",\"Personne en sous-alimentation\"].sum().sort_values(by=\"Personne en sous-alimentation\",ascending=False).reset_index()\n",
    "#f_prop.head(5)"
   ]
  },
  {
   "cell_type": "code",
   "execution_count": 107,
   "id": "604f094b-8905-4e89-b073-c33d5252c4bc",
   "metadata": {},
   "outputs": [
    {
     "data": {
      "text/plain": [
       "0      28.93\n",
       "1       5.44\n",
       "2       3.47\n",
       "3       3.14\n",
       "4       0.00\n",
       "       ...  \n",
       "231    27.21\n",
       "232     6.87\n",
       "233     0.00\n",
       "234     0.00\n",
       "235     0.00\n",
       "Name: Proportion (en %), Length: 236, dtype: float64"
      ]
     },
     "execution_count": 107,
     "metadata": {},
     "output_type": "execute_result"
    }
   ],
   "source": [
    "# proportion des personnes en sous-alimentation\n",
    "df_pop_snutri[\"Proportion (en %)\"] =  round((df_pop_snutri[\"Personne en sous-alimentation\"]/df_pop_snutri[\"Nbre habitant\"])*100,2)\n",
    "df_pop_snutri[\"Proportion (en %)\"]"
   ]
  },
  {
   "cell_type": "markdown",
   "id": "7fb849cb-20c1-4bb7-8df5-55d5ed75d78c",
   "metadata": {},
   "source": [
    "* Après avoir fait calculer cette proportion, nous allons afficher les résultats par ordre décroissant."
   ]
  },
  {
   "cell_type": "code",
   "execution_count": 108,
   "id": "f197cb76-8849-488f-b51d-d288e7e169a9",
   "metadata": {},
   "outputs": [
    {
     "data": {
      "text/html": [
       "<div>\n",
       "<style scoped>\n",
       "    .dataframe tbody tr th:only-of-type {\n",
       "        vertical-align: middle;\n",
       "    }\n",
       "\n",
       "    .dataframe tbody tr th {\n",
       "        vertical-align: top;\n",
       "    }\n",
       "\n",
       "    .dataframe thead th {\n",
       "        text-align: right;\n",
       "    }\n",
       "</style>\n",
       "<table border=\"1\" class=\"dataframe\">\n",
       "  <thead>\n",
       "    <tr style=\"text-align: right;\">\n",
       "      <th></th>\n",
       "      <th>Zone</th>\n",
       "      <th>Proportion (en %)</th>\n",
       "    </tr>\n",
       "  </thead>\n",
       "  <tbody>\n",
       "    <tr>\n",
       "      <th>87</th>\n",
       "      <td>Haïti</td>\n",
       "      <td>48.26</td>\n",
       "    </tr>\n",
       "    <tr>\n",
       "      <th>181</th>\n",
       "      <td>République populaire démocratique de Corée</td>\n",
       "      <td>47.19</td>\n",
       "    </tr>\n",
       "    <tr>\n",
       "      <th>128</th>\n",
       "      <td>Madagascar</td>\n",
       "      <td>41.06</td>\n",
       "    </tr>\n",
       "    <tr>\n",
       "      <th>122</th>\n",
       "      <td>Libéria</td>\n",
       "      <td>38.28</td>\n",
       "    </tr>\n",
       "    <tr>\n",
       "      <th>119</th>\n",
       "      <td>Lesotho</td>\n",
       "      <td>38.25</td>\n",
       "    </tr>\n",
       "    <tr>\n",
       "      <th>216</th>\n",
       "      <td>Tchad</td>\n",
       "      <td>37.96</td>\n",
       "    </tr>\n",
       "    <tr>\n",
       "      <th>186</th>\n",
       "      <td>Rwanda</td>\n",
       "      <td>35.06</td>\n",
       "    </tr>\n",
       "    <tr>\n",
       "      <th>145</th>\n",
       "      <td>Mozambique</td>\n",
       "      <td>32.81</td>\n",
       "    </tr>\n",
       "    <tr>\n",
       "      <th>219</th>\n",
       "      <td>Timor-Leste</td>\n",
       "      <td>32.17</td>\n",
       "    </tr>\n",
       "    <tr>\n",
       "      <th>0</th>\n",
       "      <td>Afghanistan</td>\n",
       "      <td>28.93</td>\n",
       "    </tr>\n",
       "  </tbody>\n",
       "</table>\n",
       "</div>"
      ],
      "text/plain": [
       "                                           Zone  Proportion (en %)\n",
       "87                                        Haïti              48.26\n",
       "181  République populaire démocratique de Corée              47.19\n",
       "128                                  Madagascar              41.06\n",
       "122                                     Libéria              38.28\n",
       "119                                     Lesotho              38.25\n",
       "216                                       Tchad              37.96\n",
       "186                                      Rwanda              35.06\n",
       "145                                  Mozambique              32.81\n",
       "219                                 Timor-Leste              32.17\n",
       "0                                   Afghanistan              28.93"
      ]
     },
     "execution_count": 108,
     "metadata": {},
     "output_type": "execute_result"
    }
   ],
   "source": [
    "# # proportion des personnes en sous-alimentation \n",
    "f_prop = df_pop_snutri[[\"Zone\",\"Proportion (en %)\"]].sort_values(by=\"Proportion (en %)\",ascending=False)\n",
    "f_prop.head(10)"
   ]
  },
  {
   "cell_type": "code",
   "execution_count": 109,
   "id": "933bdcbd-c232-4c7c-b9ea-42175c7056e5",
   "metadata": {},
   "outputs": [
    {
     "data": {
      "image/png": "[encoded data removed]",
      "text/plain": [
       "<Figure size 1000x500 with 1 Axes>"
      ]
     },
     "metadata": {},
     "output_type": "display_data"
    }
   ],
   "source": [
    "# Visualisation\n",
    "plt.figure(figsize=(10, 5))\n",
    "A = f_prop[f_prop[\"Proportion (en %)\"] >= 28.93]\n",
    "sns.barplot(x = A[\"Proportion (en %)\"], y = A[\"Zone\"], data = A, palette=\"Set2\")\n",
    "plt.title(\"Proportion des pays en sous nutrition pour l'année 2017\", fontsize = \"15\") \n",
    "plt.show()"
   ]
  },
  {
   "cell_type": "markdown",
   "id": "4bf45f72-8554-492d-900f-d023e62384b5",
   "metadata": {},
   "source": [
    "### 5.2 la proportion de personnes sous-alimentées des pays qui ont le plus bénéficié d’aide depuis 2013;"
   ]
  },
  {
   "cell_type": "markdown",
   "id": "94b061e2-3152-42f5-b7c4-513cbe500ade",
   "metadata": {},
   "source": [
    "* Nous allons nous interesser au dataframe  \"aide-alimentaire\".\n",
    "* Pour celà nous allons seulement les lignes où l'année est supérieure ou égale à 2013"
   ]
  },
  {
   "cell_type": "code",
   "execution_count": 110,
   "id": "a8acb1ea-e9fa-4892-9d28-e357034b6537",
   "metadata": {},
   "outputs": [
    {
     "data": {
      "text/html": [
       "<div>\n",
       "<style scoped>\n",
       "    .dataframe tbody tr th:only-of-type {\n",
       "        vertical-align: middle;\n",
       "    }\n",
       "\n",
       "    .dataframe tbody tr th {\n",
       "        vertical-align: top;\n",
       "    }\n",
       "\n",
       "    .dataframe thead th {\n",
       "        text-align: right;\n",
       "    }\n",
       "</style>\n",
       "<table border=\"1\" class=\"dataframe\">\n",
       "  <thead>\n",
       "    <tr style=\"text-align: right;\">\n",
       "      <th></th>\n",
       "      <th>Zone</th>\n",
       "      <th>Année</th>\n",
       "      <th>Produit</th>\n",
       "      <th>Quantité aide alimentaire</th>\n",
       "    </tr>\n",
       "  </thead>\n",
       "  <tbody>\n",
       "    <tr>\n",
       "      <th>0</th>\n",
       "      <td>Afghanistan</td>\n",
       "      <td>2013</td>\n",
       "      <td>Autres non-céréales</td>\n",
       "      <td>682000</td>\n",
       "    </tr>\n",
       "    <tr>\n",
       "      <th>1</th>\n",
       "      <td>Afghanistan</td>\n",
       "      <td>2014</td>\n",
       "      <td>Autres non-céréales</td>\n",
       "      <td>335000</td>\n",
       "    </tr>\n",
       "    <tr>\n",
       "      <th>2</th>\n",
       "      <td>Afghanistan</td>\n",
       "      <td>2013</td>\n",
       "      <td>Blé et Farin</td>\n",
       "      <td>39224000</td>\n",
       "    </tr>\n",
       "    <tr>\n",
       "      <th>3</th>\n",
       "      <td>Afghanistan</td>\n",
       "      <td>2014</td>\n",
       "      <td>Blé et Farin</td>\n",
       "      <td>15160000</td>\n",
       "    </tr>\n",
       "    <tr>\n",
       "      <th>4</th>\n",
       "      <td>Afghanistan</td>\n",
       "      <td>2013</td>\n",
       "      <td>Céréales</td>\n",
       "      <td>40504000</td>\n",
       "    </tr>\n",
       "  </tbody>\n",
       "</table>\n",
       "</div>"
      ],
      "text/plain": [
       "          Zone  Année              Produit  Quantité aide alimentaire\n",
       "0  Afghanistan   2013  Autres non-céréales                     682000\n",
       "1  Afghanistan   2014  Autres non-céréales                     335000\n",
       "2  Afghanistan   2013         Blé et Farin                   39224000\n",
       "3  Afghanistan   2014         Blé et Farin                   15160000\n",
       "4  Afghanistan   2013             Céréales                   40504000"
      ]
     },
     "execution_count": 110,
     "metadata": {},
     "output_type": "execute_result"
    }
   ],
   "source": [
    "# dataframe aide alimentaire\n",
    "data_aide.head(5)"
   ]
  },
  {
   "cell_type": "code",
   "execution_count": 111,
   "id": "28c6cc5d-d9d7-4f2f-a15a-715a5c7af906",
   "metadata": {},
   "outputs": [
    {
     "data": {
      "text/html": [
       "<div>\n",
       "<style scoped>\n",
       "    .dataframe tbody tr th:only-of-type {\n",
       "        vertical-align: middle;\n",
       "    }\n",
       "\n",
       "    .dataframe tbody tr th {\n",
       "        vertical-align: top;\n",
       "    }\n",
       "\n",
       "    .dataframe thead th {\n",
       "        text-align: right;\n",
       "    }\n",
       "</style>\n",
       "<table border=\"1\" class=\"dataframe\">\n",
       "  <thead>\n",
       "    <tr style=\"text-align: right;\">\n",
       "      <th></th>\n",
       "      <th>Zone</th>\n",
       "      <th>Année</th>\n",
       "      <th>Produit</th>\n",
       "      <th>Quantité aide alimentaire</th>\n",
       "    </tr>\n",
       "  </thead>\n",
       "  <tbody>\n",
       "    <tr>\n",
       "      <th>0</th>\n",
       "      <td>Afghanistan</td>\n",
       "      <td>2013</td>\n",
       "      <td>Autres non-céréales</td>\n",
       "      <td>682000</td>\n",
       "    </tr>\n",
       "    <tr>\n",
       "      <th>1</th>\n",
       "      <td>Afghanistan</td>\n",
       "      <td>2014</td>\n",
       "      <td>Autres non-céréales</td>\n",
       "      <td>335000</td>\n",
       "    </tr>\n",
       "    <tr>\n",
       "      <th>2</th>\n",
       "      <td>Afghanistan</td>\n",
       "      <td>2013</td>\n",
       "      <td>Blé et Farin</td>\n",
       "      <td>39224000</td>\n",
       "    </tr>\n",
       "    <tr>\n",
       "      <th>3</th>\n",
       "      <td>Afghanistan</td>\n",
       "      <td>2014</td>\n",
       "      <td>Blé et Farin</td>\n",
       "      <td>15160000</td>\n",
       "    </tr>\n",
       "    <tr>\n",
       "      <th>4</th>\n",
       "      <td>Afghanistan</td>\n",
       "      <td>2013</td>\n",
       "      <td>Céréales</td>\n",
       "      <td>40504000</td>\n",
       "    </tr>\n",
       "  </tbody>\n",
       "</table>\n",
       "</div>"
      ],
      "text/plain": [
       "          Zone  Année              Produit  Quantité aide alimentaire\n",
       "0  Afghanistan   2013  Autres non-céréales                     682000\n",
       "1  Afghanistan   2014  Autres non-céréales                     335000\n",
       "2  Afghanistan   2013         Blé et Farin                   39224000\n",
       "3  Afghanistan   2014         Blé et Farin                   15160000\n",
       "4  Afghanistan   2013             Céréales                   40504000"
      ]
     },
     "execution_count": 111,
     "metadata": {},
     "output_type": "execute_result"
    }
   ],
   "source": [
    "# Créer un mask\n",
    "df_aide_2013 = data_aide[data_aide[\"Année\"] >= 2013]\n",
    "df_aide_2013.head(5)"
   ]
  },
  {
   "cell_type": "markdown",
   "id": "67eea3e3-ebf8-4621-ae8f-4ec6ffa1043a",
   "metadata": {},
   "source": [
    "* Nous allons utiliser la fonction groupby pour calculer la somme de la quantité d'aide alimentaire par pays"
   ]
  },
  {
   "cell_type": "code",
   "execution_count": 112,
   "id": "91d1bb0f-92e0-44e8-a878-c87e69b2f49e",
   "metadata": {},
   "outputs": [
    {
     "data": {
      "text/html": [
       "<div>\n",
       "<style scoped>\n",
       "    .dataframe tbody tr th:only-of-type {\n",
       "        vertical-align: middle;\n",
       "    }\n",
       "\n",
       "    .dataframe tbody tr th {\n",
       "        vertical-align: top;\n",
       "    }\n",
       "\n",
       "    .dataframe thead th {\n",
       "        text-align: right;\n",
       "    }\n",
       "</style>\n",
       "<table border=\"1\" class=\"dataframe\">\n",
       "  <thead>\n",
       "    <tr style=\"text-align: right;\">\n",
       "      <th></th>\n",
       "      <th>Zone</th>\n",
       "      <th>Quantité aide alimentaire</th>\n",
       "    </tr>\n",
       "  </thead>\n",
       "  <tbody>\n",
       "    <tr>\n",
       "      <th>0</th>\n",
       "      <td>République arabe syrienne</td>\n",
       "      <td>1858943000</td>\n",
       "    </tr>\n",
       "    <tr>\n",
       "      <th>1</th>\n",
       "      <td>Éthiopie</td>\n",
       "      <td>1381294000</td>\n",
       "    </tr>\n",
       "    <tr>\n",
       "      <th>2</th>\n",
       "      <td>Yémen</td>\n",
       "      <td>1206484000</td>\n",
       "    </tr>\n",
       "    <tr>\n",
       "      <th>3</th>\n",
       "      <td>Soudan du Sud</td>\n",
       "      <td>695248000</td>\n",
       "    </tr>\n",
       "    <tr>\n",
       "      <th>4</th>\n",
       "      <td>Soudan</td>\n",
       "      <td>669784000</td>\n",
       "    </tr>\n",
       "    <tr>\n",
       "      <th>5</th>\n",
       "      <td>Kenya</td>\n",
       "      <td>552836000</td>\n",
       "    </tr>\n",
       "    <tr>\n",
       "      <th>6</th>\n",
       "      <td>Bangladesh</td>\n",
       "      <td>348188000</td>\n",
       "    </tr>\n",
       "    <tr>\n",
       "      <th>7</th>\n",
       "      <td>Somalie</td>\n",
       "      <td>292678000</td>\n",
       "    </tr>\n",
       "    <tr>\n",
       "      <th>8</th>\n",
       "      <td>République démocratique du Congo</td>\n",
       "      <td>288502000</td>\n",
       "    </tr>\n",
       "    <tr>\n",
       "      <th>9</th>\n",
       "      <td>Niger</td>\n",
       "      <td>276344000</td>\n",
       "    </tr>\n",
       "  </tbody>\n",
       "</table>\n",
       "</div>"
      ],
      "text/plain": [
       "                               Zone  Quantité aide alimentaire\n",
       "0         République arabe syrienne                 1858943000\n",
       "1                          Éthiopie                 1381294000\n",
       "2                             Yémen                 1206484000\n",
       "3                     Soudan du Sud                  695248000\n",
       "4                            Soudan                  669784000\n",
       "5                             Kenya                  552836000\n",
       "6                        Bangladesh                  348188000\n",
       "7                           Somalie                  292678000\n",
       "8  République démocratique du Congo                  288502000\n",
       "9                             Niger                  276344000"
      ]
     },
     "execution_count": 112,
     "metadata": {},
     "output_type": "execute_result"
    }
   ],
   "source": [
    "# fonction groupby\n",
    "f_prop_aide = df_aide_2013.groupby([\"Zone\"])[\"Quantité aide alimentaire\"].sum().sort_values(ascending=False).reset_index()\n",
    "f_prop_aide.head(10)"
   ]
  },
  {
   "cell_type": "code",
   "execution_count": 113,
   "id": "3a8be601-fa08-4af6-b006-5c044098cf5d",
   "metadata": {},
   "outputs": [
    {
     "data": {
      "image/png": "[encoded data removed]",
      "text/plain": [
       "<Figure size 1000x500 with 1 Axes>"
      ]
     },
     "metadata": {},
     "output_type": "display_data"
    }
   ],
   "source": [
    "# Visualisation\n",
    "plt.figure(figsize=(10, 5))\n",
    "B = f_prop_aide[f_prop_aide[\"Quantité aide alimentaire\"] >= 276344000]\n",
    "sns.barplot(x = B[\"Quantité aide alimentaire\"], y = B[\"Zone\"], data = B)\n",
    "plt.title(\"Pays en sous nutrition avec plus d'aide depuis 2013\", fontsize = \"15\")\n",
    "plt.show()"
   ]
  },
  {
   "cell_type": "markdown",
   "id": "aaae929c-f7a0-49f3-bee9-48e5ac6d2732",
   "metadata": {},
   "source": [
    "### 5.3 Les pays ayant le plus de disponibilité/habitant"
   ]
  },
  {
   "cell_type": "markdown",
   "id": "ba3a8fe7-ec82-4583-bd0d-7a85c14f60df",
   "metadata": {},
   "source": [
    "* Nous allons utiliser le dataframe du nombre de personnes qui pourraient être nourries en 2017 c'est à dire celle obtenu après jointure de la \"disponibilité alimentaire\" et \"population\"."
   ]
  },
  {
   "cell_type": "code",
   "execution_count": 114,
   "id": "b66ed623-6d4f-4715-8c86-678035f98c3e",
   "metadata": {},
   "outputs": [
    {
     "data": {
      "text/html": [
       "<div>\n",
       "<style scoped>\n",
       "    .dataframe tbody tr th:only-of-type {\n",
       "        vertical-align: middle;\n",
       "    }\n",
       "\n",
       "    .dataframe tbody tr th {\n",
       "        vertical-align: top;\n",
       "    }\n",
       "\n",
       "    .dataframe thead th {\n",
       "        text-align: right;\n",
       "    }\n",
       "</style>\n",
       "<table border=\"1\" class=\"dataframe\">\n",
       "  <thead>\n",
       "    <tr style=\"text-align: right;\">\n",
       "      <th></th>\n",
       "      <th>Zone</th>\n",
       "      <th>Produit</th>\n",
       "      <th>Origine</th>\n",
       "      <th>Aliments pour animaux</th>\n",
       "      <th>Autres Utilisations</th>\n",
       "      <th>Disponibilité alimentaire (Kcal/personne/jour)</th>\n",
       "      <th>Disponibilité alimentaire en quantité (kg/personne/an)</th>\n",
       "      <th>Disponibilité de matière grasse en quantité (g/personne/jour)</th>\n",
       "      <th>Disponibilité de protéines en quantité (g/personne/jour)</th>\n",
       "      <th>Disponibilité intérieure</th>\n",
       "      <th>...</th>\n",
       "      <th>Importations - Quantité</th>\n",
       "      <th>Nourriture</th>\n",
       "      <th>Pertes</th>\n",
       "      <th>Production</th>\n",
       "      <th>Semences</th>\n",
       "      <th>Traitement</th>\n",
       "      <th>Variation de stock</th>\n",
       "      <th>Année</th>\n",
       "      <th>Nbre habitant</th>\n",
       "      <th>Dispo_alim_pop (Kcal/jour/pop)</th>\n",
       "    </tr>\n",
       "  </thead>\n",
       "  <tbody>\n",
       "    <tr>\n",
       "      <th>0</th>\n",
       "      <td>Afghanistan</td>\n",
       "      <td>Abats Comestible</td>\n",
       "      <td>animale</td>\n",
       "      <td>0.0</td>\n",
       "      <td>0.0</td>\n",
       "      <td>5.0</td>\n",
       "      <td>1.72</td>\n",
       "      <td>0.20</td>\n",
       "      <td>0.77</td>\n",
       "      <td>53000000.0</td>\n",
       "      <td>...</td>\n",
       "      <td>0.0</td>\n",
       "      <td>53000000.0</td>\n",
       "      <td>0.0</td>\n",
       "      <td>53000000.0</td>\n",
       "      <td>0.0</td>\n",
       "      <td>0.0</td>\n",
       "      <td>0.0</td>\n",
       "      <td>2017</td>\n",
       "      <td>36296113.0</td>\n",
       "      <td>181480565.0</td>\n",
       "    </tr>\n",
       "    <tr>\n",
       "      <th>1</th>\n",
       "      <td>Afghanistan</td>\n",
       "      <td>Agrumes, Autres</td>\n",
       "      <td>vegetale</td>\n",
       "      <td>0.0</td>\n",
       "      <td>0.0</td>\n",
       "      <td>1.0</td>\n",
       "      <td>1.29</td>\n",
       "      <td>0.01</td>\n",
       "      <td>0.02</td>\n",
       "      <td>41000000.0</td>\n",
       "      <td>...</td>\n",
       "      <td>40000000.0</td>\n",
       "      <td>39000000.0</td>\n",
       "      <td>2000000.0</td>\n",
       "      <td>3000000.0</td>\n",
       "      <td>0.0</td>\n",
       "      <td>0.0</td>\n",
       "      <td>0.0</td>\n",
       "      <td>2017</td>\n",
       "      <td>36296113.0</td>\n",
       "      <td>36296113.0</td>\n",
       "    </tr>\n",
       "    <tr>\n",
       "      <th>2</th>\n",
       "      <td>Afghanistan</td>\n",
       "      <td>Aliments pour enfants</td>\n",
       "      <td>vegetale</td>\n",
       "      <td>0.0</td>\n",
       "      <td>0.0</td>\n",
       "      <td>1.0</td>\n",
       "      <td>0.06</td>\n",
       "      <td>0.01</td>\n",
       "      <td>0.03</td>\n",
       "      <td>2000000.0</td>\n",
       "      <td>...</td>\n",
       "      <td>2000000.0</td>\n",
       "      <td>2000000.0</td>\n",
       "      <td>0.0</td>\n",
       "      <td>0.0</td>\n",
       "      <td>0.0</td>\n",
       "      <td>0.0</td>\n",
       "      <td>0.0</td>\n",
       "      <td>2017</td>\n",
       "      <td>36296113.0</td>\n",
       "      <td>36296113.0</td>\n",
       "    </tr>\n",
       "    <tr>\n",
       "      <th>3</th>\n",
       "      <td>Afghanistan</td>\n",
       "      <td>Ananas</td>\n",
       "      <td>vegetale</td>\n",
       "      <td>0.0</td>\n",
       "      <td>0.0</td>\n",
       "      <td>0.0</td>\n",
       "      <td>0.00</td>\n",
       "      <td>0.00</td>\n",
       "      <td>0.00</td>\n",
       "      <td>0.0</td>\n",
       "      <td>...</td>\n",
       "      <td>0.0</td>\n",
       "      <td>0.0</td>\n",
       "      <td>0.0</td>\n",
       "      <td>0.0</td>\n",
       "      <td>0.0</td>\n",
       "      <td>0.0</td>\n",
       "      <td>0.0</td>\n",
       "      <td>2017</td>\n",
       "      <td>36296113.0</td>\n",
       "      <td>0.0</td>\n",
       "    </tr>\n",
       "    <tr>\n",
       "      <th>4</th>\n",
       "      <td>Afghanistan</td>\n",
       "      <td>Bananes</td>\n",
       "      <td>vegetale</td>\n",
       "      <td>0.0</td>\n",
       "      <td>0.0</td>\n",
       "      <td>4.0</td>\n",
       "      <td>2.70</td>\n",
       "      <td>0.02</td>\n",
       "      <td>0.05</td>\n",
       "      <td>82000000.0</td>\n",
       "      <td>...</td>\n",
       "      <td>82000000.0</td>\n",
       "      <td>82000000.0</td>\n",
       "      <td>0.0</td>\n",
       "      <td>0.0</td>\n",
       "      <td>0.0</td>\n",
       "      <td>0.0</td>\n",
       "      <td>0.0</td>\n",
       "      <td>2017</td>\n",
       "      <td>36296113.0</td>\n",
       "      <td>145184452.0</td>\n",
       "    </tr>\n",
       "  </tbody>\n",
       "</table>\n",
       "<p>5 rows × 21 columns</p>\n",
       "</div>"
      ],
      "text/plain": [
       "          Zone                Produit   Origine  Aliments pour animaux  \\\n",
       "0  Afghanistan       Abats Comestible   animale                    0.0   \n",
       "1  Afghanistan        Agrumes, Autres  vegetale                    0.0   \n",
       "2  Afghanistan  Aliments pour enfants  vegetale                    0.0   \n",
       "3  Afghanistan                 Ananas  vegetale                    0.0   \n",
       "4  Afghanistan                Bananes  vegetale                    0.0   \n",
       "\n",
       "   Autres Utilisations  Disponibilité alimentaire (Kcal/personne/jour)  \\\n",
       "0                  0.0                                             5.0   \n",
       "1                  0.0                                             1.0   \n",
       "2                  0.0                                             1.0   \n",
       "3                  0.0                                             0.0   \n",
       "4                  0.0                                             4.0   \n",
       "\n",
       "   Disponibilité alimentaire en quantité (kg/personne/an)  \\\n",
       "0                                               1.72        \n",
       "1                                               1.29        \n",
       "2                                               0.06        \n",
       "3                                               0.00        \n",
       "4                                               2.70        \n",
       "\n",
       "   Disponibilité de matière grasse en quantité (g/personne/jour)  \\\n",
       "0                                               0.20               \n",
       "1                                               0.01               \n",
       "2                                               0.01               \n",
       "3                                               0.00               \n",
       "4                                               0.02               \n",
       "\n",
       "   Disponibilité de protéines en quantité (g/personne/jour)  \\\n",
       "0                                               0.77          \n",
       "1                                               0.02          \n",
       "2                                               0.03          \n",
       "3                                               0.00          \n",
       "4                                               0.05          \n",
       "\n",
       "   Disponibilité intérieure  ...  Importations - Quantité  Nourriture  \\\n",
       "0                53000000.0  ...                      0.0  53000000.0   \n",
       "1                41000000.0  ...               40000000.0  39000000.0   \n",
       "2                 2000000.0  ...                2000000.0   2000000.0   \n",
       "3                       0.0  ...                      0.0         0.0   \n",
       "4                82000000.0  ...               82000000.0  82000000.0   \n",
       "\n",
       "      Pertes  Production  Semences  Traitement  Variation de stock  Année  \\\n",
       "0        0.0  53000000.0       0.0         0.0                 0.0   2017   \n",
       "1  2000000.0   3000000.0       0.0         0.0                 0.0   2017   \n",
       "2        0.0         0.0       0.0         0.0                 0.0   2017   \n",
       "3        0.0         0.0       0.0         0.0                 0.0   2017   \n",
       "4        0.0         0.0       0.0         0.0                 0.0   2017   \n",
       "\n",
       "   Nbre habitant  Dispo_alim_pop (Kcal/jour/pop)  \n",
       "0     36296113.0                     181480565.0  \n",
       "1     36296113.0                      36296113.0  \n",
       "2     36296113.0                      36296113.0  \n",
       "3     36296113.0                             0.0  \n",
       "4     36296113.0                     145184452.0  \n",
       "\n",
       "[5 rows x 21 columns]"
      ]
     },
     "execution_count": 114,
     "metadata": {},
     "output_type": "execute_result"
    }
   ],
   "source": [
    "nb_pers_nourr_2017.head(5)"
   ]
  },
  {
   "cell_type": "code",
   "execution_count": 115,
   "id": "c3355986-c159-40ab-b751-dcf821b6a310",
   "metadata": {},
   "outputs": [
    {
     "data": {
      "text/html": [
       "<div>\n",
       "<style scoped>\n",
       "    .dataframe tbody tr th:only-of-type {\n",
       "        vertical-align: middle;\n",
       "    }\n",
       "\n",
       "    .dataframe tbody tr th {\n",
       "        vertical-align: top;\n",
       "    }\n",
       "\n",
       "    .dataframe thead th {\n",
       "        text-align: right;\n",
       "    }\n",
       "</style>\n",
       "<table border=\"1\" class=\"dataframe\">\n",
       "  <thead>\n",
       "    <tr style=\"text-align: right;\">\n",
       "      <th></th>\n",
       "      <th>Zone</th>\n",
       "      <th>Disponibilité alimentaire (Kcal/personne/jour)</th>\n",
       "    </tr>\n",
       "  </thead>\n",
       "  <tbody>\n",
       "    <tr>\n",
       "      <th>0</th>\n",
       "      <td>Autriche</td>\n",
       "      <td>3770.0</td>\n",
       "    </tr>\n",
       "    <tr>\n",
       "      <th>1</th>\n",
       "      <td>Belgique</td>\n",
       "      <td>3737.0</td>\n",
       "    </tr>\n",
       "    <tr>\n",
       "      <th>2</th>\n",
       "      <td>Turquie</td>\n",
       "      <td>3708.0</td>\n",
       "    </tr>\n",
       "    <tr>\n",
       "      <th>3</th>\n",
       "      <td>États-Unis d'Amérique</td>\n",
       "      <td>3682.0</td>\n",
       "    </tr>\n",
       "    <tr>\n",
       "      <th>4</th>\n",
       "      <td>Israël</td>\n",
       "      <td>3610.0</td>\n",
       "    </tr>\n",
       "    <tr>\n",
       "      <th>5</th>\n",
       "      <td>Irlande</td>\n",
       "      <td>3602.0</td>\n",
       "    </tr>\n",
       "    <tr>\n",
       "      <th>6</th>\n",
       "      <td>Italie</td>\n",
       "      <td>3578.0</td>\n",
       "    </tr>\n",
       "    <tr>\n",
       "      <th>7</th>\n",
       "      <td>Luxembourg</td>\n",
       "      <td>3540.0</td>\n",
       "    </tr>\n",
       "    <tr>\n",
       "      <th>8</th>\n",
       "      <td>Égypte</td>\n",
       "      <td>3518.0</td>\n",
       "    </tr>\n",
       "    <tr>\n",
       "      <th>9</th>\n",
       "      <td>Allemagne</td>\n",
       "      <td>3503.0</td>\n",
       "    </tr>\n",
       "  </tbody>\n",
       "</table>\n",
       "</div>"
      ],
      "text/plain": [
       "                    Zone  Disponibilité alimentaire (Kcal/personne/jour)\n",
       "0               Autriche                                          3770.0\n",
       "1               Belgique                                          3737.0\n",
       "2                Turquie                                          3708.0\n",
       "3  États-Unis d'Amérique                                          3682.0\n",
       "4                 Israël                                          3610.0\n",
       "5                Irlande                                          3602.0\n",
       "6                 Italie                                          3578.0\n",
       "7             Luxembourg                                          3540.0\n",
       "8                 Égypte                                          3518.0\n",
       "9              Allemagne                                          3503.0"
      ]
     },
     "execution_count": 115,
     "metadata": {},
     "output_type": "execute_result"
    }
   ],
   "source": [
    "# Pays avec le plus de disponibité alimentaire\n",
    "plus_dispo = nb_pers_nourr_2017.groupby([\"Zone\"])[\"Disponibilité alimentaire (Kcal/personne/jour)\"].sum().sort_values(ascending=False).reset_index()\n",
    "plus_dispo.head(10)"
   ]
  },
  {
   "cell_type": "code",
   "execution_count": 116,
   "id": "6abc4de6-8395-4fd5-a120-8c910e237e09",
   "metadata": {},
   "outputs": [
    {
     "data": {
      "text/plain": [
       "(174, 2)"
      ]
     },
     "execution_count": 116,
     "metadata": {},
     "output_type": "execute_result"
    }
   ],
   "source": [
    "plus_dispo.shape"
   ]
  },
  {
   "cell_type": "code",
   "execution_count": 117,
   "id": "a9ee2fbd-6ad7-4d3d-909b-90c9ab734966",
   "metadata": {},
   "outputs": [
    {
     "data": {
      "image/png": "[encoded data removed]",
      "text/plain": [
       "<Figure size 1000x500 with 1 Axes>"
      ]
     },
     "metadata": {},
     "output_type": "display_data"
    }
   ],
   "source": [
    "# Visualisation\n",
    "plt.figure(figsize=(10, 5))\n",
    "C = plus_dispo[plus_dispo[\"Disponibilité alimentaire (Kcal/personne/jour)\"] >= 3503]\n",
    "sns.barplot(x = C[\"Disponibilité alimentaire (Kcal/personne/jour)\"], y = C[\"Zone\"], data = B, palette = \"husl\")\n",
    "plt.title(\"Pays avec le plus de disponibilité alimentaire\", fontsize = \"15\")\n",
    "plt.show()"
   ]
  },
  {
   "cell_type": "markdown",
   "id": "eebb5841-b59c-40b0-9598-9ad0c8fbbf31",
   "metadata": {},
   "source": [
    "### 5.3 Les pays ayant le moins de disponibilité/habitant"
   ]
  },
  {
   "cell_type": "code",
   "execution_count": 118,
   "id": "f12cb402-7e07-4b10-9ccd-d2885b5bd99b",
   "metadata": {},
   "outputs": [
    {
     "data": {
      "text/html": [
       "<div>\n",
       "<style scoped>\n",
       "    .dataframe tbody tr th:only-of-type {\n",
       "        vertical-align: middle;\n",
       "    }\n",
       "\n",
       "    .dataframe tbody tr th {\n",
       "        vertical-align: top;\n",
       "    }\n",
       "\n",
       "    .dataframe thead th {\n",
       "        text-align: right;\n",
       "    }\n",
       "</style>\n",
       "<table border=\"1\" class=\"dataframe\">\n",
       "  <thead>\n",
       "    <tr style=\"text-align: right;\">\n",
       "      <th></th>\n",
       "      <th>Zone</th>\n",
       "      <th>Disponibilité alimentaire (Kcal/personne/jour)</th>\n",
       "    </tr>\n",
       "  </thead>\n",
       "  <tbody>\n",
       "    <tr>\n",
       "      <th>0</th>\n",
       "      <td>République centrafricaine</td>\n",
       "      <td>1879.0</td>\n",
       "    </tr>\n",
       "    <tr>\n",
       "      <th>1</th>\n",
       "      <td>Zambie</td>\n",
       "      <td>1924.0</td>\n",
       "    </tr>\n",
       "    <tr>\n",
       "      <th>2</th>\n",
       "      <td>Madagascar</td>\n",
       "      <td>2056.0</td>\n",
       "    </tr>\n",
       "    <tr>\n",
       "      <th>3</th>\n",
       "      <td>Afghanistan</td>\n",
       "      <td>2087.0</td>\n",
       "    </tr>\n",
       "    <tr>\n",
       "      <th>4</th>\n",
       "      <td>Haïti</td>\n",
       "      <td>2089.0</td>\n",
       "    </tr>\n",
       "    <tr>\n",
       "      <th>5</th>\n",
       "      <td>République populaire démocratique de Corée</td>\n",
       "      <td>2093.0</td>\n",
       "    </tr>\n",
       "    <tr>\n",
       "      <th>6</th>\n",
       "      <td>Tchad</td>\n",
       "      <td>2109.0</td>\n",
       "    </tr>\n",
       "    <tr>\n",
       "      <th>7</th>\n",
       "      <td>Zimbabwe</td>\n",
       "      <td>2113.0</td>\n",
       "    </tr>\n",
       "    <tr>\n",
       "      <th>8</th>\n",
       "      <td>Ouganda</td>\n",
       "      <td>2126.0</td>\n",
       "    </tr>\n",
       "    <tr>\n",
       "      <th>9</th>\n",
       "      <td>Timor-Leste</td>\n",
       "      <td>2129.0</td>\n",
       "    </tr>\n",
       "  </tbody>\n",
       "</table>\n",
       "</div>"
      ],
      "text/plain": [
       "                                         Zone  \\\n",
       "0                   République centrafricaine   \n",
       "1                                      Zambie   \n",
       "2                                  Madagascar   \n",
       "3                                 Afghanistan   \n",
       "4                                       Haïti   \n",
       "5  République populaire démocratique de Corée   \n",
       "6                                       Tchad   \n",
       "7                                    Zimbabwe   \n",
       "8                                     Ouganda   \n",
       "9                                 Timor-Leste   \n",
       "\n",
       "   Disponibilité alimentaire (Kcal/personne/jour)  \n",
       "0                                          1879.0  \n",
       "1                                          1924.0  \n",
       "2                                          2056.0  \n",
       "3                                          2087.0  \n",
       "4                                          2089.0  \n",
       "5                                          2093.0  \n",
       "6                                          2109.0  \n",
       "7                                          2113.0  \n",
       "8                                          2126.0  \n",
       "9                                          2129.0  "
      ]
     },
     "execution_count": 118,
     "metadata": {},
     "output_type": "execute_result"
    }
   ],
   "source": [
    "# Pays avec le plus de disponibité alimentaire\n",
    "moins_dispo = nb_pers_nourr_2017.groupby([\"Zone\"])[\"Disponibilité alimentaire (Kcal/personne/jour)\"].sum().sort_values(ascending=True).reset_index()\n",
    "moins_dispo.head(10)"
   ]
  },
  {
   "cell_type": "code",
   "execution_count": 119,
   "id": "b887a308-176c-4519-9063-b5deb54ad58d",
   "metadata": {},
   "outputs": [
    {
     "data": {
      "text/plain": [
       "(174, 2)"
      ]
     },
     "execution_count": 119,
     "metadata": {},
     "output_type": "execute_result"
    }
   ],
   "source": [
    "moins_dispo.shape"
   ]
  },
  {
   "cell_type": "code",
   "execution_count": 120,
   "id": "0759b806-4e7c-4abb-b889-8b363cedeb3f",
   "metadata": {},
   "outputs": [
    {
     "data": {
      "image/png": "[encoded data removed]",
      "text/plain": [
       "<Figure size 1000x500 with 1 Axes>"
      ]
     },
     "metadata": {},
     "output_type": "display_data"
    }
   ],
   "source": [
    "# Visualisation\n",
    "plt.figure(figsize=(10, 5))\n",
    "D = moins_dispo[moins_dispo[\"Disponibilité alimentaire (Kcal/personne/jour)\"] <= 2129]\n",
    "sns.barplot(x = D[\"Disponibilité alimentaire (Kcal/personne/jour)\"], y = D[\"Zone\"], data = B, palette = \"Set2\")\n",
    "plt.title(\"Pays avec le moins de disponibilité alimentaire\", fontsize = \"15\")\n",
    "plt.show()"
   ]
  },
  {
   "cell_type": "markdown",
   "id": "bcb92b50-67fd-46b7-aa79-6eee5f953099",
   "metadata": {},
   "source": [
    "* On pourrait aussi approfondir nos recherches avec plus de visualisations par rapport à l'évolution des disponibilités alimentaires par année et par pays.\n",
    "* L'évolution de la population et des personnes en sous nutritions par années."
   ]
  },
  {
   "cell_type": "code",
   "execution_count": 121,
   "id": "249c2ae4-5493-42f8-a4ff-c5adaa8361e4",
   "metadata": {},
   "outputs": [
    {
     "data": {
      "text/html": [
       "<div>\n",
       "<style scoped>\n",
       "    .dataframe tbody tr th:only-of-type {\n",
       "        vertical-align: middle;\n",
       "    }\n",
       "\n",
       "    .dataframe tbody tr th {\n",
       "        vertical-align: top;\n",
       "    }\n",
       "\n",
       "    .dataframe thead th {\n",
       "        text-align: right;\n",
       "    }\n",
       "</style>\n",
       "<table border=\"1\" class=\"dataframe\">\n",
       "  <thead>\n",
       "    <tr style=\"text-align: right;\">\n",
       "      <th></th>\n",
       "      <th>Année</th>\n",
       "      <th>Nbre habitant</th>\n",
       "    </tr>\n",
       "  </thead>\n",
       "  <tbody>\n",
       "    <tr>\n",
       "      <th>0</th>\n",
       "      <td>2013</td>\n",
       "      <td>7.210846e+09</td>\n",
       "    </tr>\n",
       "    <tr>\n",
       "      <th>1</th>\n",
       "      <td>2014</td>\n",
       "      <td>7.295558e+09</td>\n",
       "    </tr>\n",
       "    <tr>\n",
       "      <th>2</th>\n",
       "      <td>2015</td>\n",
       "      <td>7.380067e+09</td>\n",
       "    </tr>\n",
       "    <tr>\n",
       "      <th>3</th>\n",
       "      <td>2016</td>\n",
       "      <td>7.464295e+09</td>\n",
       "    </tr>\n",
       "    <tr>\n",
       "      <th>4</th>\n",
       "      <td>2017</td>\n",
       "      <td>7.548134e+09</td>\n",
       "    </tr>\n",
       "    <tr>\n",
       "      <th>5</th>\n",
       "      <td>2018</td>\n",
       "      <td>7.631369e+09</td>\n",
       "    </tr>\n",
       "  </tbody>\n",
       "</table>\n",
       "</div>"
      ],
      "text/plain": [
       "   Année  Nbre habitant\n",
       "0   2013   7.210846e+09\n",
       "1   2014   7.295558e+09\n",
       "2   2015   7.380067e+09\n",
       "3   2016   7.464295e+09\n",
       "4   2017   7.548134e+09\n",
       "5   2018   7.631369e+09"
      ]
     },
     "execution_count": 121,
     "metadata": {},
     "output_type": "execute_result"
    }
   ],
   "source": [
    "# Dataframe population\n",
    "pop = data_population.groupby([\"Année\"])[[\"Nbre habitant\"]].sum().reset_index()\n",
    "pop"
   ]
  },
  {
   "cell_type": "code",
   "execution_count": 122,
   "id": "b093ca22-940d-4ec9-9219-e07abd7b768d",
   "metadata": {},
   "outputs": [
    {
     "data": {
      "image/png": "[encoded data removed]",
      "text/plain": [
       "<Figure size 1200x500 with 1 Axes>"
      ]
     },
     "metadata": {},
     "output_type": "display_data"
    }
   ],
   "source": [
    "# Visualisation\n",
    "x = pop[\"Année\"]\n",
    "y = pop[\"Nbre habitant\"]\n",
    "plt.figure(figsize=(12,5))\n",
    "plt.plot(x, y, color = \"r\")\n",
    "plt.xlabel(\"Année\")\n",
    "plt.ylabel(\"Nbre habitant\")\n",
    "plt.title(\"Evolution des personnes en sous nutrition\")\n",
    "plt.show()"
   ]
  },
  {
   "cell_type": "code",
   "execution_count": 123,
   "id": "b9b40ba3-1c25-4bd3-956c-b4e72b36fa31",
   "metadata": {},
   "outputs": [
    {
     "data": {
      "text/html": [
       "<div>\n",
       "<style scoped>\n",
       "    .dataframe tbody tr th:only-of-type {\n",
       "        vertical-align: middle;\n",
       "    }\n",
       "\n",
       "    .dataframe tbody tr th {\n",
       "        vertical-align: top;\n",
       "    }\n",
       "\n",
       "    .dataframe thead th {\n",
       "        text-align: right;\n",
       "    }\n",
       "</style>\n",
       "<table border=\"1\" class=\"dataframe\">\n",
       "  <thead>\n",
       "    <tr style=\"text-align: right;\">\n",
       "      <th></th>\n",
       "      <th>Année</th>\n",
       "      <th>Personne en sous-alimentation</th>\n",
       "    </tr>\n",
       "  </thead>\n",
       "  <tbody>\n",
       "    <tr>\n",
       "      <th>0</th>\n",
       "      <td>2013</td>\n",
       "      <td>528100000.0</td>\n",
       "    </tr>\n",
       "    <tr>\n",
       "      <th>1</th>\n",
       "      <td>2014</td>\n",
       "      <td>523500000.0</td>\n",
       "    </tr>\n",
       "    <tr>\n",
       "      <th>2</th>\n",
       "      <td>2015</td>\n",
       "      <td>524700000.0</td>\n",
       "    </tr>\n",
       "    <tr>\n",
       "      <th>3</th>\n",
       "      <td>2016</td>\n",
       "      <td>528600000.0</td>\n",
       "    </tr>\n",
       "    <tr>\n",
       "      <th>4</th>\n",
       "      <td>2017</td>\n",
       "      <td>535700000.0</td>\n",
       "    </tr>\n",
       "    <tr>\n",
       "      <th>5</th>\n",
       "      <td>2018</td>\n",
       "      <td>544200000.0</td>\n",
       "    </tr>\n",
       "  </tbody>\n",
       "</table>\n",
       "</div>"
      ],
      "text/plain": [
       "   Année  Personne en sous-alimentation\n",
       "0   2013                    528100000.0\n",
       "1   2014                    523500000.0\n",
       "2   2015                    524700000.0\n",
       "3   2016                    528600000.0\n",
       "4   2017                    535700000.0\n",
       "5   2018                    544200000.0"
      ]
     },
     "execution_count": 123,
     "metadata": {},
     "output_type": "execute_result"
    }
   ],
   "source": [
    "# Dataframe sous nutrition\n",
    "snutri = data_sous_nutrition.groupby([\"Année\"])[[\"Personne en sous-alimentation\"]].sum().reset_index()\n",
    "snutri"
   ]
  },
  {
   "cell_type": "code",
   "execution_count": 124,
   "id": "356e7826-02b5-43ac-8dfc-ad39a204d0fa",
   "metadata": {},
   "outputs": [
    {
     "data": {
      "image/png": "[encoded data removed]",
      "text/plain": [
       "<Figure size 1200x500 with 1 Axes>"
      ]
     },
     "metadata": {},
     "output_type": "display_data"
    }
   ],
   "source": [
    "# Visualisation\n",
    "x = snutri[\"Année\"]\n",
    "y = snutri[\"Personne en sous-alimentation\"]\n",
    "plt.figure(figsize=(12,5))\n",
    "plt.plot(x, y, color = \"r\")\n",
    "plt.xlabel(\"Année\")\n",
    "plt.ylabel(\"Nbre habitant\")\n",
    "plt.title(\"Evolution de la population mondiale\")\n",
    "plt.show()"
   ]
  },
  {
   "cell_type": "code",
   "execution_count": 125,
   "id": "f838f0cb-b257-4707-bde5-c29e3c27cdf5",
   "metadata": {},
   "outputs": [
    {
     "data": {
      "text/html": [
       "<div>\n",
       "<style scoped>\n",
       "    .dataframe tbody tr th:only-of-type {\n",
       "        vertical-align: middle;\n",
       "    }\n",
       "\n",
       "    .dataframe tbody tr th {\n",
       "        vertical-align: top;\n",
       "    }\n",
       "\n",
       "    .dataframe thead th {\n",
       "        text-align: right;\n",
       "    }\n",
       "</style>\n",
       "<table border=\"1\" class=\"dataframe\">\n",
       "  <thead>\n",
       "    <tr style=\"text-align: right;\">\n",
       "      <th></th>\n",
       "      <th>Zone</th>\n",
       "      <th>Produit</th>\n",
       "      <th>Origine</th>\n",
       "      <th>Aliments pour animaux</th>\n",
       "      <th>Autres Utilisations</th>\n",
       "      <th>Disponibilité alimentaire (Kcal/personne/jour)</th>\n",
       "      <th>Disponibilité alimentaire en quantité (kg/personne/an)</th>\n",
       "      <th>Disponibilité de matière grasse en quantité (g/personne/jour)</th>\n",
       "      <th>Disponibilité de protéines en quantité (g/personne/jour)</th>\n",
       "      <th>Disponibilité intérieure</th>\n",
       "      <th>...</th>\n",
       "      <th>Importations - Quantité</th>\n",
       "      <th>Nourriture</th>\n",
       "      <th>Pertes</th>\n",
       "      <th>Production</th>\n",
       "      <th>Semences</th>\n",
       "      <th>Traitement</th>\n",
       "      <th>Variation de stock</th>\n",
       "      <th>Année</th>\n",
       "      <th>Nbre habitant</th>\n",
       "      <th>Dispo_alim_pop (Kcal/jour/pop)</th>\n",
       "    </tr>\n",
       "  </thead>\n",
       "  <tbody>\n",
       "    <tr>\n",
       "      <th>0</th>\n",
       "      <td>Afghanistan</td>\n",
       "      <td>Abats Comestible</td>\n",
       "      <td>animale</td>\n",
       "      <td>0.0</td>\n",
       "      <td>0.0</td>\n",
       "      <td>5.0</td>\n",
       "      <td>1.72</td>\n",
       "      <td>0.20</td>\n",
       "      <td>0.77</td>\n",
       "      <td>53000000.0</td>\n",
       "      <td>...</td>\n",
       "      <td>0.0</td>\n",
       "      <td>53000000.0</td>\n",
       "      <td>0.0</td>\n",
       "      <td>53000000.0</td>\n",
       "      <td>0.0</td>\n",
       "      <td>0.0</td>\n",
       "      <td>0.0</td>\n",
       "      <td>2017</td>\n",
       "      <td>36296113.0</td>\n",
       "      <td>181480565.0</td>\n",
       "    </tr>\n",
       "    <tr>\n",
       "      <th>1</th>\n",
       "      <td>Afghanistan</td>\n",
       "      <td>Agrumes, Autres</td>\n",
       "      <td>vegetale</td>\n",
       "      <td>0.0</td>\n",
       "      <td>0.0</td>\n",
       "      <td>1.0</td>\n",
       "      <td>1.29</td>\n",
       "      <td>0.01</td>\n",
       "      <td>0.02</td>\n",
       "      <td>41000000.0</td>\n",
       "      <td>...</td>\n",
       "      <td>40000000.0</td>\n",
       "      <td>39000000.0</td>\n",
       "      <td>2000000.0</td>\n",
       "      <td>3000000.0</td>\n",
       "      <td>0.0</td>\n",
       "      <td>0.0</td>\n",
       "      <td>0.0</td>\n",
       "      <td>2017</td>\n",
       "      <td>36296113.0</td>\n",
       "      <td>36296113.0</td>\n",
       "    </tr>\n",
       "    <tr>\n",
       "      <th>2</th>\n",
       "      <td>Afghanistan</td>\n",
       "      <td>Aliments pour enfants</td>\n",
       "      <td>vegetale</td>\n",
       "      <td>0.0</td>\n",
       "      <td>0.0</td>\n",
       "      <td>1.0</td>\n",
       "      <td>0.06</td>\n",
       "      <td>0.01</td>\n",
       "      <td>0.03</td>\n",
       "      <td>2000000.0</td>\n",
       "      <td>...</td>\n",
       "      <td>2000000.0</td>\n",
       "      <td>2000000.0</td>\n",
       "      <td>0.0</td>\n",
       "      <td>0.0</td>\n",
       "      <td>0.0</td>\n",
       "      <td>0.0</td>\n",
       "      <td>0.0</td>\n",
       "      <td>2017</td>\n",
       "      <td>36296113.0</td>\n",
       "      <td>36296113.0</td>\n",
       "    </tr>\n",
       "    <tr>\n",
       "      <th>3</th>\n",
       "      <td>Afghanistan</td>\n",
       "      <td>Ananas</td>\n",
       "      <td>vegetale</td>\n",
       "      <td>0.0</td>\n",
       "      <td>0.0</td>\n",
       "      <td>0.0</td>\n",
       "      <td>0.00</td>\n",
       "      <td>0.00</td>\n",
       "      <td>0.00</td>\n",
       "      <td>0.0</td>\n",
       "      <td>...</td>\n",
       "      <td>0.0</td>\n",
       "      <td>0.0</td>\n",
       "      <td>0.0</td>\n",
       "      <td>0.0</td>\n",
       "      <td>0.0</td>\n",
       "      <td>0.0</td>\n",
       "      <td>0.0</td>\n",
       "      <td>2017</td>\n",
       "      <td>36296113.0</td>\n",
       "      <td>0.0</td>\n",
       "    </tr>\n",
       "    <tr>\n",
       "      <th>4</th>\n",
       "      <td>Afghanistan</td>\n",
       "      <td>Bananes</td>\n",
       "      <td>vegetale</td>\n",
       "      <td>0.0</td>\n",
       "      <td>0.0</td>\n",
       "      <td>4.0</td>\n",
       "      <td>2.70</td>\n",
       "      <td>0.02</td>\n",
       "      <td>0.05</td>\n",
       "      <td>82000000.0</td>\n",
       "      <td>...</td>\n",
       "      <td>82000000.0</td>\n",
       "      <td>82000000.0</td>\n",
       "      <td>0.0</td>\n",
       "      <td>0.0</td>\n",
       "      <td>0.0</td>\n",
       "      <td>0.0</td>\n",
       "      <td>0.0</td>\n",
       "      <td>2017</td>\n",
       "      <td>36296113.0</td>\n",
       "      <td>145184452.0</td>\n",
       "    </tr>\n",
       "  </tbody>\n",
       "</table>\n",
       "<p>5 rows × 21 columns</p>\n",
       "</div>"
      ],
      "text/plain": [
       "          Zone                Produit   Origine  Aliments pour animaux  \\\n",
       "0  Afghanistan       Abats Comestible   animale                    0.0   \n",
       "1  Afghanistan        Agrumes, Autres  vegetale                    0.0   \n",
       "2  Afghanistan  Aliments pour enfants  vegetale                    0.0   \n",
       "3  Afghanistan                 Ananas  vegetale                    0.0   \n",
       "4  Afghanistan                Bananes  vegetale                    0.0   \n",
       "\n",
       "   Autres Utilisations  Disponibilité alimentaire (Kcal/personne/jour)  \\\n",
       "0                  0.0                                             5.0   \n",
       "1                  0.0                                             1.0   \n",
       "2                  0.0                                             1.0   \n",
       "3                  0.0                                             0.0   \n",
       "4                  0.0                                             4.0   \n",
       "\n",
       "   Disponibilité alimentaire en quantité (kg/personne/an)  \\\n",
       "0                                               1.72        \n",
       "1                                               1.29        \n",
       "2                                               0.06        \n",
       "3                                               0.00        \n",
       "4                                               2.70        \n",
       "\n",
       "   Disponibilité de matière grasse en quantité (g/personne/jour)  \\\n",
       "0                                               0.20               \n",
       "1                                               0.01               \n",
       "2                                               0.01               \n",
       "3                                               0.00               \n",
       "4                                               0.02               \n",
       "\n",
       "   Disponibilité de protéines en quantité (g/personne/jour)  \\\n",
       "0                                               0.77          \n",
       "1                                               0.02          \n",
       "2                                               0.03          \n",
       "3                                               0.00          \n",
       "4                                               0.05          \n",
       "\n",
       "   Disponibilité intérieure  ...  Importations - Quantité  Nourriture  \\\n",
       "0                53000000.0  ...                      0.0  53000000.0   \n",
       "1                41000000.0  ...               40000000.0  39000000.0   \n",
       "2                 2000000.0  ...                2000000.0   2000000.0   \n",
       "3                       0.0  ...                      0.0         0.0   \n",
       "4                82000000.0  ...               82000000.0  82000000.0   \n",
       "\n",
       "      Pertes  Production  Semences  Traitement  Variation de stock  Année  \\\n",
       "0        0.0  53000000.0       0.0         0.0                 0.0   2017   \n",
       "1  2000000.0   3000000.0       0.0         0.0                 0.0   2017   \n",
       "2        0.0         0.0       0.0         0.0                 0.0   2017   \n",
       "3        0.0         0.0       0.0         0.0                 0.0   2017   \n",
       "4        0.0         0.0       0.0         0.0                 0.0   2017   \n",
       "\n",
       "   Nbre habitant  Dispo_alim_pop (Kcal/jour/pop)  \n",
       "0     36296113.0                     181480565.0  \n",
       "1     36296113.0                      36296113.0  \n",
       "2     36296113.0                      36296113.0  \n",
       "3     36296113.0                             0.0  \n",
       "4     36296113.0                     145184452.0  \n",
       "\n",
       "[5 rows x 21 columns]"
      ]
     },
     "execution_count": 125,
     "metadata": {},
     "output_type": "execute_result"
    }
   ],
   "source": [
    "nb_pers_nourr_2017.head(5)"
   ]
  },
  {
   "cell_type": "code",
   "execution_count": 126,
   "id": "cd1531a4-0886-4e77-aeb6-e703f64a6a09",
   "metadata": {},
   "outputs": [
    {
     "data": {
      "text/html": [
       "<div>\n",
       "<style scoped>\n",
       "    .dataframe tbody tr th:only-of-type {\n",
       "        vertical-align: middle;\n",
       "    }\n",
       "\n",
       "    .dataframe tbody tr th {\n",
       "        vertical-align: top;\n",
       "    }\n",
       "\n",
       "    .dataframe thead th {\n",
       "        text-align: right;\n",
       "    }\n",
       "</style>\n",
       "<table border=\"1\" class=\"dataframe\">\n",
       "  <thead>\n",
       "    <tr style=\"text-align: right;\">\n",
       "      <th></th>\n",
       "      <th>Zone</th>\n",
       "      <th>Disponibilité alimentaire (Kcal/personne/jour)</th>\n",
       "      <th>Nourriture</th>\n",
       "      <th>Aliments pour animaux</th>\n",
       "      <th>Pertes</th>\n",
       "      <th>Production</th>\n",
       "      <th>Semences</th>\n",
       "    </tr>\n",
       "  </thead>\n",
       "  <tbody>\n",
       "    <tr>\n",
       "      <th>0</th>\n",
       "      <td>Autriche</td>\n",
       "      <td>3770.0</td>\n",
       "      <td>9.085000e+09</td>\n",
       "      <td>3.412000e+09</td>\n",
       "      <td>4.590000e+08</td>\n",
       "      <td>1.812900e+10</td>\n",
       "      <td>1.730000e+08</td>\n",
       "    </tr>\n",
       "    <tr>\n",
       "      <th>1</th>\n",
       "      <td>Belgique</td>\n",
       "      <td>3737.0</td>\n",
       "      <td>1.113400e+10</td>\n",
       "      <td>5.533000e+09</td>\n",
       "      <td>5.640000e+08</td>\n",
       "      <td>2.449600e+10</td>\n",
       "      <td>1.530000e+08</td>\n",
       "    </tr>\n",
       "    <tr>\n",
       "      <th>2</th>\n",
       "      <td>Turquie</td>\n",
       "      <td>3708.0</td>\n",
       "      <td>7.255100e+10</td>\n",
       "      <td>1.775000e+10</td>\n",
       "      <td>1.203600e+10</td>\n",
       "      <td>1.374320e+11</td>\n",
       "      <td>2.553000e+09</td>\n",
       "    </tr>\n",
       "    <tr>\n",
       "      <th>3</th>\n",
       "      <td>États-Unis d'Amérique</td>\n",
       "      <td>3682.0</td>\n",
       "      <td>3.208890e+11</td>\n",
       "      <td>1.484320e+11</td>\n",
       "      <td>7.162000e+09</td>\n",
       "      <td>8.946680e+11</td>\n",
       "      <td>1.040300e+10</td>\n",
       "    </tr>\n",
       "    <tr>\n",
       "      <th>4</th>\n",
       "      <td>Israël</td>\n",
       "      <td>3610.0</td>\n",
       "      <td>7.132000e+09</td>\n",
       "      <td>2.525000e+09</td>\n",
       "      <td>2.200000e+08</td>\n",
       "      <td>6.906000e+09</td>\n",
       "      <td>7.100000e+07</td>\n",
       "    </tr>\n",
       "    <tr>\n",
       "      <th>5</th>\n",
       "      <td>Irlande</td>\n",
       "      <td>3602.0</td>\n",
       "      <td>5.320000e+09</td>\n",
       "      <td>3.758000e+09</td>\n",
       "      <td>2.360000e+08</td>\n",
       "      <td>1.150100e+10</td>\n",
       "      <td>8.900000e+07</td>\n",
       "    </tr>\n",
       "    <tr>\n",
       "      <th>6</th>\n",
       "      <td>Italie</td>\n",
       "      <td>3578.0</td>\n",
       "      <td>6.058400e+10</td>\n",
       "      <td>1.614400e+10</td>\n",
       "      <td>1.861000e+09</td>\n",
       "      <td>8.085500e+10</td>\n",
       "      <td>7.360000e+08</td>\n",
       "    </tr>\n",
       "    <tr>\n",
       "      <th>7</th>\n",
       "      <td>Luxembourg</td>\n",
       "      <td>3540.0</td>\n",
       "      <td>6.070000e+08</td>\n",
       "      <td>1.470000e+08</td>\n",
       "      <td>1.100000e+07</td>\n",
       "      <td>5.930000e+08</td>\n",
       "      <td>9.000000e+06</td>\n",
       "    </tr>\n",
       "    <tr>\n",
       "      <th>8</th>\n",
       "      <td>Égypte</td>\n",
       "      <td>3518.0</td>\n",
       "      <td>6.595700e+10</td>\n",
       "      <td>1.508400e+10</td>\n",
       "      <td>7.608000e+09</td>\n",
       "      <td>9.584800e+10</td>\n",
       "      <td>1.365000e+09</td>\n",
       "    </tr>\n",
       "    <tr>\n",
       "      <th>9</th>\n",
       "      <td>Allemagne</td>\n",
       "      <td>3503.0</td>\n",
       "      <td>7.923800e+10</td>\n",
       "      <td>3.020900e+10</td>\n",
       "      <td>3.781000e+09</td>\n",
       "      <td>1.545470e+11</td>\n",
       "      <td>1.551000e+09</td>\n",
       "    </tr>\n",
       "  </tbody>\n",
       "</table>\n",
       "</div>"
      ],
      "text/plain": [
       "                    Zone  Disponibilité alimentaire (Kcal/personne/jour)  \\\n",
       "0               Autriche                                          3770.0   \n",
       "1               Belgique                                          3737.0   \n",
       "2                Turquie                                          3708.0   \n",
       "3  États-Unis d'Amérique                                          3682.0   \n",
       "4                 Israël                                          3610.0   \n",
       "5                Irlande                                          3602.0   \n",
       "6                 Italie                                          3578.0   \n",
       "7             Luxembourg                                          3540.0   \n",
       "8                 Égypte                                          3518.0   \n",
       "9              Allemagne                                          3503.0   \n",
       "\n",
       "     Nourriture  Aliments pour animaux        Pertes    Production  \\\n",
       "0  9.085000e+09           3.412000e+09  4.590000e+08  1.812900e+10   \n",
       "1  1.113400e+10           5.533000e+09  5.640000e+08  2.449600e+10   \n",
       "2  7.255100e+10           1.775000e+10  1.203600e+10  1.374320e+11   \n",
       "3  3.208890e+11           1.484320e+11  7.162000e+09  8.946680e+11   \n",
       "4  7.132000e+09           2.525000e+09  2.200000e+08  6.906000e+09   \n",
       "5  5.320000e+09           3.758000e+09  2.360000e+08  1.150100e+10   \n",
       "6  6.058400e+10           1.614400e+10  1.861000e+09  8.085500e+10   \n",
       "7  6.070000e+08           1.470000e+08  1.100000e+07  5.930000e+08   \n",
       "8  6.595700e+10           1.508400e+10  7.608000e+09  9.584800e+10   \n",
       "9  7.923800e+10           3.020900e+10  3.781000e+09  1.545470e+11   \n",
       "\n",
       "       Semences  \n",
       "0  1.730000e+08  \n",
       "1  1.530000e+08  \n",
       "2  2.553000e+09  \n",
       "3  1.040300e+10  \n",
       "4  7.100000e+07  \n",
       "5  8.900000e+07  \n",
       "6  7.360000e+08  \n",
       "7  9.000000e+06  \n",
       "8  1.365000e+09  \n",
       "9  1.551000e+09  "
      ]
     },
     "execution_count": 126,
     "metadata": {},
     "output_type": "execute_result"
    }
   ],
   "source": [
    "# Pays avec le plus de disponibité alimentaire\n",
    "plus_dispo = nb_pers_nourr_2017.groupby([\"Zone\"])[\"Disponibilité alimentaire (Kcal/personne/jour)\",\"Nourriture\",\"Aliments pour animaux\",\n",
    "                                        \"Pertes\",\"Production\",\"Semences\" ].sum().sort_values(by =\"Disponibilité alimentaire (Kcal/personne/jour)\",\t\n",
    "                                        ascending=False).reset_index()\n",
    "plus_dispo.head(10)"
   ]
  },
  {
   "cell_type": "code",
   "execution_count": 127,
   "id": "450519d6-a546-4bef-8ada-27f34d11a409",
   "metadata": {},
   "outputs": [],
   "source": [
    "# creer un mask\n",
    "plus_dispo = plus_dispo[plus_dispo[\"Disponibilité alimentaire (Kcal/personne/jour)\"] >= 3482]"
   ]
  },
  {
   "cell_type": "code",
   "execution_count": 128,
   "id": "e1979ee7-26f5-420e-a9b2-84d6edd78a14",
   "metadata": {},
   "outputs": [
    {
     "data": {
      "text/html": [
       "<div>\n",
       "<style scoped>\n",
       "    .dataframe tbody tr th:only-of-type {\n",
       "        vertical-align: middle;\n",
       "    }\n",
       "\n",
       "    .dataframe tbody tr th {\n",
       "        vertical-align: top;\n",
       "    }\n",
       "\n",
       "    .dataframe thead th {\n",
       "        text-align: right;\n",
       "    }\n",
       "</style>\n",
       "<table border=\"1\" class=\"dataframe\">\n",
       "  <thead>\n",
       "    <tr style=\"text-align: right;\">\n",
       "      <th></th>\n",
       "      <th>Zone</th>\n",
       "      <th>Disponibilité alimentaire (Kcal/personne/jour)</th>\n",
       "      <th>Nourriture</th>\n",
       "      <th>Aliments pour animaux</th>\n",
       "      <th>Pertes</th>\n",
       "      <th>Production</th>\n",
       "      <th>Semences</th>\n",
       "      <th>Type</th>\n",
       "    </tr>\n",
       "  </thead>\n",
       "  <tbody>\n",
       "    <tr>\n",
       "      <th>0</th>\n",
       "      <td>Autriche</td>\n",
       "      <td>3770.0</td>\n",
       "      <td>9.085000e+09</td>\n",
       "      <td>3.412000e+09</td>\n",
       "      <td>4.590000e+08</td>\n",
       "      <td>1.812900e+10</td>\n",
       "      <td>1.730000e+08</td>\n",
       "      <td>Pays avec le plus de disponibilité</td>\n",
       "    </tr>\n",
       "    <tr>\n",
       "      <th>1</th>\n",
       "      <td>Belgique</td>\n",
       "      <td>3737.0</td>\n",
       "      <td>1.113400e+10</td>\n",
       "      <td>5.533000e+09</td>\n",
       "      <td>5.640000e+08</td>\n",
       "      <td>2.449600e+10</td>\n",
       "      <td>1.530000e+08</td>\n",
       "      <td>Pays avec le plus de disponibilité</td>\n",
       "    </tr>\n",
       "    <tr>\n",
       "      <th>2</th>\n",
       "      <td>Turquie</td>\n",
       "      <td>3708.0</td>\n",
       "      <td>7.255100e+10</td>\n",
       "      <td>1.775000e+10</td>\n",
       "      <td>1.203600e+10</td>\n",
       "      <td>1.374320e+11</td>\n",
       "      <td>2.553000e+09</td>\n",
       "      <td>Pays avec le plus de disponibilité</td>\n",
       "    </tr>\n",
       "    <tr>\n",
       "      <th>3</th>\n",
       "      <td>États-Unis d'Amérique</td>\n",
       "      <td>3682.0</td>\n",
       "      <td>3.208890e+11</td>\n",
       "      <td>1.484320e+11</td>\n",
       "      <td>7.162000e+09</td>\n",
       "      <td>8.946680e+11</td>\n",
       "      <td>1.040300e+10</td>\n",
       "      <td>Pays avec le plus de disponibilité</td>\n",
       "    </tr>\n",
       "    <tr>\n",
       "      <th>4</th>\n",
       "      <td>Israël</td>\n",
       "      <td>3610.0</td>\n",
       "      <td>7.132000e+09</td>\n",
       "      <td>2.525000e+09</td>\n",
       "      <td>2.200000e+08</td>\n",
       "      <td>6.906000e+09</td>\n",
       "      <td>7.100000e+07</td>\n",
       "      <td>Pays avec le plus de disponibilité</td>\n",
       "    </tr>\n",
       "  </tbody>\n",
       "</table>\n",
       "</div>"
      ],
      "text/plain": [
       "                    Zone  Disponibilité alimentaire (Kcal/personne/jour)  \\\n",
       "0               Autriche                                          3770.0   \n",
       "1               Belgique                                          3737.0   \n",
       "2                Turquie                                          3708.0   \n",
       "3  États-Unis d'Amérique                                          3682.0   \n",
       "4                 Israël                                          3610.0   \n",
       "\n",
       "     Nourriture  Aliments pour animaux        Pertes    Production  \\\n",
       "0  9.085000e+09           3.412000e+09  4.590000e+08  1.812900e+10   \n",
       "1  1.113400e+10           5.533000e+09  5.640000e+08  2.449600e+10   \n",
       "2  7.255100e+10           1.775000e+10  1.203600e+10  1.374320e+11   \n",
       "3  3.208890e+11           1.484320e+11  7.162000e+09  8.946680e+11   \n",
       "4  7.132000e+09           2.525000e+09  2.200000e+08  6.906000e+09   \n",
       "\n",
       "       Semences                                Type  \n",
       "0  1.730000e+08  Pays avec le plus de disponibilité  \n",
       "1  1.530000e+08  Pays avec le plus de disponibilité  \n",
       "2  2.553000e+09  Pays avec le plus de disponibilité  \n",
       "3  1.040300e+10  Pays avec le plus de disponibilité  \n",
       "4  7.100000e+07  Pays avec le plus de disponibilité  "
      ]
     },
     "execution_count": 128,
     "metadata": {},
     "output_type": "execute_result"
    }
   ],
   "source": [
    "# création d'une nouvelle colonne\n",
    "plus_dispo[\"Type\"] = \"Pays avec le plus de disponibilité\"\n",
    "plus_dispo.head(5)"
   ]
  },
  {
   "cell_type": "code",
   "execution_count": 129,
   "id": "4324e65f-81d6-452c-ac86-1369b2abbf38",
   "metadata": {},
   "outputs": [],
   "source": [
    "# suppression des colonnes\n",
    "plus_dispo = plus_dispo.drop(columns = [\"Zone\",\t\"Disponibilité alimentaire (Kcal/personne/jour)\"])"
   ]
  },
  {
   "cell_type": "code",
   "execution_count": 130,
   "id": "96a43207-305d-430f-8eb7-2827fdc10d18",
   "metadata": {},
   "outputs": [
    {
     "data": {
      "text/html": [
       "<div>\n",
       "<style scoped>\n",
       "    .dataframe tbody tr th:only-of-type {\n",
       "        vertical-align: middle;\n",
       "    }\n",
       "\n",
       "    .dataframe tbody tr th {\n",
       "        vertical-align: top;\n",
       "    }\n",
       "\n",
       "    .dataframe thead th {\n",
       "        text-align: right;\n",
       "    }\n",
       "</style>\n",
       "<table border=\"1\" class=\"dataframe\">\n",
       "  <thead>\n",
       "    <tr style=\"text-align: right;\">\n",
       "      <th></th>\n",
       "      <th>Zone</th>\n",
       "      <th>Disponibilité alimentaire (Kcal/personne/jour)</th>\n",
       "      <th>Nourriture</th>\n",
       "      <th>Aliments pour animaux</th>\n",
       "      <th>Pertes</th>\n",
       "      <th>Production</th>\n",
       "      <th>Semences</th>\n",
       "    </tr>\n",
       "  </thead>\n",
       "  <tbody>\n",
       "    <tr>\n",
       "      <th>0</th>\n",
       "      <td>République centrafricaine</td>\n",
       "      <td>1879.0</td>\n",
       "      <td>2.092000e+09</td>\n",
       "      <td>1000000.0</td>\n",
       "      <td>1.220000e+08</td>\n",
       "      <td>2.503000e+09</td>\n",
       "      <td>63000000.0</td>\n",
       "    </tr>\n",
       "    <tr>\n",
       "      <th>1</th>\n",
       "      <td>Zambie</td>\n",
       "      <td>1924.0</td>\n",
       "      <td>5.088000e+09</td>\n",
       "      <td>408000000.0</td>\n",
       "      <td>2.420000e+08</td>\n",
       "      <td>1.052600e+10</td>\n",
       "      <td>76000000.0</td>\n",
       "    </tr>\n",
       "    <tr>\n",
       "      <th>2</th>\n",
       "      <td>Madagascar</td>\n",
       "      <td>2056.0</td>\n",
       "      <td>9.741000e+09</td>\n",
       "      <td>842000000.0</td>\n",
       "      <td>9.660000e+08</td>\n",
       "      <td>1.416000e+10</td>\n",
       "      <td>375000000.0</td>\n",
       "    </tr>\n",
       "    <tr>\n",
       "      <th>3</th>\n",
       "      <td>Afghanistan</td>\n",
       "      <td>2087.0</td>\n",
       "      <td>1.073500e+10</td>\n",
       "      <td>768000000.0</td>\n",
       "      <td>1.135000e+09</td>\n",
       "      <td>1.117100e+10</td>\n",
       "      <td>395000000.0</td>\n",
       "    </tr>\n",
       "    <tr>\n",
       "      <th>4</th>\n",
       "      <td>Haïti</td>\n",
       "      <td>2089.0</td>\n",
       "      <td>4.101000e+09</td>\n",
       "      <td>481000000.0</td>\n",
       "      <td>6.790000e+08</td>\n",
       "      <td>5.072000e+09</td>\n",
       "      <td>36000000.0</td>\n",
       "    </tr>\n",
       "    <tr>\n",
       "      <th>5</th>\n",
       "      <td>République populaire démocratique de Corée</td>\n",
       "      <td>2093.0</td>\n",
       "      <td>1.142500e+10</td>\n",
       "      <td>816000000.0</td>\n",
       "      <td>1.066000e+09</td>\n",
       "      <td>1.388300e+10</td>\n",
       "      <td>194000000.0</td>\n",
       "    </tr>\n",
       "    <tr>\n",
       "      <th>6</th>\n",
       "      <td>Tchad</td>\n",
       "      <td>2109.0</td>\n",
       "      <td>4.097000e+09</td>\n",
       "      <td>104000000.0</td>\n",
       "      <td>4.590000e+08</td>\n",
       "      <td>5.153000e+09</td>\n",
       "      <td>101000000.0</td>\n",
       "    </tr>\n",
       "    <tr>\n",
       "      <th>7</th>\n",
       "      <td>Zimbabwe</td>\n",
       "      <td>2113.0</td>\n",
       "      <td>4.762000e+09</td>\n",
       "      <td>131000000.0</td>\n",
       "      <td>1.880000e+08</td>\n",
       "      <td>7.914000e+09</td>\n",
       "      <td>76000000.0</td>\n",
       "    </tr>\n",
       "    <tr>\n",
       "      <th>8</th>\n",
       "      <td>Ouganda</td>\n",
       "      <td>2126.0</td>\n",
       "      <td>2.012100e+10</td>\n",
       "      <td>348000000.0</td>\n",
       "      <td>9.910000e+08</td>\n",
       "      <td>2.632100e+10</td>\n",
       "      <td>154000000.0</td>\n",
       "    </tr>\n",
       "    <tr>\n",
       "      <th>9</th>\n",
       "      <td>Timor-Leste</td>\n",
       "      <td>2129.0</td>\n",
       "      <td>4.190000e+08</td>\n",
       "      <td>9000000.0</td>\n",
       "      <td>1.400000e+07</td>\n",
       "      <td>3.710000e+08</td>\n",
       "      <td>2000000.0</td>\n",
       "    </tr>\n",
       "  </tbody>\n",
       "</table>\n",
       "</div>"
      ],
      "text/plain": [
       "                                         Zone  \\\n",
       "0                   République centrafricaine   \n",
       "1                                      Zambie   \n",
       "2                                  Madagascar   \n",
       "3                                 Afghanistan   \n",
       "4                                       Haïti   \n",
       "5  République populaire démocratique de Corée   \n",
       "6                                       Tchad   \n",
       "7                                    Zimbabwe   \n",
       "8                                     Ouganda   \n",
       "9                                 Timor-Leste   \n",
       "\n",
       "   Disponibilité alimentaire (Kcal/personne/jour)    Nourriture  \\\n",
       "0                                          1879.0  2.092000e+09   \n",
       "1                                          1924.0  5.088000e+09   \n",
       "2                                          2056.0  9.741000e+09   \n",
       "3                                          2087.0  1.073500e+10   \n",
       "4                                          2089.0  4.101000e+09   \n",
       "5                                          2093.0  1.142500e+10   \n",
       "6                                          2109.0  4.097000e+09   \n",
       "7                                          2113.0  4.762000e+09   \n",
       "8                                          2126.0  2.012100e+10   \n",
       "9                                          2129.0  4.190000e+08   \n",
       "\n",
       "   Aliments pour animaux        Pertes    Production     Semences  \n",
       "0              1000000.0  1.220000e+08  2.503000e+09   63000000.0  \n",
       "1            408000000.0  2.420000e+08  1.052600e+10   76000000.0  \n",
       "2            842000000.0  9.660000e+08  1.416000e+10  375000000.0  \n",
       "3            768000000.0  1.135000e+09  1.117100e+10  395000000.0  \n",
       "4            481000000.0  6.790000e+08  5.072000e+09   36000000.0  \n",
       "5            816000000.0  1.066000e+09  1.388300e+10  194000000.0  \n",
       "6            104000000.0  4.590000e+08  5.153000e+09  101000000.0  \n",
       "7            131000000.0  1.880000e+08  7.914000e+09   76000000.0  \n",
       "8            348000000.0  9.910000e+08  2.632100e+10  154000000.0  \n",
       "9              9000000.0  1.400000e+07  3.710000e+08    2000000.0  "
      ]
     },
     "execution_count": 130,
     "metadata": {},
     "output_type": "execute_result"
    }
   ],
   "source": [
    "# Pays avec le plus de disponibité alimentaire\n",
    "moins_dispo = nb_pers_nourr_2017.groupby([\"Zone\"])[\"Disponibilité alimentaire (Kcal/personne/jour)\",\"Nourriture\",\"Aliments pour animaux\",\n",
    "                                        \"Pertes\",\"Production\",\"Semences\" ].sum().sort_values(by =\"Disponibilité alimentaire (Kcal/personne/jour)\",\t\n",
    "                                        ascending=True).reset_index()\n",
    "moins_dispo.head(10)"
   ]
  },
  {
   "cell_type": "code",
   "execution_count": 131,
   "id": "840a68bd-4f04-4909-a385-83a4673913fe",
   "metadata": {},
   "outputs": [],
   "source": [
    "# creer un mask\n",
    "moins_dispo = moins_dispo[moins_dispo[\"Disponibilité alimentaire (Kcal/personne/jour)\"] <= 2205]"
   ]
  },
  {
   "cell_type": "code",
   "execution_count": 132,
   "id": "35d8a5da-8f95-400b-ad5b-12f9ca463065",
   "metadata": {},
   "outputs": [
    {
     "data": {
      "text/html": [
       "<div>\n",
       "<style scoped>\n",
       "    .dataframe tbody tr th:only-of-type {\n",
       "        vertical-align: middle;\n",
       "    }\n",
       "\n",
       "    .dataframe tbody tr th {\n",
       "        vertical-align: top;\n",
       "    }\n",
       "\n",
       "    .dataframe thead th {\n",
       "        text-align: right;\n",
       "    }\n",
       "</style>\n",
       "<table border=\"1\" class=\"dataframe\">\n",
       "  <thead>\n",
       "    <tr style=\"text-align: right;\">\n",
       "      <th></th>\n",
       "      <th>Zone</th>\n",
       "      <th>Disponibilité alimentaire (Kcal/personne/jour)</th>\n",
       "      <th>Nourriture</th>\n",
       "      <th>Aliments pour animaux</th>\n",
       "      <th>Pertes</th>\n",
       "      <th>Production</th>\n",
       "      <th>Semences</th>\n",
       "      <th>Type</th>\n",
       "    </tr>\n",
       "  </thead>\n",
       "  <tbody>\n",
       "    <tr>\n",
       "      <th>0</th>\n",
       "      <td>République centrafricaine</td>\n",
       "      <td>1879.0</td>\n",
       "      <td>2.092000e+09</td>\n",
       "      <td>1000000.0</td>\n",
       "      <td>1.220000e+08</td>\n",
       "      <td>2.503000e+09</td>\n",
       "      <td>63000000.0</td>\n",
       "      <td>Pays avec le moins de disponibilité</td>\n",
       "    </tr>\n",
       "    <tr>\n",
       "      <th>1</th>\n",
       "      <td>Zambie</td>\n",
       "      <td>1924.0</td>\n",
       "      <td>5.088000e+09</td>\n",
       "      <td>408000000.0</td>\n",
       "      <td>2.420000e+08</td>\n",
       "      <td>1.052600e+10</td>\n",
       "      <td>76000000.0</td>\n",
       "      <td>Pays avec le moins de disponibilité</td>\n",
       "    </tr>\n",
       "    <tr>\n",
       "      <th>2</th>\n",
       "      <td>Madagascar</td>\n",
       "      <td>2056.0</td>\n",
       "      <td>9.741000e+09</td>\n",
       "      <td>842000000.0</td>\n",
       "      <td>9.660000e+08</td>\n",
       "      <td>1.416000e+10</td>\n",
       "      <td>375000000.0</td>\n",
       "      <td>Pays avec le moins de disponibilité</td>\n",
       "    </tr>\n",
       "    <tr>\n",
       "      <th>3</th>\n",
       "      <td>Afghanistan</td>\n",
       "      <td>2087.0</td>\n",
       "      <td>1.073500e+10</td>\n",
       "      <td>768000000.0</td>\n",
       "      <td>1.135000e+09</td>\n",
       "      <td>1.117100e+10</td>\n",
       "      <td>395000000.0</td>\n",
       "      <td>Pays avec le moins de disponibilité</td>\n",
       "    </tr>\n",
       "    <tr>\n",
       "      <th>4</th>\n",
       "      <td>Haïti</td>\n",
       "      <td>2089.0</td>\n",
       "      <td>4.101000e+09</td>\n",
       "      <td>481000000.0</td>\n",
       "      <td>6.790000e+08</td>\n",
       "      <td>5.072000e+09</td>\n",
       "      <td>36000000.0</td>\n",
       "      <td>Pays avec le moins de disponibilité</td>\n",
       "    </tr>\n",
       "  </tbody>\n",
       "</table>\n",
       "</div>"
      ],
      "text/plain": [
       "                        Zone  Disponibilité alimentaire (Kcal/personne/jour)  \\\n",
       "0  République centrafricaine                                          1879.0   \n",
       "1                     Zambie                                          1924.0   \n",
       "2                 Madagascar                                          2056.0   \n",
       "3                Afghanistan                                          2087.0   \n",
       "4                      Haïti                                          2089.0   \n",
       "\n",
       "     Nourriture  Aliments pour animaux        Pertes    Production  \\\n",
       "0  2.092000e+09              1000000.0  1.220000e+08  2.503000e+09   \n",
       "1  5.088000e+09            408000000.0  2.420000e+08  1.052600e+10   \n",
       "2  9.741000e+09            842000000.0  9.660000e+08  1.416000e+10   \n",
       "3  1.073500e+10            768000000.0  1.135000e+09  1.117100e+10   \n",
       "4  4.101000e+09            481000000.0  6.790000e+08  5.072000e+09   \n",
       "\n",
       "      Semences                                 Type  \n",
       "0   63000000.0  Pays avec le moins de disponibilité  \n",
       "1   76000000.0  Pays avec le moins de disponibilité  \n",
       "2  375000000.0  Pays avec le moins de disponibilité  \n",
       "3  395000000.0  Pays avec le moins de disponibilité  \n",
       "4   36000000.0  Pays avec le moins de disponibilité  "
      ]
     },
     "execution_count": 132,
     "metadata": {},
     "output_type": "execute_result"
    }
   ],
   "source": [
    "# création d'une nouvelle colonne\n",
    "moins_dispo[\"Type\"] = \"Pays avec le moins de disponibilité\"\n",
    "moins_dispo.head(5)"
   ]
  },
  {
   "cell_type": "code",
   "execution_count": 133,
   "id": "f4c56bc2-016d-47a0-a062-ee10c5bf4cd0",
   "metadata": {},
   "outputs": [],
   "source": [
    "# suppression des colonnes\n",
    "moins_dispo = moins_dispo.drop(columns = [\"Zone\", \"Disponibilité alimentaire (Kcal/personne/jour)\"])"
   ]
  },
  {
   "cell_type": "code",
   "execution_count": 134,
   "id": "31d5418a-90d5-421d-aa08-22067bf0a538",
   "metadata": {},
   "outputs": [
    {
     "data": {
      "image/png": "[encoded data removed]",
      "text/plain": [
       "<Figure size 1000x2500 with 10 Axes>"
      ]
     },
     "metadata": {},
     "output_type": "display_data"
    }
   ],
   "source": [
    "#     Le nombre d'ordinateurs\n",
    "plt.figure(figsize=(10,25))\n",
    "plt.subplot(5,2,1)\n",
    "sns.boxplot(x = \"Type\", y = 'Nourriture', data = plus_dispo, palette = \"Set2\" )\n",
    "plt.title(\"Disponibilité alimentaire humaine\")\n",
    "\n",
    "plt.subplot(5,2,2)\n",
    "sns.boxplot(x = \"Type\", y = 'Nourriture', data = moins_dispo, palette = \"husl\" )\n",
    "plt.title(\"Disponibilité alimentaire humaine\")\n",
    "\n",
    "plt.subplot(5,2,3)\n",
    "sns.boxplot(x = \"Type\", y = 'Aliments pour animaux', data = plus_dispo, palette = \"Set2\" )\n",
    "plt.title(\"Disponibilité alimentaire animale\")\n",
    "\n",
    "plt.subplot(5,2,4)\n",
    "sns.boxplot(x = \"Type\", y = 'Aliments pour animaux', data = moins_dispo, palette = \"husl\" )\n",
    "plt.title(\"Disponibilité alimentaire animale\")\n",
    "\n",
    "plt.subplot(5,2,5)\n",
    "sns.boxplot(x = \"Type\", y = 'Pertes', data = plus_dispo, palette = \"Set2\" )\n",
    "plt.title(\"Quantité de pertes\")\n",
    "\n",
    "plt.subplot(5,2,6)\n",
    "sns.boxplot(x = \"Type\", y = 'Pertes', data = moins_dispo, palette = \"husl\" )\n",
    "plt.title(\"Quantité de pertes\")\n",
    "\n",
    "plt.subplot(5,2,7)\n",
    "sns.boxplot(x = \"Type\", y = 'Production', data = plus_dispo, palette = \"Set2\" )\n",
    "plt.title(\"Quantité de production\")\n",
    "\n",
    "plt.subplot(5,2,8)\n",
    "sns.boxplot(x = \"Type\", y = 'Production', data = moins_dispo, palette = \"husl\" )\n",
    "plt.title(\"Quantité de production\")\n",
    "\n",
    "plt.subplot(5,2,9)\n",
    "sns.boxplot(x = \"Type\", y = 'Semences', data = plus_dispo, palette = \"Set2\" )\n",
    "plt.title(\"Quantité de semences\")\n",
    "\n",
    "plt.subplot(5,2,10)\n",
    "sns.boxplot(x = \"Type\", y = 'Semences', data = moins_dispo, palette = \"husl\" )\n",
    "plt.title(\"Quantité de semences\")\n",
    "\n",
    "\n",
    "#plt.show()\n",
    "plt.tight_layout()"
   ]
  },
  {
   "cell_type": "markdown",
   "id": "44b9e1c0-172b-4f00-968c-2487c63040e3",
   "metadata": {},
   "source": [
    "* Evolution de la disponibilité alimentaire par année et par pays avec graphique linéaire ou même l'evolution de la population par année, évolution des personnes en sous nutrition"
   ]
  },
  {
   "cell_type": "markdown",
   "id": "b7811386-d858-48b1-bfcc-7e4a1339a543",
   "metadata": {},
   "source": [
    "# 6. Demandes de Julien"
   ]
  },
  {
   "cell_type": "markdown",
   "id": "1fe84d7e-a025-4b06-83f1-8679e2bc9d8f",
   "metadata": {},
   "source": [
    "### 6.1 L’utilisation des céréales"
   ]
  },
  {
   "cell_type": "markdown",
   "id": "03ec310f-ad99-41c8-8386-7dff33bf1aad",
   "metadata": {},
   "source": [
    "* notamment la répartition entre l’alimentation humaine (colonne Nourriture) et l’alimentation\n",
    "  pour animaux. \n",
    "* La liste des céréales peut être trouvée en allant fouiller un peu dans l’onglet\n",
    "  Bilans alimentaires,"
   ]
  },
  {
   "cell_type": "code",
   "execution_count": 135,
   "id": "6b2228aa-e95a-4e82-b6bf-440d3762e5b9",
   "metadata": {},
   "outputs": [
    {
     "data": {
      "text/plain": [
       "array(['Abats Comestible', 'Agrumes, Autres', 'Aliments pour enfants',\n",
       "       'Ananas', 'Bananes', 'Beurre, Ghee', 'Bière', 'Blé',\n",
       "       'Boissons Alcooliques', 'Café', 'Coco (Incl Coprah)', 'Crème',\n",
       "       'Céréales, Autres', 'Dattes', 'Edulcorants Autres',\n",
       "       'Feve de Cacao', 'Fruits, Autres', 'Graines de coton',\n",
       "       'Graines de tournesol', 'Graisses Animales Crue',\n",
       "       'Huil Plantes Oleif Autr', 'Huile Graines de Coton',\n",
       "       \"Huile d'Arachide\", \"Huile d'Olive\", 'Huile de Colza&Moutarde',\n",
       "       'Huile de Palme', 'Huile de Soja', 'Huile de Sésame',\n",
       "       'Huile de Tournesol', 'Lait - Excl Beurre', 'Légumes, Autres',\n",
       "       'Légumineuses Autres', 'Maïs', 'Miel', 'Millet', 'Miscellanees',\n",
       "       'Noix', 'Oeufs', 'Olives', 'Oranges, Mandarines', 'Orge',\n",
       "       'Plantes Oleiferes, Autre', 'Poissons Eau Douce', 'Poivre',\n",
       "       'Pommes', 'Pommes de Terre', 'Raisin', 'Riz (Eq Blanchi)',\n",
       "       'Sucre Eq Brut', 'Sucre, betterave', 'Sucre, canne', 'Sésame',\n",
       "       'Thé', 'Tomates', \"Viande d'Ovins/Caprins\", 'Viande de Bovins',\n",
       "       'Viande de Volailles', 'Viande, Autre', 'Vin', 'Épices, Autres',\n",
       "       'Alcool, non Comestible', 'Animaux Aquatiques Autre',\n",
       "       'Arachides Decortiquees', 'Avoine', 'Bananes plantains',\n",
       "       'Boissons Fermentés', 'Cephalopodes', 'Citrons & Limes',\n",
       "       'Crustacés', 'Girofles', 'Graines Colza/Moutarde', 'Haricots',\n",
       "       'Huile de Coco', 'Huile de Germe de Maïs', 'Huile de Palmistes',\n",
       "       'Huiles de Foie de Poisso', 'Huiles de Poissons', 'Ignames',\n",
       "       'Manioc', 'Mollusques, Autres', 'Oignons', 'Palmistes',\n",
       "       'Pamplemousse', 'Patates douces', 'Perciform', 'Piments',\n",
       "       'Plantes Aquatiques', 'Pois', 'Poissons Marins, Autres',\n",
       "       'Poissons Pelagiques', 'Racines nda', 'Seigle', 'Soja', 'Sorgho',\n",
       "       'Viande de Suides', 'Huile de Son de Riz', 'Sucre non centrifugé',\n",
       "       'Viande de Anim Aquatiq'], dtype=object)"
      ]
     },
     "execution_count": 135,
     "metadata": {},
     "output_type": "execute_result"
    }
   ],
   "source": [
    "# liste des produits en 2017\n",
    "data_dispo[\"Produit\"].unique()"
   ]
  },
  {
   "cell_type": "code",
   "execution_count": 136,
   "id": "73dedf9b-4409-45fd-b31d-81a3c7deb04e",
   "metadata": {},
   "outputs": [
    {
     "data": {
      "text/html": [
       "<div>\n",
       "<style scoped>\n",
       "    .dataframe tbody tr th:only-of-type {\n",
       "        vertical-align: middle;\n",
       "    }\n",
       "\n",
       "    .dataframe tbody tr th {\n",
       "        vertical-align: top;\n",
       "    }\n",
       "\n",
       "    .dataframe thead th {\n",
       "        text-align: right;\n",
       "    }\n",
       "</style>\n",
       "<table border=\"1\" class=\"dataframe\">\n",
       "  <thead>\n",
       "    <tr style=\"text-align: right;\">\n",
       "      <th></th>\n",
       "      <th>Code Produit</th>\n",
       "      <th>Code CPC</th>\n",
       "      <th>Produit</th>\n",
       "    </tr>\n",
       "  </thead>\n",
       "  <tbody>\n",
       "    <tr>\n",
       "      <th>0</th>\n",
       "      <td>2501</td>\n",
       "      <td>'S2501</td>\n",
       "      <td>Population</td>\n",
       "    </tr>\n",
       "    <tr>\n",
       "      <th>1</th>\n",
       "      <td>2511</td>\n",
       "      <td>'S2511</td>\n",
       "      <td>Blé et produits</td>\n",
       "    </tr>\n",
       "    <tr>\n",
       "      <th>2</th>\n",
       "      <td>2513</td>\n",
       "      <td>'S2513</td>\n",
       "      <td>Orge et produits</td>\n",
       "    </tr>\n",
       "    <tr>\n",
       "      <th>3</th>\n",
       "      <td>2514</td>\n",
       "      <td>'S2514</td>\n",
       "      <td>Maïs et produits</td>\n",
       "    </tr>\n",
       "    <tr>\n",
       "      <th>4</th>\n",
       "      <td>2515</td>\n",
       "      <td>'S2515</td>\n",
       "      <td>Seigle et produits</td>\n",
       "    </tr>\n",
       "  </tbody>\n",
       "</table>\n",
       "</div>"
      ],
      "text/plain": [
       "   Code Produit Code CPC             Produit\n",
       "0          2501   'S2501          Population\n",
       "1          2511   'S2511     Blé et produits\n",
       "2          2513   'S2513    Orge et produits\n",
       "3          2514   'S2514    Maïs et produits\n",
       "4          2515   'S2515  Seigle et produits"
      ]
     },
     "execution_count": 136,
     "metadata": {},
     "output_type": "execute_result"
    }
   ],
   "source": [
    "# dataset télécharger dans le site de FAO\n",
    "data_2013 = pd.read_csv(r\"C:\\Users\\diarr\\Downloads\\DAN-P4-FAO\\CODEPRODUITS.csv\",  sep=',', encoding='latin-1')\n",
    "data_2013.head(5)"
   ]
  },
  {
   "cell_type": "code",
   "execution_count": 137,
   "id": "79bd7e0f-056c-4161-88fa-8a4a2e7e4783",
   "metadata": {},
   "outputs": [
    {
     "data": {
      "text/plain": [
       "array(['Population', 'Blé et produits', 'Orge et produits',\n",
       "       'Maïs et produits', 'Seigle et produits', 'Avoine',\n",
       "       'Millet et produits', 'Sorgho et produits', 'Céréales; Autres',\n",
       "       'Pommes de Terre et produits', 'Manioc et produits',\n",
       "       'Patates douces', 'Racines nda', 'Ignames', 'Sucre; canne',\n",
       "       'Sucre; betterave', 'Sucre non centrifugé', 'Sucre Eq Brut',\n",
       "       'Edulcorants Autres', 'Haricots', 'Pois',\n",
       "       'Légumineuses Autres et produits', 'Noix et produits', 'Soja',\n",
       "       'Arachides Decortiquees', 'Graines de tournesol',\n",
       "       'Graines Colza/Moutarde', 'Graines de coton', 'Coco (Incl Coprah)',\n",
       "       'Sésame', 'Palmistes', 'Olives', 'Plantes Oleiferes; Autre',\n",
       "       'Huile de Soja', \"Huile d'Arachide\", 'Huile de Tournesol',\n",
       "       'Huile de Colza&Moutarde', 'Huile Graines de Coton',\n",
       "       'Huile de Palmistes', 'Huile de Palme', 'Huile de Coco',\n",
       "       'Huile de Sésame', \"Huile d'Olive\", 'Huile de Son de Riz',\n",
       "       'Huile de Germe de Maïs', 'Huil Plantes Oleif Autr',\n",
       "       'Tomates et produits', 'Oignons', 'Légumes; autres',\n",
       "       'Oranges; Mandarines', 'Citrons & Limes et produits',\n",
       "       'Pamplemousse et produits', 'Agrumes; Autres', 'Bananes',\n",
       "       'Bananes plantains', 'Pommes et produits', 'Ananas et produits',\n",
       "       'Dattes', 'Raisin', 'Fruits; autres', 'Café et produits',\n",
       "       'Feve de Cacao et produits', 'Thé', 'Poivre', 'Piments',\n",
       "       'Girofles', 'Épices; Autres', 'Vin', 'Bière', 'Boissons Fermentés',\n",
       "       'Boissons Alcooliques', 'Alcool; non Comestible',\n",
       "       'Aliments pour enfants', 'Viande de Bovins',\n",
       "       \"Viande d'Ovins/Caprins\", 'Viande de porcins',\n",
       "       'Viande de Volailles', 'Viande; Autre', 'Abats Comestible',\n",
       "       'Graisses Animales Crue', 'Beurre; Ghee', 'Crème', 'Oeufs', 'Miel',\n",
       "       'Poissons Eau Douce', 'Perciform', 'Poissons Pelagiques',\n",
       "       'Poissons Marins; Autres', 'Crustacés', 'Cephalopodes',\n",
       "       'Mollusques; Autres', 'Viande de Anim Aquatiq',\n",
       "       'Animaux Aquatiques Autre', 'Plantes Aquatiques',\n",
       "       'Huiles de Poissons', 'Huiles de Foie de Poisso',\n",
       "       'Riz (Eq Blanchi)', 'Lait - Excl Beurre', 'Miscellanees',\n",
       "       'Total General', 'Produits Vegetaux', 'Cèrèales - Excl Bière',\n",
       "       'Racines Amyl', 'Cultures Sucrieres', 'Sucre & Edulcorants',\n",
       "       'Légumineuses Sèches', 'Fruit Coque', 'Cultures Oleágineuses',\n",
       "       'Huiles végétales', 'Légumes', 'Fruits - Excl Vin', 'Stimulants',\n",
       "       'Épices', 'Produits Animaux', 'Viande', 'Abats',\n",
       "       'Graisses animales', 'Poisson & Fruits de Mer',\n",
       "       'Produits Aquatiques; Aut'], dtype=object)"
      ]
     },
     "execution_count": 137,
     "metadata": {},
     "output_type": "execute_result"
    }
   ],
   "source": [
    "# liste des produits en 2013\n",
    "data_2013[\"Produit\"].unique()"
   ]
  },
  {
   "cell_type": "markdown",
   "id": "cb7212e8-d317-4bab-9f6f-e0853a6a1a6a",
   "metadata": {},
   "source": [
    "* Nous allons dans le site de la FAO pour charger directement la liste des céréales pour l'année 2013 parceque dans la colonne produit qu'on a , il y'a une différence des produits de types céréales."
   ]
  },
  {
   "cell_type": "code",
   "execution_count": 138,
   "id": "754f58fa-d86b-41b9-a5ad-01b62be84e28",
   "metadata": {},
   "outputs": [],
   "source": [
    "# creer une liste à partir de la liste de produits de 2013\n",
    "liste_cereales = [\"Blé et produits\", \"Riz et produits\", \"Orge et produits\", \"Maïs et produits\", \"Seigle et produits\",\n",
    "                  \"Avoine\", \"Millet et produits\", \"Sorgho et produits\", \"Céréales, Autres\"]"
   ]
  },
  {
   "cell_type": "markdown",
   "id": "e7c43f59-1e78-47e1-9d5f-54b53e33b60c",
   "metadata": {},
   "source": [
    "* Ensuite nous allons utiliser une fonction de python \"isin\" pour comparer la liste des céréales crées en dessus pour vérifier celles qui sont présentes en 2017."
   ]
  },
  {
   "cell_type": "code",
   "execution_count": 139,
   "id": "b98e6ee0-ab6e-4f44-a71c-0ec2baad1568",
   "metadata": {},
   "outputs": [
    {
     "data": {
      "text/html": [
       "<div>\n",
       "<style scoped>\n",
       "    .dataframe tbody tr th:only-of-type {\n",
       "        vertical-align: middle;\n",
       "    }\n",
       "\n",
       "    .dataframe tbody tr th {\n",
       "        vertical-align: top;\n",
       "    }\n",
       "\n",
       "    .dataframe thead th {\n",
       "        text-align: right;\n",
       "    }\n",
       "</style>\n",
       "<table border=\"1\" class=\"dataframe\">\n",
       "  <thead>\n",
       "    <tr style=\"text-align: right;\">\n",
       "      <th></th>\n",
       "      <th>Zone</th>\n",
       "      <th>Produit</th>\n",
       "      <th>Origine</th>\n",
       "      <th>Aliments pour animaux</th>\n",
       "      <th>Autres Utilisations</th>\n",
       "      <th>Disponibilité alimentaire (Kcal/personne/jour)</th>\n",
       "      <th>Disponibilité alimentaire en quantité (kg/personne/an)</th>\n",
       "      <th>Disponibilité de matière grasse en quantité (g/personne/jour)</th>\n",
       "      <th>Disponibilité de protéines en quantité (g/personne/jour)</th>\n",
       "      <th>Disponibilité intérieure</th>\n",
       "      <th>Exportations - Quantité</th>\n",
       "      <th>Importations - Quantité</th>\n",
       "      <th>Nourriture</th>\n",
       "      <th>Pertes</th>\n",
       "      <th>Production</th>\n",
       "      <th>Semences</th>\n",
       "      <th>Traitement</th>\n",
       "      <th>Variation de stock</th>\n",
       "    </tr>\n",
       "  </thead>\n",
       "  <tbody>\n",
       "    <tr>\n",
       "      <th>12</th>\n",
       "      <td>Afghanistan</td>\n",
       "      <td>Céréales, Autres</td>\n",
       "      <td>vegetale</td>\n",
       "      <td>0.0</td>\n",
       "      <td>0.0</td>\n",
       "      <td>0.0</td>\n",
       "      <td>0.00</td>\n",
       "      <td>0.00</td>\n",
       "      <td>0.00</td>\n",
       "      <td>0.0</td>\n",
       "      <td>0.0</td>\n",
       "      <td>0.0</td>\n",
       "      <td>0.0</td>\n",
       "      <td>0.0</td>\n",
       "      <td>0.0</td>\n",
       "      <td>0.0</td>\n",
       "      <td>0.0</td>\n",
       "      <td>0.0</td>\n",
       "    </tr>\n",
       "    <tr>\n",
       "      <th>67</th>\n",
       "      <td>Afrique du Sud</td>\n",
       "      <td>Avoine</td>\n",
       "      <td>vegetale</td>\n",
       "      <td>8000000.0</td>\n",
       "      <td>0.0</td>\n",
       "      <td>5.0</td>\n",
       "      <td>0.75</td>\n",
       "      <td>0.09</td>\n",
       "      <td>0.16</td>\n",
       "      <td>49000000.0</td>\n",
       "      <td>4000000.0</td>\n",
       "      <td>25000000.0</td>\n",
       "      <td>40000000.0</td>\n",
       "      <td>1000000.0</td>\n",
       "      <td>28000000.0</td>\n",
       "      <td>1000000.0</td>\n",
       "      <td>0.0</td>\n",
       "      <td>0.0</td>\n",
       "    </tr>\n",
       "    <tr>\n",
       "      <th>81</th>\n",
       "      <td>Afrique du Sud</td>\n",
       "      <td>Céréales, Autres</td>\n",
       "      <td>vegetale</td>\n",
       "      <td>8000000.0</td>\n",
       "      <td>0.0</td>\n",
       "      <td>1.0</td>\n",
       "      <td>0.07</td>\n",
       "      <td>0.00</td>\n",
       "      <td>0.02</td>\n",
       "      <td>12000000.0</td>\n",
       "      <td>10000000.0</td>\n",
       "      <td>3000000.0</td>\n",
       "      <td>4000000.0</td>\n",
       "      <td>0.0</td>\n",
       "      <td>19000000.0</td>\n",
       "      <td>0.0</td>\n",
       "      <td>0.0</td>\n",
       "      <td>0.0</td>\n",
       "    </tr>\n",
       "    <tr>\n",
       "      <th>162</th>\n",
       "      <td>Albanie</td>\n",
       "      <td>Avoine</td>\n",
       "      <td>vegetale</td>\n",
       "      <td>25000000.0</td>\n",
       "      <td>0.0</td>\n",
       "      <td>1.0</td>\n",
       "      <td>0.13</td>\n",
       "      <td>0.01</td>\n",
       "      <td>0.03</td>\n",
       "      <td>28000000.0</td>\n",
       "      <td>0.0</td>\n",
       "      <td>1000000.0</td>\n",
       "      <td>0.0</td>\n",
       "      <td>1000000.0</td>\n",
       "      <td>27000000.0</td>\n",
       "      <td>1000000.0</td>\n",
       "      <td>0.0</td>\n",
       "      <td>0.0</td>\n",
       "    </tr>\n",
       "    <tr>\n",
       "      <th>176</th>\n",
       "      <td>Albanie</td>\n",
       "      <td>Céréales, Autres</td>\n",
       "      <td>vegetale</td>\n",
       "      <td>0.0</td>\n",
       "      <td>0.0</td>\n",
       "      <td>0.0</td>\n",
       "      <td>0.08</td>\n",
       "      <td>0.00</td>\n",
       "      <td>0.01</td>\n",
       "      <td>0.0</td>\n",
       "      <td>0.0</td>\n",
       "      <td>0.0</td>\n",
       "      <td>0.0</td>\n",
       "      <td>0.0</td>\n",
       "      <td>0.0</td>\n",
       "      <td>0.0</td>\n",
       "      <td>0.0</td>\n",
       "      <td>0.0</td>\n",
       "    </tr>\n",
       "  </tbody>\n",
       "</table>\n",
       "</div>"
      ],
      "text/plain": [
       "               Zone           Produit   Origine  Aliments pour animaux  \\\n",
       "12      Afghanistan  Céréales, Autres  vegetale                    0.0   \n",
       "67   Afrique du Sud            Avoine  vegetale              8000000.0   \n",
       "81   Afrique du Sud  Céréales, Autres  vegetale              8000000.0   \n",
       "162         Albanie            Avoine  vegetale             25000000.0   \n",
       "176         Albanie  Céréales, Autres  vegetale                    0.0   \n",
       "\n",
       "     Autres Utilisations  Disponibilité alimentaire (Kcal/personne/jour)  \\\n",
       "12                   0.0                                             0.0   \n",
       "67                   0.0                                             5.0   \n",
       "81                   0.0                                             1.0   \n",
       "162                  0.0                                             1.0   \n",
       "176                  0.0                                             0.0   \n",
       "\n",
       "     Disponibilité alimentaire en quantité (kg/personne/an)  \\\n",
       "12                                                0.00        \n",
       "67                                                0.75        \n",
       "81                                                0.07        \n",
       "162                                               0.13        \n",
       "176                                               0.08        \n",
       "\n",
       "     Disponibilité de matière grasse en quantité (g/personne/jour)  \\\n",
       "12                                                0.00               \n",
       "67                                                0.09               \n",
       "81                                                0.00               \n",
       "162                                               0.01               \n",
       "176                                               0.00               \n",
       "\n",
       "     Disponibilité de protéines en quantité (g/personne/jour)  \\\n",
       "12                                                0.00          \n",
       "67                                                0.16          \n",
       "81                                                0.02          \n",
       "162                                               0.03          \n",
       "176                                               0.01          \n",
       "\n",
       "     Disponibilité intérieure  Exportations - Quantité  \\\n",
       "12                        0.0                      0.0   \n",
       "67                 49000000.0                4000000.0   \n",
       "81                 12000000.0               10000000.0   \n",
       "162                28000000.0                      0.0   \n",
       "176                       0.0                      0.0   \n",
       "\n",
       "     Importations - Quantité  Nourriture     Pertes  Production   Semences  \\\n",
       "12                       0.0         0.0        0.0         0.0        0.0   \n",
       "67                25000000.0  40000000.0  1000000.0  28000000.0  1000000.0   \n",
       "81                 3000000.0   4000000.0        0.0  19000000.0        0.0   \n",
       "162                1000000.0         0.0  1000000.0  27000000.0  1000000.0   \n",
       "176                      0.0         0.0        0.0         0.0        0.0   \n",
       "\n",
       "     Traitement  Variation de stock  \n",
       "12          0.0                 0.0  \n",
       "67          0.0                 0.0  \n",
       "81          0.0                 0.0  \n",
       "162         0.0                 0.0  \n",
       "176         0.0                 0.0  "
      ]
     },
     "execution_count": 139,
     "metadata": {},
     "output_type": "execute_result"
    }
   ],
   "source": [
    "# création du dataframe à partir de la liste créer au dessus\n",
    "data_cereales = data_dispo.loc[data_dispo['Produit'].isin(liste_cereales),:] \n",
    "data_cereales.head(5)"
   ]
  },
  {
   "cell_type": "code",
   "execution_count": 140,
   "id": "2c52499c-7425-45fd-a690-ea98f35913ac",
   "metadata": {},
   "outputs": [],
   "source": [
    "# création du dataframe à partir de la liste créer au dessus\n",
    "#data_cereales = nb_pers_nourr_2017.loc[nb_pers_nourr_2017['Produit'].isin(liste_cereales),:] \n",
    "#data_cereales.head(5)"
   ]
  },
  {
   "cell_type": "code",
   "execution_count": 141,
   "id": "f2e785d2-3fa8-43e6-b09e-87126e90fbb9",
   "metadata": {},
   "outputs": [
    {
     "data": {
      "text/plain": [
       "array(['Céréales, Autres', 'Avoine'], dtype=object)"
      ]
     },
     "execution_count": 141,
     "metadata": {},
     "output_type": "execute_result"
    }
   ],
   "source": [
    "data_cereales[\"Produit\"].unique()"
   ]
  },
  {
   "cell_type": "code",
   "execution_count": 142,
   "id": "03e4d914-8394-4e5c-b26a-3506b17b4444",
   "metadata": {},
   "outputs": [
    {
     "data": {
      "text/plain": [
       "Aliments pour animaux    35286.0\n",
       "Nourriture                9227.0\n",
       "Pertes                    1299.0\n",
       "Semences                  3688.0\n",
       "Traitement                 196.0\n",
       "Autres Utilisations       1594.0\n",
       "dtype: float64"
      ]
     },
     "execution_count": 142,
     "metadata": {},
     "output_type": "execute_result"
    }
   ],
   "source": [
    "# Disponibilité intérieur pour l'année 2013\n",
    "dispo_int_2013 = round(data_cereales.loc[:, [\"Aliments pour animaux\", \"Nourriture\",\"Pertes\", \"Semences\", \"Traitement\", \"Autres Utilisations\"]].sum()/1000000)\n",
    "dispo_int_2013"
   ]
  },
  {
   "cell_type": "code",
   "execution_count": 143,
   "id": "be07f6cc-b008-45e2-978b-caf5a69678b4",
   "metadata": {},
   "outputs": [],
   "source": [
    "# Les proportions\n",
    "#proportion_2013 = round((data_cereales.loc[:, [\"Aliments pour animaux\", \"Nourriture\",\"Pertes\", \"Semences\", \"Traitement\", \"Autres Utilisations\"]].sum()/1000000/sum(data_cereales[\"Disponibilité intérieure\"]/1000000)*100),2)\n",
    "#proportion_2013"
   ]
  },
  {
   "cell_type": "code",
   "execution_count": 144,
   "id": "3bd3778f-43e8-44f7-8af1-f503a20bdb9b",
   "metadata": {},
   "outputs": [
    {
     "data": {
      "text/plain": [
       "Aliments pour animaux    69.34\n",
       "Nourriture               18.13\n",
       "Pertes                    2.55\n",
       "Semences                  7.25\n",
       "Traitement                0.39\n",
       "Autres Utilisations       3.13\n",
       "dtype: float64"
      ]
     },
     "execution_count": 144,
     "metadata": {},
     "output_type": "execute_result"
    }
   ],
   "source": [
    "# Les proportions\n",
    "proportion_2013 = round((dispo_int_2013/(sum(data_cereales[\"Disponibilité intérieure\"]/1000000))*100),2)\n",
    "proportion_2013"
   ]
  },
  {
   "cell_type": "code",
   "execution_count": 145,
   "id": "c30879dc-c0aa-4562-af51-f5bb079671e1",
   "metadata": {},
   "outputs": [
    {
     "data": {
      "text/html": [
       "<div>\n",
       "<style scoped>\n",
       "    .dataframe tbody tr th:only-of-type {\n",
       "        vertical-align: middle;\n",
       "    }\n",
       "\n",
       "    .dataframe tbody tr th {\n",
       "        vertical-align: top;\n",
       "    }\n",
       "\n",
       "    .dataframe thead th {\n",
       "        text-align: right;\n",
       "    }\n",
       "</style>\n",
       "<table border=\"1\" class=\"dataframe\">\n",
       "  <thead>\n",
       "    <tr style=\"text-align: right;\">\n",
       "      <th></th>\n",
       "      <th>Aliments pour animaux</th>\n",
       "      <th>Nourriture</th>\n",
       "      <th>Pertes</th>\n",
       "      <th>Semences</th>\n",
       "      <th>Traitement</th>\n",
       "      <th>Autres Utilisations</th>\n",
       "    </tr>\n",
       "  </thead>\n",
       "  <tbody>\n",
       "    <tr>\n",
       "      <th>Totale(en tonne)</th>\n",
       "      <td>35286.0</td>\n",
       "      <td>9227.0</td>\n",
       "      <td>1299.0</td>\n",
       "      <td>3688.0</td>\n",
       "      <td>196.0</td>\n",
       "      <td>1594.0</td>\n",
       "    </tr>\n",
       "  </tbody>\n",
       "</table>\n",
       "</div>"
      ],
      "text/plain": [
       "                  Aliments pour animaux  Nourriture  Pertes  Semences  \\\n",
       "Totale(en tonne)                35286.0      9227.0  1299.0    3688.0   \n",
       "\n",
       "                  Traitement  Autres Utilisations  \n",
       "Totale(en tonne)       196.0               1594.0  "
      ]
     },
     "execution_count": 145,
     "metadata": {},
     "output_type": "execute_result"
    }
   ],
   "source": [
    "# convertir en dataframe\n",
    "dispo_int_2013 = pd.DataFrame([dispo_int_2013], index = [\"Totale(en tonne)\"])\n",
    "dispo_int_2013 "
   ]
  },
  {
   "cell_type": "code",
   "execution_count": 146,
   "id": "89657c83-8dd2-4877-b1d3-cdd350062c14",
   "metadata": {},
   "outputs": [
    {
     "data": {
      "text/html": [
       "<div>\n",
       "<style scoped>\n",
       "    .dataframe tbody tr th:only-of-type {\n",
       "        vertical-align: middle;\n",
       "    }\n",
       "\n",
       "    .dataframe tbody tr th {\n",
       "        vertical-align: top;\n",
       "    }\n",
       "\n",
       "    .dataframe thead th {\n",
       "        text-align: right;\n",
       "    }\n",
       "</style>\n",
       "<table border=\"1\" class=\"dataframe\">\n",
       "  <thead>\n",
       "    <tr style=\"text-align: right;\">\n",
       "      <th></th>\n",
       "      <th>Aliments pour animaux</th>\n",
       "      <th>Nourriture</th>\n",
       "      <th>Pertes</th>\n",
       "      <th>Semences</th>\n",
       "      <th>Traitement</th>\n",
       "      <th>Autres Utilisations</th>\n",
       "    </tr>\n",
       "  </thead>\n",
       "  <tbody>\n",
       "    <tr>\n",
       "      <th>Proportion(en %)</th>\n",
       "      <td>69.34</td>\n",
       "      <td>18.13</td>\n",
       "      <td>2.55</td>\n",
       "      <td>7.25</td>\n",
       "      <td>0.39</td>\n",
       "      <td>3.13</td>\n",
       "    </tr>\n",
       "  </tbody>\n",
       "</table>\n",
       "</div>"
      ],
      "text/plain": [
       "                  Aliments pour animaux  Nourriture  Pertes  Semences  \\\n",
       "Proportion(en %)                  69.34       18.13    2.55      7.25   \n",
       "\n",
       "                  Traitement  Autres Utilisations  \n",
       "Proportion(en %)        0.39                 3.13  "
      ]
     },
     "execution_count": 146,
     "metadata": {},
     "output_type": "execute_result"
    }
   ],
   "source": [
    "# convertir en dataframe\n",
    "df_proportion_2013 = pd.DataFrame([proportion_2013], index = [\"Proportion(en %)\"])\n",
    "df_proportion_2013"
   ]
  },
  {
   "cell_type": "code",
   "execution_count": 147,
   "id": "dd4cdad2-1f59-4a59-b297-e7da9a8b73d5",
   "metadata": {},
   "outputs": [
    {
     "data": {
      "text/html": [
       "<div>\n",
       "<style scoped>\n",
       "    .dataframe tbody tr th:only-of-type {\n",
       "        vertical-align: middle;\n",
       "    }\n",
       "\n",
       "    .dataframe tbody tr th {\n",
       "        vertical-align: top;\n",
       "    }\n",
       "\n",
       "    .dataframe thead th {\n",
       "        text-align: right;\n",
       "    }\n",
       "</style>\n",
       "<table border=\"1\" class=\"dataframe\">\n",
       "  <thead>\n",
       "    <tr style=\"text-align: right;\">\n",
       "      <th></th>\n",
       "      <th>Totale(en tonne)</th>\n",
       "      <th>Proportion(en %)</th>\n",
       "    </tr>\n",
       "  </thead>\n",
       "  <tbody>\n",
       "    <tr>\n",
       "      <th>Aliments pour animaux</th>\n",
       "      <td>35286.0</td>\n",
       "      <td>69.34</td>\n",
       "    </tr>\n",
       "    <tr>\n",
       "      <th>Nourriture</th>\n",
       "      <td>9227.0</td>\n",
       "      <td>18.13</td>\n",
       "    </tr>\n",
       "    <tr>\n",
       "      <th>Semences</th>\n",
       "      <td>3688.0</td>\n",
       "      <td>7.25</td>\n",
       "    </tr>\n",
       "    <tr>\n",
       "      <th>Autres Utilisations</th>\n",
       "      <td>1594.0</td>\n",
       "      <td>3.13</td>\n",
       "    </tr>\n",
       "    <tr>\n",
       "      <th>Pertes</th>\n",
       "      <td>1299.0</td>\n",
       "      <td>2.55</td>\n",
       "    </tr>\n",
       "    <tr>\n",
       "      <th>Traitement</th>\n",
       "      <td>196.0</td>\n",
       "      <td>0.39</td>\n",
       "    </tr>\n",
       "  </tbody>\n",
       "</table>\n",
       "</div>"
      ],
      "text/plain": [
       "                       Totale(en tonne)  Proportion(en %)\n",
       "Aliments pour animaux           35286.0             69.34\n",
       "Nourriture                       9227.0             18.13\n",
       "Semences                         3688.0              7.25\n",
       "Autres Utilisations              1594.0              3.13\n",
       "Pertes                           1299.0              2.55\n",
       "Traitement                        196.0              0.39"
      ]
     },
     "execution_count": 147,
     "metadata": {},
     "output_type": "execute_result"
    }
   ],
   "source": [
    "# Concaténer les deux dataframes \n",
    "df_disp_prop_2013 = pd.concat([dispo_int_2013,df_proportion_2013]).T.sort_values(by = \"Proportion(en %)\", ascending = False)\n",
    "df_disp_prop_2013"
   ]
  },
  {
   "cell_type": "code",
   "execution_count": 148,
   "id": "ef49a651-b3b5-41ed-85f3-5f3acf803345",
   "metadata": {},
   "outputs": [
    {
     "data": {
      "image/png": "[encoded data removed]",
      "text/plain": [
       "<Figure size 1500x700 with 1 Axes>"
      ]
     },
     "metadata": {},
     "output_type": "display_data"
    }
   ],
   "source": [
    "# visualisation des produits\n",
    "plt.figure(figsize = (15,7))\n",
    "labels = [\"Aliments pour animaux\", \"Nourriture\", \"Semences\", \"Autres Utilisations\", \"Pertes\", \"Traitement\"]\n",
    "plt.pie(df_disp_prop_2013[\"Proportion(en %)\"], labels = labels, colors = [\"b\", \"y\", \"m\", \"g\",\"r\", \"c\"],\n",
    "        normalize = True,\n",
    "        #explode = [0, 0, 0.2, 0],\n",
    "        autopct = \"%1.0f%%\")\n",
    "plt.title(\"Utilisation des céréales\")\n",
    "plt.legend(bbox_to_anchor=(1, 0, 0.5, 1))\n",
    "plt.show()"
   ]
  },
  {
   "cell_type": "code",
   "execution_count": 149,
   "id": "515c0102-c6a3-437b-997a-343e12f0ff22",
   "metadata": {},
   "outputs": [
    {
     "data": {
      "text/html": [
       "<div>\n",
       "<style scoped>\n",
       "    .dataframe tbody tr th:only-of-type {\n",
       "        vertical-align: middle;\n",
       "    }\n",
       "\n",
       "    .dataframe tbody tr th {\n",
       "        vertical-align: top;\n",
       "    }\n",
       "\n",
       "    .dataframe thead th {\n",
       "        text-align: right;\n",
       "    }\n",
       "</style>\n",
       "<table border=\"1\" class=\"dataframe\">\n",
       "  <thead>\n",
       "    <tr style=\"text-align: right;\">\n",
       "      <th></th>\n",
       "      <th>Zone</th>\n",
       "      <th>Nbre habitant</th>\n",
       "      <th>Personne en sous-alimentation</th>\n",
       "      <th>Proportion (en %)</th>\n",
       "    </tr>\n",
       "  </thead>\n",
       "  <tbody>\n",
       "    <tr>\n",
       "      <th>218</th>\n",
       "      <td>Thaïlande</td>\n",
       "      <td>69209810.0</td>\n",
       "      <td>6200000.0</td>\n",
       "      <td>8.96</td>\n",
       "    </tr>\n",
       "  </tbody>\n",
       "</table>\n",
       "</div>"
      ],
      "text/plain": [
       "          Zone  Nbre habitant  Personne en sous-alimentation  \\\n",
       "218  Thaïlande     69209810.0                      6200000.0   \n",
       "\n",
       "     Proportion (en %)  \n",
       "218               8.96  "
      ]
     },
     "execution_count": 149,
     "metadata": {},
     "output_type": "execute_result"
    }
   ],
   "source": [
    "thai = df_pop_snutri.loc[df_pop_snutri['Zone'] == 'Thaïlande',[\"Zone\",\t\"Nbre habitant\", \"Personne en sous-alimentation\", \"Proportion (en %)\"]]\n",
    "thai.head(5)"
   ]
  },
  {
   "cell_type": "markdown",
   "id": "6a48ff30-9b42-42ab-8ba1-1534f7be9ff0",
   "metadata": {},
   "source": [
    "### 6.2 L'utilisation du manioc par la Thaïlande aux égards de la proportion de personnes en sous-nutrition"
   ]
  },
  {
   "cell_type": "markdown",
   "id": "9120b63e-280d-4f5a-9d6c-2032f0e34dc5",
   "metadata": {},
   "source": [
    "* Nous allons utiliser le dataframe de la disponibilité alimentaire."
   ]
  },
  {
   "cell_type": "code",
   "execution_count": 150,
   "id": "f51aded5-b451-4bc0-872e-1b73a7fde1e1",
   "metadata": {},
   "outputs": [
    {
     "data": {
      "text/html": [
       "<div>\n",
       "<style scoped>\n",
       "    .dataframe tbody tr th:only-of-type {\n",
       "        vertical-align: middle;\n",
       "    }\n",
       "\n",
       "    .dataframe tbody tr th {\n",
       "        vertical-align: top;\n",
       "    }\n",
       "\n",
       "    .dataframe thead th {\n",
       "        text-align: right;\n",
       "    }\n",
       "</style>\n",
       "<table border=\"1\" class=\"dataframe\">\n",
       "  <thead>\n",
       "    <tr style=\"text-align: right;\">\n",
       "      <th></th>\n",
       "      <th>Zone</th>\n",
       "      <th>Produit</th>\n",
       "      <th>Origine</th>\n",
       "      <th>Aliments pour animaux</th>\n",
       "      <th>Autres Utilisations</th>\n",
       "      <th>Disponibilité alimentaire (Kcal/personne/jour)</th>\n",
       "      <th>Disponibilité alimentaire en quantité (kg/personne/an)</th>\n",
       "      <th>Disponibilité de matière grasse en quantité (g/personne/jour)</th>\n",
       "      <th>Disponibilité de protéines en quantité (g/personne/jour)</th>\n",
       "      <th>Disponibilité intérieure</th>\n",
       "      <th>Exportations - Quantité</th>\n",
       "      <th>Importations - Quantité</th>\n",
       "      <th>Nourriture</th>\n",
       "      <th>Pertes</th>\n",
       "      <th>Production</th>\n",
       "      <th>Semences</th>\n",
       "      <th>Traitement</th>\n",
       "      <th>Variation de stock</th>\n",
       "    </tr>\n",
       "  </thead>\n",
       "  <tbody>\n",
       "    <tr>\n",
       "      <th>13809</th>\n",
       "      <td>Thaïlande</td>\n",
       "      <td>Manioc</td>\n",
       "      <td>vegetale</td>\n",
       "      <td>1.800000e+09</td>\n",
       "      <td>2.081000e+09</td>\n",
       "      <td>40.0</td>\n",
       "      <td>13.0</td>\n",
       "      <td>0.05</td>\n",
       "      <td>0.14</td>\n",
       "      <td>6.264000e+09</td>\n",
       "      <td>2.521400e+10</td>\n",
       "      <td>1.250000e+09</td>\n",
       "      <td>871000000.0</td>\n",
       "      <td>1.511000e+09</td>\n",
       "      <td>3.022800e+10</td>\n",
       "      <td>0.0</td>\n",
       "      <td>0.0</td>\n",
       "      <td>0.0</td>\n",
       "    </tr>\n",
       "  </tbody>\n",
       "</table>\n",
       "</div>"
      ],
      "text/plain": [
       "            Zone Produit   Origine  Aliments pour animaux  \\\n",
       "13809  Thaïlande  Manioc  vegetale           1.800000e+09   \n",
       "\n",
       "       Autres Utilisations  Disponibilité alimentaire (Kcal/personne/jour)  \\\n",
       "13809         2.081000e+09                                            40.0   \n",
       "\n",
       "       Disponibilité alimentaire en quantité (kg/personne/an)  \\\n",
       "13809                                               13.0        \n",
       "\n",
       "       Disponibilité de matière grasse en quantité (g/personne/jour)  \\\n",
       "13809                                               0.05               \n",
       "\n",
       "       Disponibilité de protéines en quantité (g/personne/jour)  \\\n",
       "13809                                               0.14          \n",
       "\n",
       "       Disponibilité intérieure  Exportations - Quantité  \\\n",
       "13809              6.264000e+09             2.521400e+10   \n",
       "\n",
       "       Importations - Quantité   Nourriture        Pertes    Production  \\\n",
       "13809             1.250000e+09  871000000.0  1.511000e+09  3.022800e+10   \n",
       "\n",
       "       Semences  Traitement  Variation de stock  \n",
       "13809       0.0         0.0                 0.0  "
      ]
     },
     "execution_count": 150,
     "metadata": {},
     "output_type": "execute_result"
    }
   ],
   "source": [
    "# Creer un mask\n",
    "df_dispo_thai = data_dispo[(data_dispo[\"Zone\"] == 'Thaïlande') & (data_dispo[\"Produit\"] == 'Manioc') ]\n",
    "df_dispo_thai.head(5)"
   ]
  },
  {
   "cell_type": "code",
   "execution_count": 151,
   "id": "d9ae0614-8f30-4bc0-b80e-f4389a4579c6",
   "metadata": {},
   "outputs": [
    {
     "data": {
      "text/plain": [
       "13809    4.279700e+10\n",
       "Name: max_exp, dtype: float64"
      ]
     },
     "execution_count": 151,
     "metadata": {},
     "output_type": "execute_result"
    }
   ],
   "source": [
    "# vérifier la plus grande valeur de l'exportation\n",
    "df_dispo_thai[\"max_exp\"] = nb_pers_nourr_2017[\"Exportations - Quantité\"].max()\n",
    "df_dispo_thai[\"max_exp\"]"
   ]
  },
  {
   "cell_type": "code",
   "execution_count": 152,
   "id": "21eeb8d5-4601-46ca-82c3-6b91eb9b4cfc",
   "metadata": {},
   "outputs": [
    {
     "data": {
      "text/plain": [
       "13809    7.392670e+11\n",
       "Name: max_prod, dtype: float64"
      ]
     },
     "execution_count": 152,
     "metadata": {},
     "output_type": "execute_result"
    }
   ],
   "source": [
    "# vérifier la plus grande valeur de production\n",
    "df_dispo_thai[\"max_prod\"] = nb_pers_nourr_2017[\"Production\"].max()\n",
    "df_dispo_thai[\"max_prod\"]"
   ]
  },
  {
   "cell_type": "markdown",
   "id": "d30c8346-90fb-4135-8ec3-162d2fae6cc7",
   "metadata": {},
   "source": [
    "* Avec la fonction \"max()\" de python , on vient de voir que la Thailande fait parti des plus grands producteurs et exportateurs de manioc dans le monde.\n",
    "* Nous avons aussi le dataframe des personnes en sous nutrition pour chaque pays, pour connaitre la proportion de nombre de personne en sous nutrition par rapport à la population de Thaïlande."
   ]
  },
  {
   "cell_type": "code",
   "execution_count": 153,
   "id": "824d5465-61e4-47cc-93f4-3ed66f1dfca0",
   "metadata": {},
   "outputs": [
    {
     "data": {
      "text/html": [
       "<div>\n",
       "<style scoped>\n",
       "    .dataframe tbody tr th:only-of-type {\n",
       "        vertical-align: middle;\n",
       "    }\n",
       "\n",
       "    .dataframe tbody tr th {\n",
       "        vertical-align: top;\n",
       "    }\n",
       "\n",
       "    .dataframe thead th {\n",
       "        text-align: right;\n",
       "    }\n",
       "</style>\n",
       "<table border=\"1\" class=\"dataframe\">\n",
       "  <thead>\n",
       "    <tr style=\"text-align: right;\">\n",
       "      <th></th>\n",
       "      <th>Zone</th>\n",
       "      <th>Année</th>\n",
       "      <th>Nbre habitant</th>\n",
       "      <th>Personne en sous-alimentation</th>\n",
       "      <th>Proportion (en %)</th>\n",
       "    </tr>\n",
       "  </thead>\n",
       "  <tbody>\n",
       "    <tr>\n",
       "      <th>0</th>\n",
       "      <td>Afghanistan</td>\n",
       "      <td>2017</td>\n",
       "      <td>36296113.0</td>\n",
       "      <td>10500000.0</td>\n",
       "      <td>28.93</td>\n",
       "    </tr>\n",
       "    <tr>\n",
       "      <th>1</th>\n",
       "      <td>Afrique du Sud</td>\n",
       "      <td>2017</td>\n",
       "      <td>57009756.0</td>\n",
       "      <td>3100000.0</td>\n",
       "      <td>5.44</td>\n",
       "    </tr>\n",
       "    <tr>\n",
       "      <th>2</th>\n",
       "      <td>Albanie</td>\n",
       "      <td>2017</td>\n",
       "      <td>2884169.0</td>\n",
       "      <td>100000.0</td>\n",
       "      <td>3.47</td>\n",
       "    </tr>\n",
       "    <tr>\n",
       "      <th>3</th>\n",
       "      <td>Algérie</td>\n",
       "      <td>2017</td>\n",
       "      <td>41389189.0</td>\n",
       "      <td>1300000.0</td>\n",
       "      <td>3.14</td>\n",
       "    </tr>\n",
       "    <tr>\n",
       "      <th>4</th>\n",
       "      <td>Allemagne</td>\n",
       "      <td>2017</td>\n",
       "      <td>82658409.0</td>\n",
       "      <td>0.0</td>\n",
       "      <td>0.00</td>\n",
       "    </tr>\n",
       "  </tbody>\n",
       "</table>\n",
       "</div>"
      ],
      "text/plain": [
       "             Zone  Année  Nbre habitant  Personne en sous-alimentation  \\\n",
       "0     Afghanistan   2017     36296113.0                     10500000.0   \n",
       "1  Afrique du Sud   2017     57009756.0                      3100000.0   \n",
       "2         Albanie   2017      2884169.0                       100000.0   \n",
       "3         Algérie   2017     41389189.0                      1300000.0   \n",
       "4       Allemagne   2017     82658409.0                            0.0   \n",
       "\n",
       "   Proportion (en %)  \n",
       "0              28.93  \n",
       "1               5.44  \n",
       "2               3.47  \n",
       "3               3.14  \n",
       "4               0.00  "
      ]
     },
     "execution_count": 153,
     "metadata": {},
     "output_type": "execute_result"
    }
   ],
   "source": [
    "df_pop_snutri.head(5)"
   ]
  },
  {
   "cell_type": "code",
   "execution_count": 154,
   "id": "9460b260-e08d-4b12-bca4-15ab94a0141d",
   "metadata": {},
   "outputs": [
    {
     "data": {
      "text/html": [
       "<div>\n",
       "<style scoped>\n",
       "    .dataframe tbody tr th:only-of-type {\n",
       "        vertical-align: middle;\n",
       "    }\n",
       "\n",
       "    .dataframe tbody tr th {\n",
       "        vertical-align: top;\n",
       "    }\n",
       "\n",
       "    .dataframe thead th {\n",
       "        text-align: right;\n",
       "    }\n",
       "</style>\n",
       "<table border=\"1\" class=\"dataframe\">\n",
       "  <thead>\n",
       "    <tr style=\"text-align: right;\">\n",
       "      <th></th>\n",
       "      <th>Zone</th>\n",
       "      <th>Année</th>\n",
       "      <th>Nbre habitant</th>\n",
       "      <th>Personne en sous-alimentation</th>\n",
       "      <th>Proportion (en %)</th>\n",
       "    </tr>\n",
       "  </thead>\n",
       "  <tbody>\n",
       "    <tr>\n",
       "      <th>218</th>\n",
       "      <td>Thaïlande</td>\n",
       "      <td>2017</td>\n",
       "      <td>69209810.0</td>\n",
       "      <td>6200000.0</td>\n",
       "      <td>8.96</td>\n",
       "    </tr>\n",
       "  </tbody>\n",
       "</table>\n",
       "</div>"
      ],
      "text/plain": [
       "          Zone  Année  Nbre habitant  Personne en sous-alimentation  \\\n",
       "218  Thaïlande   2017     69209810.0                      6200000.0   \n",
       "\n",
       "     Proportion (en %)  \n",
       "218               8.96  "
      ]
     },
     "execution_count": 154,
     "metadata": {},
     "output_type": "execute_result"
    }
   ],
   "source": [
    "# Creer un mask\n",
    "pop_snutri_thai = df_pop_snutri[df_pop_snutri[\"Zone\"] == \"Thaïlande\"]\n",
    "pop_snutri_thai"
   ]
  },
  {
   "cell_type": "markdown",
   "id": "76dbc954-1f2b-4183-8531-e01e19fb8573",
   "metadata": {},
   "source": [
    "* Maintenant nous allons faire le rapport entre la production et l'exportation du manioc en Thaïlande."
   ]
  },
  {
   "cell_type": "code",
   "execution_count": 155,
   "id": "3eb344de-28eb-41aa-81b7-7129415a82d3",
   "metadata": {},
   "outputs": [
    {
     "data": {
      "text/plain": [
       "30228000000"
      ]
     },
     "execution_count": 155,
     "metadata": {},
     "output_type": "execute_result"
    }
   ],
   "source": [
    "# somme de la production\n",
    "r_prod = round(sum(df_dispo_thai[\"Production\"]))\n",
    "r_prod"
   ]
  },
  {
   "cell_type": "code",
   "execution_count": 156,
   "id": "c013f884-286a-4f20-8405-f6d84c1e296c",
   "metadata": {},
   "outputs": [
    {
     "data": {
      "text/plain": [
       "25214000000"
      ]
     },
     "execution_count": 156,
     "metadata": {},
     "output_type": "execute_result"
    }
   ],
   "source": [
    "# somme de l'exportation\n",
    "r_exp = round(sum(df_dispo_thai[\"Exportations - Quantité\"]))\n",
    "r_exp"
   ]
  },
  {
   "cell_type": "code",
   "execution_count": 157,
   "id": "529cf24a-81f6-40a7-be73-67d3823f8762",
   "metadata": {},
   "outputs": [
    {
     "data": {
      "text/plain": [
       "119.89"
      ]
     },
     "execution_count": 157,
     "metadata": {},
     "output_type": "execute_result"
    }
   ],
   "source": [
    "# rapport entre la production et l'exportation\n",
    "r_prod_exp = round((r_prod/r_exp)*100,2)\n",
    "r_prod_exp"
   ]
  },
  {
   "cell_type": "code",
   "execution_count": 158,
   "id": "8f815c59-2d42-40ce-a0f0-0f9089559e8d",
   "metadata": {},
   "outputs": [
    {
     "data": {
      "text/plain": [
       "83.41"
      ]
     },
     "execution_count": 158,
     "metadata": {},
     "output_type": "execute_result"
    }
   ],
   "source": [
    "# rapport entre la production et l'exportation\n",
    "r_exp_prod = round((r_exp/r_prod)*100,2)\n",
    "r_exp_prod"
   ]
  },
  {
   "cell_type": "markdown",
   "id": "144a37c0-15bc-4290-9a8e-11c3728d8c80",
   "metadata": {},
   "source": [
    "#### La quantité de production est 119 fois à l'exportation de la quantité de manioc. Celà confirme que la Thaïlande en est le premier exportateur et producteur mondial de manioc qu'il ne peut tout exporter.\n",
    "\n",
    "#### Cette augmentation est due à la demande croissante en alimentation animale dans les fermes laitières de Nouvelle-Zélande."
   ]
  },
  {
   "cell_type": "markdown",
   "id": "635fabf7-b8e0-46da-a550-df0d3e27fe74",
   "metadata": {},
   "source": [
    "* Ce pendant cette grande quantité de manioc produite ne peut pas seulement éviter la sous nutrition parceque on ne peut pas se nourrir seulement du manioc, en plus L'économie de la Thaïlande est selon le FMI une économie de pays émergent, fortement dépendante de ses exportations qui représentent plus de la moitié du PIB, qui est en 2015,\n",
    "\n",
    "https://fr.wikipedia.org/wiki/%C3%89conomie_de_la_Tha%C3%AFlande\n",
    "\n",
    "https://www.golden-trade.com/cnt/gt/manioc-3225-a.html#:~:text=La%20Tha%C3%AFlande%2C%20avec%2018%20millions,aux%20industries%20alimentaires%20non%20alimentaires\n",
    "\n",
    "https://www.chine-magazine.com/la-thailande-exporte-son-manioc-vers-la-chine/."
   ]
  },
  {
   "cell_type": "markdown",
   "id": "ff4b955c-1ce4-471c-bb7e-45c796ed7f3e",
   "metadata": {},
   "source": [
    "* Cette augmentation est due à la demande croissante en alimentation animale dans les fermes laitières de Nouvelle-Zélande. 80 % des exportations sont constituées de  pulpe de manioc sèche."
   ]
  },
  {
   "cell_type": "markdown",
   "id": "4f112195-6fcc-4e24-b2b5-65797bf45cf6",
   "metadata": {},
   "source": [
    "* La Thaïlande, avec 18 millions de tonnes par an est le premier producteur mondial de manioc. Près de 50% de sa production annuelle de racines de manioc est utlisé pour extraire 2 millions de tonnes d'amidon. Le reste sert aux industries alimentaires non alimentaires"
   ]
  },
  {
   "cell_type": "markdown",
   "id": "c8765d8d-4cdc-41ae-942f-8aad272cf57e",
   "metadata": {},
   "source": [
    "### Vérifier en Afrique avec le Nigéria qui est un grand producteur de Manioc"
   ]
  },
  {
   "cell_type": "code",
   "execution_count": 159,
   "id": "93cb8caf-24bc-4a76-9e77-70b270e637b8",
   "metadata": {},
   "outputs": [
    {
     "data": {
      "text/html": [
       "<div>\n",
       "<style scoped>\n",
       "    .dataframe tbody tr th:only-of-type {\n",
       "        vertical-align: middle;\n",
       "    }\n",
       "\n",
       "    .dataframe tbody tr th {\n",
       "        vertical-align: top;\n",
       "    }\n",
       "\n",
       "    .dataframe thead th {\n",
       "        text-align: right;\n",
       "    }\n",
       "</style>\n",
       "<table border=\"1\" class=\"dataframe\">\n",
       "  <thead>\n",
       "    <tr style=\"text-align: right;\">\n",
       "      <th></th>\n",
       "      <th>Zone</th>\n",
       "      <th>Produit</th>\n",
       "      <th>Origine</th>\n",
       "      <th>Aliments pour animaux</th>\n",
       "      <th>Autres Utilisations</th>\n",
       "      <th>Disponibilité alimentaire (Kcal/personne/jour)</th>\n",
       "      <th>Disponibilité alimentaire en quantité (kg/personne/an)</th>\n",
       "      <th>Disponibilité de matière grasse en quantité (g/personne/jour)</th>\n",
       "      <th>Disponibilité de protéines en quantité (g/personne/jour)</th>\n",
       "      <th>Disponibilité intérieure</th>\n",
       "      <th>Exportations - Quantité</th>\n",
       "      <th>Importations - Quantité</th>\n",
       "      <th>Nourriture</th>\n",
       "      <th>Pertes</th>\n",
       "      <th>Production</th>\n",
       "      <th>Semences</th>\n",
       "      <th>Traitement</th>\n",
       "      <th>Variation de stock</th>\n",
       "    </tr>\n",
       "  </thead>\n",
       "  <tbody>\n",
       "    <tr>\n",
       "      <th>9830</th>\n",
       "      <td>Nigéria</td>\n",
       "      <td>Manioc</td>\n",
       "      <td>vegetale</td>\n",
       "      <td>2.628800e+10</td>\n",
       "      <td>0.0</td>\n",
       "      <td>262.0</td>\n",
       "      <td>118.86</td>\n",
       "      <td>0.58</td>\n",
       "      <td>1.22</td>\n",
       "      <td>5.300400e+10</td>\n",
       "      <td>11000000.0</td>\n",
       "      <td>15000000.0</td>\n",
       "      <td>2.063600e+10</td>\n",
       "      <td>6.080000e+09</td>\n",
       "      <td>5.300000e+10</td>\n",
       "      <td>0.0</td>\n",
       "      <td>0.0</td>\n",
       "      <td>0.0</td>\n",
       "    </tr>\n",
       "  </tbody>\n",
       "</table>\n",
       "</div>"
      ],
      "text/plain": [
       "         Zone Produit   Origine  Aliments pour animaux  Autres Utilisations  \\\n",
       "9830  Nigéria  Manioc  vegetale           2.628800e+10                  0.0   \n",
       "\n",
       "      Disponibilité alimentaire (Kcal/personne/jour)  \\\n",
       "9830                                           262.0   \n",
       "\n",
       "      Disponibilité alimentaire en quantité (kg/personne/an)  \\\n",
       "9830                                             118.86        \n",
       "\n",
       "      Disponibilité de matière grasse en quantité (g/personne/jour)  \\\n",
       "9830                                               0.58               \n",
       "\n",
       "      Disponibilité de protéines en quantité (g/personne/jour)  \\\n",
       "9830                                               1.22          \n",
       "\n",
       "      Disponibilité intérieure  Exportations - Quantité  \\\n",
       "9830              5.300400e+10               11000000.0   \n",
       "\n",
       "      Importations - Quantité    Nourriture        Pertes    Production  \\\n",
       "9830               15000000.0  2.063600e+10  6.080000e+09  5.300000e+10   \n",
       "\n",
       "      Semences  Traitement  Variation de stock  \n",
       "9830       0.0         0.0                 0.0  "
      ]
     },
     "execution_count": 159,
     "metadata": {},
     "output_type": "execute_result"
    }
   ],
   "source": [
    "# Creer un mask\n",
    "df_dispo_nig = data_dispo[(data_dispo[\"Zone\"] == 'Nigéria') & (data_dispo[\"Produit\"] == 'Manioc') ]\n",
    "df_dispo_nig.head(5)"
   ]
  },
  {
   "cell_type": "code",
   "execution_count": 160,
   "id": "0301b42e-1dd6-4464-9666-00e509f02171",
   "metadata": {},
   "outputs": [
    {
     "data": {
      "text/plain": [
       "481818.1818181818"
      ]
     },
     "execution_count": 160,
     "metadata": {},
     "output_type": "execute_result"
    }
   ],
   "source": [
    "raport = (sum(df_dispo_nig[\"Production\"])/(sum(df_dispo_nig[\"Exportations - Quantité\"])))*100\n",
    "raport "
   ]
  },
  {
   "cell_type": "code",
   "execution_count": null,
   "id": "8154ba64-98e6-4cac-b010-b83f2b1edfcd",
   "metadata": {},
   "outputs": [],
   "source": []
  }
 ],
 "metadata": {
  "kernelspec": {
   "display_name": "Python 3 (ipykernel)",
   "language": "python",
   "name": "python3"
  },
  "language_info": {
   "codemirror_mode": {
    "name": "ipython",
    "version": 3
   },
   "file_extension": ".py",
   "mimetype": "text/x-python",
   "name": "python",
   "nbconvert_exporter": "python",
   "pygments_lexer": "ipython3",
   "version": "3.9.16"
  }
 },
 "nbformat": 4,
 "nbformat_minor": 5
}
